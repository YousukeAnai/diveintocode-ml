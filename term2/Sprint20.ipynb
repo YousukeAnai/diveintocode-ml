{
 "cells": [
  {
   "cell_type": "markdown",
   "metadata": {},
   "source": [
    "## Sprint20 セグメンテーション2\n",
    "\n",
    "#### 1.このSprintについて\n",
    "\n",
    "##### Sprintの目的\n",
    "セグメンテーションの精度を向上させる\n",
    "\n",
    "##### どのように学ぶか\n",
    "Kaggleコンペティションの情報を参考にセグメンテーションの精度を向上させます。\n",
    "\n",
    "#### 2.セグメンテーションの精度向上\n",
    "前回に引き続きTGS Salt Identification Challengのデータセットの学習・推定を行います。\n",
    "\n",
    "TGS Salt Identification Challenge | Kaggle\n",
    "\n",
    "### 【問題1】コードレビュー \n",
    "転移学習を使用してセグメンテーションの精度を改善したコードを提示するので、レビューを行ってください。\n",
    "##### 《視点例》\n",
    "前回使用した実装とはどのように違うのか  \n",
    "転移学習をどのように行っているか"
   ]
  },
  {
   "cell_type": "markdown",
   "metadata": {},
   "source": [
    "#### 【回答】\n",
    "##### 前回使用した実装とはどのように違うのか\n",
    "・デコーダについて、前回はCONV2回実施していたのを、CONV1回＋BatchNormalizationしている  \n",
    "・エンコーダについて、前回はCONV2回＋MAXプーリングしていたのを、RESNETを使っている。  \n",
    "・トレーニング時に、ReduceLROnPlateauを用いてトレーニング状態に応じて、学習率を小さくできる用意している。"
   ]
  },
  {
   "cell_type": "markdown",
   "metadata": {},
   "source": [
    "##### 転移学習をどのように行っているか\n",
    "weights='imagenet' でkerasから学習済み重みの読み込んでいる。"
   ]
  },
  {
   "cell_type": "markdown",
   "metadata": {},
   "source": [
    "### 【問題2】コードの書き換え \n",
    "エンコーダーにResNetが使用されていたコードをVGGに変更してください。"
   ]
  },
  {
   "cell_type": "markdown",
   "metadata": {},
   "source": [
    "##### 【回答】  \n",
    "Sprint20_VGGNET.ipynb　に記載。"
   ]
  },
  {
   "cell_type": "markdown",
   "metadata": {},
   "source": [
    "### 【問題3】学習・推定 \n",
    "ResNetとVGG双方のコードで学習・推定を行い、結果を比較してください。"
   ]
  },
  {
   "cell_type": "markdown",
   "metadata": {},
   "source": [
    "##### 【回答】\n",
    "Sprint20_RESNET.ipynb　＿＿RESNETの結果  \n",
    "Sprint20_VGGNET.ipynb　＿＿VGGNETの結果  \n",
    "\n",
    "両者を比較した結果、IOUの平均値が以下のようにRESNETの方が高精度だった。  \n",
    "　RESNET　：　0.41  \n",
    "　VGGNET　：　0.06"
   ]
  }
 ],
 "metadata": {
  "kernelspec": {
   "display_name": "Python 3",
   "language": "python",
   "name": "python3"
  },
  "language_info": {
   "codemirror_mode": {
    "name": "ipython",
    "version": 3
   },
   "file_extension": ".py",
   "mimetype": "text/x-python",
   "name": "python",
   "nbconvert_exporter": "python",
   "pygments_lexer": "ipython3",
   "version": "3.6.5"
  }
 },
 "nbformat": 4,
 "nbformat_minor": 2
}
