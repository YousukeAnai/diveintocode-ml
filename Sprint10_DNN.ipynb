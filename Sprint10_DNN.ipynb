{
 "cells": [
  {
   "cell_type": "code",
   "execution_count": 1,
   "metadata": {},
   "outputs": [],
   "source": [
    "import pandas as pd\n",
    "import matplotlib.pyplot as plt\n",
    "import numpy as np\n",
    "import math\n",
    "from sklearn.metrics import accuracy_score\n",
    "from sklearn import metrics\n",
    "from sklearn.metrics import confusion_matrix"
   ]
  },
  {
   "cell_type": "code",
   "execution_count": 2,
   "metadata": {},
   "outputs": [
    {
     "name": "stderr",
     "output_type": "stream",
     "text": [
      "C:\\Users\\anai\\Anaconda3\\lib\\site-packages\\h5py\\__init__.py:36: FutureWarning: Conversion of the second argument of issubdtype from `float` to `np.floating` is deprecated. In future, it will be treated as `np.float64 == np.dtype(float).type`.\n",
      "  from ._conv import register_converters as _register_converters\n",
      "Using TensorFlow backend.\n"
     ]
    }
   ],
   "source": [
    "from keras.datasets import mnist\n",
    "(X_train, y_train), (X_test, y_test) = mnist.load_data()"
   ]
  },
  {
   "cell_type": "code",
   "execution_count": 3,
   "metadata": {},
   "outputs": [],
   "source": [
    "X_train = X_train.reshape(-1, 784)\n",
    "X_test = X_test.reshape(-1, 784)\n",
    "\n",
    "X_train = X_train.astype(np.float)\n",
    "X_test = X_test.astype(np.float)\n",
    "X_train /= 255\n",
    "X_test /= 255\n",
    "\n",
    "from sklearn.preprocessing import OneHotEncoder\n",
    "enc = OneHotEncoder(handle_unknown='ignore', sparse=False)\n",
    "y_train_one_hot = enc.fit_transform(y_train[:, np.newaxis])\n",
    "y_test_one_hot = enc.transform(y_test[:, np.newaxis])\n",
    "\n",
    "from sklearn.model_selection import train_test_split\n",
    "X_train, X_val, y_train, y_val = train_test_split(X_train, y_train_one_hot, test_size=0.2)"
   ]
  },
  {
   "cell_type": "code",
   "execution_count": 4,
   "metadata": {},
   "outputs": [],
   "source": [
    "class FC:\n",
    "    \"\"\"\n",
    "    ノード数n_nodes1からn_nodes2への全結合層\n",
    "    Parameters\n",
    "    ----------\n",
    "    n_nodes1 : int\n",
    "      前の層のノード数\n",
    "    n_nodes2 : int\n",
    "      後の層のノード数\n",
    "    initializer : 初期化方法のインスタンス\n",
    "    optimizer : 最適化手法のインスタンス\n",
    "    \"\"\"\n",
    "    def __init__(self, n_nodes1, n_nodes2, initializer, optimizer):\n",
    "        # 初期化\n",
    "        # initializerのメソッドを使い、self.Wとself.Bを初期化する\n",
    "        self.n_nodes1 = n_nodes1\n",
    "        self.n_nodes2 = n_nodes2\n",
    "        self.optimizer = optimizer\n",
    "        self.W = initializer.W(self.n_nodes1, self.n_nodes2)\n",
    "        self.B = initializer.B(self.n_nodes2)\n",
    "        \n",
    "    def forward(self, X):\n",
    "        \"\"\"\n",
    "        フォワード\n",
    "        Parameters\n",
    "        ----------\n",
    "        X : 次の形のndarray, shape (batch_size, n_nodes_bf)\n",
    "            入力\n",
    "        Returns\n",
    "        ----------\n",
    "        A : 次の形のndarray, shape (batch_size, n_nodes_af)\n",
    "            出力\n",
    "        \"\"\"\n",
    "        self.X = X\n",
    "        #display(self.X.shape)\n",
    "        #display(self.W.shape)\n",
    "        #display(self.B.shape)\n",
    "        A = np.dot(self.X, self.W) +  self.B\n",
    "        #display(A.shape)\n",
    "        return A\n",
    "\n",
    "    def backward(self, dA):\n",
    "        \"\"\"\n",
    "        バックワード\n",
    "        Parameters\n",
    "        ----------\n",
    "        dA : 次の形のndarray, shape (batch_size, n_nodes2)\n",
    "            後ろから流れてきた勾配\n",
    "        Returns\n",
    "        ----------\n",
    "        dZ : 次の形のndarray, shape (batch_size, n_nodes1)\n",
    "            前に流す勾配\n",
    "        \"\"\"\n",
    "        dB = np.sum(dA, axis=0)\n",
    "        dW = np.dot(self.X.T, dA)\n",
    "        dZ = np.dot(dA, self.W.T)     \n",
    "\n",
    "        # 更新\n",
    "        #self = self.optimizer.update(dW, dB, self.W, self.W)\n",
    "        self.W = self.optimizer.update(dW, self.W)\n",
    "        self.B = self.optimizer.update(dB, self.B)\n",
    "\n",
    "        return dZ\n"
   ]
  },
  {
   "cell_type": "code",
   "execution_count": 5,
   "metadata": {},
   "outputs": [],
   "source": [
    "class SimpleInitializer:\n",
    "    \"\"\"\n",
    "    ガウス分布によるシンプルな初期化\n",
    "    Parameters\n",
    "    ----------\n",
    "    sigma : float\n",
    "      ガウス分布の標準偏差\n",
    "    \"\"\"\n",
    "    def __init__(self, sigma):\n",
    "        self.sigma = sigma\n",
    "        #display(self.sigma.Calc)\n",
    "    def W(self, n_nodes1, n_nodes2):\n",
    "        \"\"\"\n",
    "        重みの初期化\n",
    "        Parameters\n",
    "        ----------\n",
    "        n_nodes1 : int\n",
    "          前の層のノード数\n",
    "        n_nodes2 : int\n",
    "          後の層のノード数\n",
    "\n",
    "        Returns\n",
    "        ----------\n",
    "        W :\n",
    "        \"\"\"\n",
    "        W = self.sigma * np.random.randn(n_nodes1, n_nodes2)\n",
    "        return W\n",
    "    \n",
    "    def B(self, n_nodes2):\n",
    "        \"\"\"\n",
    "        バイアスの初期化\n",
    "        Parameters\n",
    "        ----------\n",
    "        n_nodes2 : int\n",
    "          後の層のノード数\n",
    "\n",
    "        Returns\n",
    "        ----------\n",
    "        B :\n",
    "        \"\"\"\n",
    "        B = self.sigma * np.random.randn(1, n_nodes2)\n",
    "        return B"
   ]
  },
  {
   "cell_type": "code",
   "execution_count": 6,
   "metadata": {},
   "outputs": [],
   "source": [
    "class SGD:\n",
    "    \"\"\"\n",
    "    確率的勾配降下法\n",
    "    Parameters\n",
    "    ----------\n",
    "    lr : 学習率\n",
    "    \"\"\"\n",
    "    def __init__(self, lr):\n",
    "        self.lr = lr\n",
    "\n",
    "    def update(self, dWorB, WorB):\n",
    "        \"\"\"\n",
    "        ある層の重みやバイアスの更新\n",
    "        Parameters\n",
    "        ----------\n",
    "        layer : 更新前の層のインスタンス\n",
    "\n",
    "        Returns\n",
    "        ----------\n",
    "        layer : 更新後の層のインスタンス\n",
    "        \"\"\"\n",
    "        self.WorB = WorB\n",
    "        self.WorB -= self.lr*dWorB\n",
    "        return self.WorB"
   ]
  },
  {
   "cell_type": "code",
   "execution_count": 7,
   "metadata": {},
   "outputs": [],
   "source": [
    "class Activation:\n",
    "    \"\"\"\n",
    "    活性化関数　tanh\n",
    "    Parameters\n",
    "    ----------\n",
    "    \"\"\"\n",
    "    def __init__(self, how_act):\n",
    "        self.how_act = how_act\n",
    "    \n",
    "    def forward(self, X):\n",
    "        \"\"\"\n",
    "        フォワード\n",
    "        Parameters\n",
    "        ----------\n",
    "        X : 次の形のndarray, shape (batch_size, n_nodes_bf)\n",
    "            入力\n",
    "        Returns\n",
    "        ----------\n",
    "        A : 次の形のndarray, shape (batch_size, n_nodes_af)\n",
    "            出力\n",
    "        \"\"\"\n",
    "        self.X = X\n",
    "        if self.how_act is \"tanh\":\n",
    "            Z = np.tanh(self.X)\n",
    "        elif self.how_act is \"relu\":\n",
    "            Z = np.clip(self.X, 0, None)             \n",
    "        return Z\n",
    "\n",
    "    def backward(self, dZ):\n",
    "        \"\"\"\n",
    "        バックワード\n",
    "        Parameters\n",
    "        ----------\n",
    "        dA : 次の形のndarray, shape (batch_size, n_nodes2)\n",
    "            後ろから流れてきた勾配\n",
    "        Returns\n",
    "        ----------\n",
    "        dZ : 次の形のndarray, shape (batch_size, n_nodes1)\n",
    "            前に流す勾配\n",
    "        \"\"\"\n",
    "        if self.how_act is \"tanh\":\n",
    "            dA = dZ * (1 - np.tanh(self.X)**2)\n",
    "        elif self.how_act is \"relu\":\n",
    "            dA = dZ * np.clip(np.sign(self.X), 0, None)\n",
    "            #if dZ>0:\n",
    "            #    dA = 1\n",
    "            #else:\n",
    "            #    dA =0            \n",
    "        return dA\n",
    "\n",
    "    def softmax_fw(self, X, y):\n",
    "        \"\"\"\n",
    "        フォワード\n",
    "        Parameters\n",
    "        ----------\n",
    "        X : 次の形のndarray, shape (batch_size, n_nodes_bf)\n",
    "            入力\n",
    "        Returns\n",
    "        ----------\n",
    "        A : 次の形のndarray, shape (batch_size, n_nodes_af)\n",
    "            出力\n",
    "        \"\"\"     \n",
    "        Z = np.exp(X) / np.sum(np.exp(X), axis=1).reshape(-1,1)\n",
    "        return Z\n",
    "\n",
    "    def softmax_bw(self, Z, y):\n",
    "        \"\"\"\n",
    "        バックワード\n",
    "        Parameters\n",
    "        ----------\n",
    "        dA : 次の形のndarray, shape (batch_size, n_nodes2)\n",
    "            後ろから流れてきた勾配\n",
    "        Returns\n",
    "        ----------\n",
    "        dZ : 次の形のndarray, shape (batch_size, n_nodes1)\n",
    "            前に流す勾配\n",
    "        \"\"\"\n",
    "        dA = Z - y\n",
    "        return dA\n",
    "\n",
    "    def entropy(self, Z, y):\n",
    "        \"\"\"\n",
    "        フォワード\n",
    "        Parameters\n",
    "        ----------\n",
    "        X : 次の形のndarray, shape (batch_size, n_nodes_bf)\n",
    "            入力\n",
    "        Returns\n",
    "        ----------\n",
    "        A : 次の形のndarray, shape (batch_size, n_nodes_af)\n",
    "            出力\n",
    "        \"\"\"     \n",
    "        L = -1*np.average(np.sum(y * np.log(Z), axis=1), axis=0)\n",
    "        return L"
   ]
  },
  {
   "cell_type": "code",
   "execution_count": 8,
   "metadata": {},
   "outputs": [],
   "source": [
    "class Relu:\n",
    "    \"\"\"\n",
    "    活性化関数　tanh\n",
    "    Parameters\n",
    "    ----------\n",
    "    \"\"\"\n",
    "    def __init__(self):\n",
    "        pass\n",
    "    def forward(self, X):\n",
    "        \"\"\"\n",
    "        フォワード\n",
    "        Parameters\n",
    "        ----------\n",
    "        X : 次の形のndarray, shape (batch_size, n_nodes_bf)\n",
    "            入力\n",
    "        Returns\n",
    "        ----------\n",
    "        A : 次の形のndarray, shape (batch_size, n_nodes_af)\n",
    "            出力\n",
    "        \"\"\"     \n",
    "        if X>0:\n",
    "            Z = X\n",
    "        else:\n",
    "            Z =0            \n",
    "        return Z\n",
    "\n",
    "    def backward(self, dZ):\n",
    "        \"\"\"\n",
    "        バックワード\n",
    "        Parameters\n",
    "        ----------\n",
    "        dA : 次の形のndarray, shape (batch_size, n_nodes2)\n",
    "            後ろから流れてきた勾配\n",
    "        Returns\n",
    "        ----------\n",
    "        dZ : 次の形のndarray, shape (batch_size, n_nodes1)\n",
    "            前に流す勾配\n",
    "        \"\"\"\n",
    "        if dZ>0:\n",
    "            dA = 1\n",
    "        else:\n",
    "            dA =0            \n",
    "        return dA\n"
   ]
  },
  {
   "cell_type": "code",
   "execution_count": 9,
   "metadata": {},
   "outputs": [],
   "source": [
    "class Sigma_ini:\n",
    "    \"\"\"\n",
    "    活性化関数　tanh\n",
    "    Parameters\n",
    "    ----------\n",
    "    \"\"\"\n",
    "    def __init__(self, n, how_act):\n",
    "        self.n=n\n",
    "        self.how_act = how_act\n",
    "    #def calc(self):\n",
    "        if self.how_act is \"tanh\":\n",
    "            self.calc = 1/np.sqrt(self.n)\n",
    "        elif self.how_act is \"relu\":\n",
    "            self.calc = np.sqrt(2/self.n)\n",
    "    #    return self.calc"
   ]
  },
  {
   "cell_type": "code",
   "execution_count": 10,
   "metadata": {},
   "outputs": [],
   "source": [
    "class He:\n",
    "    \"\"\"\n",
    "    活性化関数　tanh\n",
    "    Parameters\n",
    "    ----------\n",
    "    \"\"\"\n",
    "    def __init__(self,n):\n",
    "        self.n=n\n",
    "    def _Calc(self):\n",
    "        \"\"\"\n",
    "        フォワード\n",
    "        Parameters\n",
    "        ----------\n",
    "        n : 次の形のndarray, shape (batch_size, n_nodes_bf)\n",
    "            入力\n",
    "        Returns\n",
    "        ----------\n",
    "        siguma : 次の形のndarray, shape (batch_size, n_nodes_af)\n",
    "            出力\n",
    "        \"\"\"     \n",
    "        siguma = np.sqrt(2/self.n)            \n",
    "        return siguma"
   ]
  },
  {
   "cell_type": "code",
   "execution_count": 11,
   "metadata": {},
   "outputs": [],
   "source": [
    "class AdaGrad:\n",
    "    \"\"\"\n",
    "    確率的勾配降下法\n",
    "    Parameters\n",
    "    ----------\n",
    "    lr : 学習率\n",
    "    \"\"\"\n",
    "    def __init__(self, lr):\n",
    "        self.lr = lr\n",
    "    def update(self, layer, d_):\n",
    "        \"\"\"\n",
    "        ある層の重みやバイアスの更新\n",
    "        Parameters\n",
    "        ----------\n",
    "        layer : 更新前の層のインスタンス\n",
    "\n",
    "        Returns\n",
    "        ----------\n",
    "        layer : 更新後の層のインスタンス\n",
    "        \"\"\"\n",
    "        self.H += d_**2\n",
    "        layer -= self.lr*d_/np.sqrt(self.H)\n",
    "        return layer"
   ]
  },
  {
   "cell_type": "code",
   "execution_count": 12,
   "metadata": {},
   "outputs": [],
   "source": [
    "class GetMiniBatch:\n",
    "    \"\"\"\n",
    "    ミニバッチを取得するイテレータ\n",
    "\n",
    "    Parameters\n",
    "    ----------\n",
    "    X : 次の形のndarray, shape (n_samples, n_features)\n",
    "      訓練用データ\n",
    "    y : 次の形のndarray, shape (n_samples, 1)\n",
    "      正解値\n",
    "    batch_size : int\n",
    "      バッチサイズ\n",
    "    seed : int\n",
    "      NumPyの乱数のシード\n",
    "    \"\"\"\n",
    "    def __init__(self, X, y, batch_size = 20, seed=0):\n",
    "        self.batch_size = batch_size\n",
    "        np.random.seed(seed)\n",
    "        shuffle_index = np.random.permutation(np.arange(X.shape[0]))\n",
    "        self._X = X[shuffle_index]\n",
    "        self._y = y[shuffle_index]\n",
    "        self._stop = np.ceil(X.shape[0]/self.batch_size).astype(np.int)\n",
    "\n",
    "    def __len__(self):\n",
    "        return self._stop\n",
    "\n",
    "    def __getitem__(self,item):\n",
    "        p0 = item*self.batch_size\n",
    "        p1 = item*self.batch_size + self.batch_size\n",
    "        return self._X[p0:p1], self._y[p0:p1]        \n",
    "\n",
    "    def __iter__(self):\n",
    "        self._counter = 0\n",
    "        return self\n",
    "\n",
    "    def __next__(self):\n",
    "        if self._counter >= self._stop:\n",
    "            raise StopIteration()\n",
    "        p0 = self._counter*self.batch_size\n",
    "        p1 = self._counter*self.batch_size + self.batch_size\n",
    "        self._counter += 1\n",
    "        return self._X[p0:p1], self._y[p0:p1]"
   ]
  },
  {
   "cell_type": "code",
   "execution_count": 13,
   "metadata": {},
   "outputs": [],
   "source": [
    "class ScratchSimpleNeuralNetrowkClassifier():\n",
    "    \"\"\"\n",
    "    シンプルな三層ニューラルネットワーク分類器\n",
    "\n",
    "    Parameters\n",
    "    ----------\n",
    "    bp : int\n",
    "        バックプロパゲーション回数\n",
    "    Attributes\n",
    "    ----------\n",
    "    \"\"\"\n",
    "    def __init__(self, how_act=\"tanh\", n_dims=4, n_output=10, n_epoq=5, batch_size=100, \n",
    "                 lr=0.01, verbose = True):\n",
    "        self.verbose = verbose\n",
    "        self.n_epoq = n_epoq\n",
    "        self.n_dims = n_dims\n",
    "        self.n_output = n_output\n",
    "        self.batch_size = batch_size\n",
    "        self.how_act = how_act\n",
    "        self.lr = lr\n",
    "        self.loss_list = np.array([])\n",
    "        self.loss_val_list = np.array([])\n",
    "\n",
    "    def fit(self, X, y):\n",
    "        \"\"\"\n",
    "        ニューラルネットワーク分類器を学習する。\n",
    "\n",
    "        Parameters\n",
    "        ----------\n",
    "        X : 次の形のndarray, shape (n_samples, n_features)\n",
    "            訓練用データの特徴量\n",
    "        y : 次の形のndarray, shape (n_samples, )\n",
    "            訓練用データの正解値\n",
    "        \"\"\"\n",
    "        self.n_features = X.shape[1]\n",
    "        self.optimizer = SGD(self.lr)\n",
    "        \n",
    "        self._make_dim()\n",
    "    \n",
    "        self.val = 0\n",
    "        get_mini_batch = GetMiniBatch(X, y, batch_size=self.batch_size)\n",
    "        for _ in range(self.n_epoq):\n",
    "            for X_mini, y_mini in get_mini_batch:\n",
    "                self.X_ = X_mini\n",
    "                self.y_ = y_mini\n",
    "                self._forward_propagation()\n",
    "                self._back_propagation()\n",
    "                \n",
    "            self.L = self.activation[self.n_dims].entropy(self.fw_nxt_input, self.y_)        \n",
    "            self.loss_list = np.append(self.loss_list, self.L)\n",
    "        \n",
    "        if self.verbose:\n",
    "            #verboseをTrueにした際は学習過程などを出力する\n",
    "            pass\n",
    "    \n",
    "    def _make_dim(self):    \n",
    "        self.sigma={}\n",
    "        self.FC={}\n",
    "        self.activation={}\n",
    "        for i in range(self.n_dims):\n",
    "            nodes = int(round(self.n_features/2**i, 0))\n",
    "            self.sigma[i+1] = Sigma_ini(nodes, self.how_act)\n",
    "            self.activation[i+1] = Activation(self.how_act)\n",
    "            if i==self.n_dims-1:\n",
    "                self.FC[i+1] = FC(nodes, self.n_output, SimpleInitializer(self.sigma[i+1].calc), self.optimizer)\n",
    "            else:\n",
    "                self.FC[i+1] = FC(nodes, int(round(nodes/2, 0)), SimpleInitializer(self.sigma[i+1].calc), self.optimizer)\n",
    "    def _forward_propagation(self):\n",
    "        self.fw_nxt_input = self.X_\n",
    "        for n in range(1, self.n_dims+1):\n",
    "            self.fw_nxt_input = self.FC[n].forward(self.fw_nxt_input)\n",
    "            if n==self.n_dims:\n",
    "                self.fw_nxt_input = self.activation[n].softmax_fw(self.fw_nxt_input, self.y_)\n",
    "                break\n",
    "            #display(self.fw_nxt_input)\n",
    "            self.fw_nxt_input = self.activation[n].forward(self.fw_nxt_input)\n",
    "            #display(self.fw_nxt_input)\n",
    "    def _back_propagation(self):\n",
    "        for n in reversed(range(1, self.n_dims+1)):\n",
    "            if n==self.n_dims:\n",
    "                self.bw_nxt_input = self.activation[n].softmax_bw(self.fw_nxt_input, self.y_)\n",
    "            else:\n",
    "                self.bw_nxt_input = self.activation[n].backward(self.bw_nxt_input)\n",
    "            #display(self.bw_nxt_input)\n",
    "            self.bw_nxt_input = self.FC[n].backward(self.bw_nxt_input)\n",
    "            #display(self.bw_nxt_input)\n",
    "    def graph_cost_func(self):\n",
    "        \"\"\"\n",
    "        損失の推移をグラフ化する。    \n",
    "        検証用データが入力されていれば、学習用と検証用の損失推移を重ねてグラフ化\n",
    "        \"\"\"\n",
    "        plt.title(\"Num_of_Epoq vs Loss\")\n",
    "        plt.xlabel(\"Num_of_Epoq\")\n",
    "        plt.ylabel(\"Loss\")\n",
    "        plt.plot(range(1,self.n_epoq+1), self.loss_list, color=\"b\", marker=\"o\", label=\"train_loss\")\n",
    "        if self.val is 1:\n",
    "            plt.plot(range(1,self.iter+1), self.loss_val_list, color=\"g\", marker=\"+\", label=\"val_loss\")\n",
    "        plt.grid()\n",
    "        plt.legend()\n",
    "        plt.show()\n",
    "  \n",
    "    def predict(self, X):\n",
    "        \"\"\"\n",
    "        ニューラルネットワーク分類器を使い推定する。\n",
    "        Parameters\n",
    "        ----------\n",
    "        X : 次の形のndarray, shape (n_samples, n_features)\n",
    "            サンプル\n",
    "            \n",
    "        Returns\n",
    "        -------\n",
    "            次の形のndarray, shape (n_samples, 1)\n",
    "            推定結果\n",
    "        \"\"\"\n",
    "        self.fw_nxt_input = X\n",
    "        for n in range(1, self.n_dims+1):\n",
    "            self.fw_nxt_input = self.FC[n].forward(self.fw_nxt_input)\n",
    "            if n==self.n_dims:\n",
    "                self.fw_nxt_input = self.activation[n].softmax_fw(self.fw_nxt_input, self.y_)\n",
    "                break\n",
    "            self.fw_nxt_input = self.activation[n].forward(self.fw_nxt_input)\n",
    "            \n",
    "        return np.argmax(self.fw_nxt_input, axis=1)"
   ]
  },
  {
   "cell_type": "code",
   "execution_count": 28,
   "metadata": {
    "scrolled": true
   },
   "outputs": [],
   "source": [
    "scr_nnc = ScratchSimpleNeuralNetrowkClassifier(\"tanh\",2)\n",
    "scr_nnc.fit(X_train, y_train)"
   ]
  },
  {
   "cell_type": "markdown",
   "metadata": {},
   "source": [
    "### 【問題9】学習と推定 \n",
    "層の数や活性化関数を変えたいくつかのネットワークを作成してください。そして、MNISTのデータを学習・推定し、Accuracyを計算してください。"
   ]
  },
  {
   "cell_type": "code",
   "execution_count": 29,
   "metadata": {},
   "outputs": [
    {
     "data": {
      "text/plain": [
       "array([7, 5, 5, ..., 6, 6, 5], dtype=int64)"
      ]
     },
     "execution_count": 29,
     "metadata": {},
     "output_type": "execute_result"
    }
   ],
   "source": [
    "scr_nnc.predict(X_val)"
   ]
  },
  {
   "cell_type": "code",
   "execution_count": 30,
   "metadata": {
    "scrolled": true
   },
   "outputs": [
    {
     "name": "stdout",
     "output_type": "stream",
     "text": [
      "accuracy:0.9564\n",
      " [[ 960    0    7    2    2    3    5    1    0    0]\n",
      " [   0 1124    6    2    0    1    1    0    1    0]\n",
      " [   7    2 1004    5    4    0    1    4    4    1]\n",
      " [   0    1   14  980    1    2    0    8    4    0]\n",
      " [   1    0    6    2  945    0    6    5    2   15]\n",
      " [   6    1    3   28    3  831   11    2    4    3]\n",
      " [   8    3    6    1    8    4  927    1    0    0]\n",
      " [   2    8   20    3    1    0    0  983    1   10]\n",
      " [   8    8   22   23    7    7   13    6  871    9]\n",
      " [   8   10    1   11   18    2    2   17    1  939]]\n"
     ]
    }
   ],
   "source": [
    "from sklearn.metrics import accuracy_score\n",
    "from sklearn import metrics\n",
    "from sklearn.metrics import confusion_matrix\n",
    "\n",
    "print(\"accuracy:{}\".format(accuracy_score(y_test, scr_nnc.predict(X_test))))\n",
    "print(\" {}\".format(confusion_matrix(y_test, scr_nnc.predict(X_test))))"
   ]
  },
  {
   "cell_type": "code",
   "execution_count": 31,
   "metadata": {},
   "outputs": [
    {
     "data": {
      "image/png": "[encoded data removed]",
      "text/plain": [
       "<Figure size 432x288 with 1 Axes>"
      ]
     },
     "metadata": {},
     "output_type": "display_data"
    }
   ],
   "source": [
    "scr_nnc.graph_cost_func()"
   ]
  },
  {
   "cell_type": "code",
   "execution_count": 27,
   "metadata": {},
   "outputs": [
    {
     "data": {
      "text/plain": [
       "array([26.16369582, 25.12302016, 40.86075396, 47.10060586, 39.93841189])"
      ]
     },
     "execution_count": 27,
     "metadata": {},
     "output_type": "execute_result"
    }
   ],
   "source": [
    "scr_nnc.loss_list"
   ]
  },
  {
   "cell_type": "markdown",
   "metadata": {},
   "source": [
    "#### relu"
   ]
  },
  {
   "cell_type": "code",
   "execution_count": 19,
   "metadata": {},
   "outputs": [],
   "source": [
    "scr_nnc2 = ScratchSimpleNeuralNetrowkClassifier(\"relu\",2)\n",
    "scr_nnc2.fit(X_train, y_train)"
   ]
  },
  {
   "cell_type": "code",
   "execution_count": 20,
   "metadata": {},
   "outputs": [
    {
     "data": {
      "text/plain": [
       "array([7, 5, 5, ..., 6, 6, 5], dtype=int64)"
      ]
     },
     "execution_count": 20,
     "metadata": {},
     "output_type": "execute_result"
    }
   ],
   "source": [
    "scr_nnc2.predict(X_val)"
   ]
  },
  {
   "cell_type": "code",
   "execution_count": 21,
   "metadata": {},
   "outputs": [
    {
     "name": "stdout",
     "output_type": "stream",
     "text": [
      "relu_accuracy:0.974\n",
      "[[ 959    2    3    1    2    1    0    4    2    6]\n",
      " [   0 1131    1    0    0    0    1    0    2    0]\n",
      " [   2    6  998    4    6    0    2   10    3    1]\n",
      " [   0    0    5  994    0    2    0    4    1    4]\n",
      " [   0    1    3    0  969    0    2    1    0    6]\n",
      " [   3    0    0   12    3  866    3    1    2    2]\n",
      " [   4    3    1    2    9    7  929    1    2    0]\n",
      " [   0    8    6    0    1    1    0 1007    1    4]\n",
      " [   3    3    6    9    9    4    2    8  918   12]\n",
      " [   1    7    1    5   18    1    0    7    0  969]]\n"
     ]
    }
   ],
   "source": [
    "print(\"relu_accuracy:{}\".format(accuracy_score(y_test, scr_nnc2.predict(X_test))))\n",
    "print(\"{}\".format(confusion_matrix(y_test, scr_nnc2.predict(X_test))))"
   ]
  },
  {
   "cell_type": "code",
   "execution_count": 22,
   "metadata": {},
   "outputs": [
    {
     "data": {
      "image/png": "[encoded data removed]",
      "text/plain": [
       "<Figure size 432x288 with 1 Axes>"
      ]
     },
     "metadata": {},
     "output_type": "display_data"
    }
   ],
   "source": [
    "scr_nnc2.graph_cost_func()"
   ]
  },
  {
   "cell_type": "code",
   "execution_count": null,
   "metadata": {},
   "outputs": [],
   "source": []
  }
 ],
 "metadata": {
  "kernelspec": {
   "display_name": "Python 3",
   "language": "python",
   "name": "python3"
  },
  "language_info": {
   "codemirror_mode": {
    "name": "ipython",
    "version": 3
   },
   "file_extension": ".py",
   "mimetype": "text/x-python",
   "name": "python",
   "nbconvert_exporter": "python",
   "pygments_lexer": "ipython3",
   "version": "3.6.5"
  }
 },
 "nbformat": 4,
 "nbformat_minor": 2
}
