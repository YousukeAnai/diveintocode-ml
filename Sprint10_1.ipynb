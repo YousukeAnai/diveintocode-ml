{
 "cells": [
  {
   "cell_type": "code",
   "execution_count": null,
   "metadata": {},
   "outputs": [],
   "source": [
    "import pandas as pd\n",
    "import matplotlib.pyplot as plt\n",
    "import numpy as np\n",
    "import math\n",
    "from sklearn.metrics import accuracy_score\n",
    "from sklearn import metrics\n",
    "from sklearn.metrics import confusion_matrix"
   ]
  },
  {
   "cell_type": "code",
   "execution_count": null,
   "metadata": {},
   "outputs": [],
   "source": [
    "from keras.datasets import mnist\n",
    "(X_train, y_train), (X_test, y_test) = mnist.load_data()"
   ]
  },
  {
   "cell_type": "code",
   "execution_count": null,
   "metadata": {},
   "outputs": [],
   "source": [
    "class DNN_Prepro:\n",
    "    def __init__(self, X_train, y_train, X_test, y_test):\n",
    "        self.X_train = X_train\n",
    "        self.y_train = y_train\n",
    "        self.X_test = X_test\n",
    "        self.y_test = y_test\n",
    "        \n",
    "    def _3dto2d(self):\n",
    "        self.X_train = self.X_train.reshape(-1, len(X_train.shape[1])*len(X_train.shape[2]))\n",
    "        self.X_test  = self.X_test.reshape(-1, len(X_train.shape[1])*len(X_train.shape[2]))\n",
    "        return self.X_train, self.y_train, self.X_test, self.y_test\n",
    "    \n",
    "    def _garad_std(self):\n",
    "        self.X_train = self.X_train.astype(np.float)\n",
    "        self.X_test = self.X_test.astype(np.float)\n",
    "        self.X_train /= 255\n",
    "        self.X_test /= 255\n",
    "        return self.X_train, self.y_train, self.X_test, self.y_test\n",
    "    \n",
    "    def _1hot_y(self):\n",
    "        from sklearn.preprocessing import OneHotEncoder\n",
    "        enc = OneHotEncoder(handle_unknown='ignore', sparse=False)\n",
    "        self.y_train = enc.fit_transform(self.y_train[:, np.newaxis])\n",
    "        self.y_test = enc.transform(self.y_test[:, np.newaxis])\n",
    "        return self.X_train, self.y_train, self.X_test, self.y_test"
   ]
  },
  {
   "cell_type": "code",
   "execution_count": null,
   "metadata": {},
   "outputs": [],
   "source": [
    "for i in range(4):\n",
    "    sigma1=Xavier(self.n_features)\n",
    "    self.FC1 = FC(self.n_features, self.n_nodes1, SimpleInitializer(sigma1.calc), optimizer)\n",
    "    self.activation1 = Activation()\n",
    "    \n",
    "        self.A1 = self.FC1.forward(self.X_)\n",
    "        self.Z1 = self.activation1.tanh_fw(self.A1)\n",
    "        self.A2 = self.FC2.forward(self.Z1)\n",
    "        self.Z2 = self.activation2.tanh_fw(self.A2)\n",
    "        self.A3 = self.FC3.forward(self.Z2)\n",
    "        self.Z3 = self.activation3.softmax_fw(self.A3, self.y_)\n",
    "    \n",
    "        dA3 = self.activation3.softmax_bw(self.Z3, self.y_)\n",
    "        dZ2 = self.FC3.backward(dA3, self.Z2)\n",
    "        dA2 = self.activation2.tanh_bw(dZ2, self.A2)\n",
    "        dZ1 = self.FC2.backward(dA2, self.Z1)\n",
    "        dA1 = self.activation1.tanh_bw(dZ1, self.A1)\n",
    "        dZ0 = self.FC1.backward(dA1, self.X_) # dZ0は使用しない"
   ]
  },
  {
   "cell_type": "code",
   "execution_count": null,
   "metadata": {},
   "outputs": [],
   "source": [
    "for i in range(4):\n",
    "    sigma1=Xavier(self.n_features)\n",
    "    self.FC1 = FC(self.n_features, self.n_nodes1, SimpleInitializer(sigma1.calc), optimizer)\n",
    "    self.activation1 = Activation()"
   ]
  },
  {
   "cell_type": "code",
   "execution_count": null,
   "metadata": {},
   "outputs": [],
   "source": [
    "sigma={}\n",
    "FC={}\n",
    "activation={}\n",
    "for i in range(4):\n",
    "    sigma[i+1] = Xavier(n_features/2**i)\n",
    "    FC[i+1] = FC(n_features/2**i, n_features/2**(i+1), SimpleInitializer(sigma[i+1].calc), optimizer)\n",
    "    activation[i+1] = Activation()"
   ]
  },
  {
   "cell_type": "code",
   "execution_count": null,
   "metadata": {},
   "outputs": [],
   "source": [
    "self.sigma={}\n",
    "self.FC={}\n",
    "self.activation={}\n",
    "for i in range(4):\n",
    "    self.sigma[i+1] = Xavier(self.n_features/2**i)\n",
    "    self.FC[i+1] = FC(self.n_features/2**i, self.n_features/2**(i+1), SimpleInitializer(self.sigma[i+1].calc), optimizer)\n",
    "    self.activation[i+1] = Activation()"
   ]
  }
 ],
 "metadata": {
  "kernelspec": {
   "display_name": "Python 3",
   "language": "python",
   "name": "python3"
  },
  "language_info": {
   "codemirror_mode": {
    "name": "ipython",
    "version": 3
   },
   "file_extension": ".py",
   "mimetype": "text/x-python",
   "name": "python",
   "nbconvert_exporter": "python",
   "pygments_lexer": "ipython3",
   "version": "3.6.5"
  }
 },
 "nbformat": 4,
 "nbformat_minor": 2
}
