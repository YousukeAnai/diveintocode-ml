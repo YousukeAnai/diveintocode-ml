{
 "cells": [
  {
   "cell_type": "markdown",
   "metadata": {},
   "source": [
    "### 【問題1】コードレビュー \n",
    "転移学習を使用してセグメンテーションの精度を改善したコードを提示するので、レビューを行ってください。\n",
    "《視点例》\n",
    "前回使用した実装とはどのように違うのか\n",
    "転移学習をどのように行っているか"
   ]
  },
  {
   "cell_type": "markdown",
   "metadata": {},
   "source": [
    "### 前回使用した実装とはどのように違うのか\n",
    "・デコーダについて、前回はCONV2回実施していたのを、CONV1回＋BatchNormalizationしている\n",
    "・エンコーダについて、前回はCONV2回＋MAXプーリングしていたのを、RESNETを使っている。\n",
    "・トレーニング時に、ReduceLROnPlateauを用いてトレーニング状態に応じて、学習率を小さくできる用意している。"
   ]
  },
  {
   "cell_type": "markdown",
   "metadata": {},
   "source": [
    "### 転移学習をどのように行っているか\n",
    "weights='imagenet'\n",
    "でkerasから学習済み重みの読み込んでいる。"
   ]
  },
  {
   "cell_type": "markdown",
   "metadata": {},
   "source": [
    "### 【問題2】コードの書き換え \n",
    "エンコーダーにResNetが使用されていたコードをVGGに変更してください。"
   ]
  },
  {
   "cell_type": "markdown",
   "metadata": {},
   "source": [
    "03-models_pretrained_and_more (2)_VGGNET.ipynb　に記載。"
   ]
  },
  {
   "cell_type": "markdown",
   "metadata": {},
   "source": [
    "### 【問題3】学習・推定 \n",
    "ResNetとVGG双方のコードで学習・推定を行い、結果を比較してください。"
   ]
  },
  {
   "cell_type": "markdown",
   "metadata": {},
   "source": [
    "03-models_pretrained_and_more (1).ipynb　　　　 ＿＿REGNETの結果\n",
    "03-models_pretrained_and_more (2)_VGGNET.ipynb　＿＿VGGNETの結果\n",
    "\n",
    "両者を比較した結果、IOUの平均値が以下のようにRESNETの方が高精度だった。\n",
    "　RESNET　：　0.41\n",
    "　VGGNET　：　0.06"
   ]
  }
 ],
 "metadata": {
  "kernelspec": {
   "display_name": "Python 3",
   "language": "python",
   "name": "python3"
  },
  "language_info": {
   "codemirror_mode": {
    "name": "ipython",
    "version": 3
   },
   "file_extension": ".py",
   "mimetype": "text/x-python",
   "name": "python",
   "nbconvert_exporter": "python",
   "pygments_lexer": "ipython3",
   "version": "3.6.5"
  }
 },
 "nbformat": 4,
 "nbformat_minor": 2
}
