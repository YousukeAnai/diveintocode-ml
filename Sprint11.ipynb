{
 "cells": [
  {
   "cell_type": "code",
   "execution_count": 1,
   "metadata": {},
   "outputs": [],
   "source": [
    "import pandas as pd\n",
    "import matplotlib.pyplot as plt\n",
    "import numpy as np\n",
    "import math\n",
    "from sklearn.metrics import accuracy_score\n",
    "from sklearn import metrics\n",
    "from sklearn.metrics import confusion_matrix"
   ]
  },
  {
   "cell_type": "code",
   "execution_count": 2,
   "metadata": {},
   "outputs": [],
   "source": [
    "class FC:\n",
    "    \"\"\"\n",
    "    ノード数n_nodes1からn_nodes2への全結合層\n",
    "    Parameters\n",
    "    ----------\n",
    "    n_nodes1 : int\n",
    "      前の層のノード数\n",
    "    n_nodes2 : int\n",
    "      後の層のノード数\n",
    "    initializer : 初期化方法のインスタンス\n",
    "    optimizer : 最適化手法のインスタンス\n",
    "    \"\"\"\n",
    "    def __init__(self, n_nodes1, n_nodes2, initializer, optimizer):\n",
    "        # 初期化\n",
    "        # initializerのメソッドを使い、self.Wとself.Bを初期化する\n",
    "        self.n_nodes1 = n_nodes1\n",
    "        self.n_nodes2 = n_nodes2\n",
    "        self.optimizer = optimizer\n",
    "        #self.W = initializer.W(self.n_nodes1, self.n_nodes2)\n",
    "        #self.B = initializer.B(self.n_nodes2)\n",
    "        self.W = np.array([3,5,7]) \n",
    "        self.B = np.array([1])\n",
    "        self.P = 0\n",
    "        self.Str = 1\n",
    "        self.s = len(self.W)\n",
    "        self.a = np.array([])\n",
    "        self.dW = np.array([])\n",
    "        self.dX = np.array([])\n",
    "\n",
    "    def forward(self, X):\n",
    "        \"\"\"\n",
    "        フォワード\n",
    "        Parameters\n",
    "        ----------\n",
    "        X : 次の形のndarray, shape (batch_size, n_nodes_bf)\n",
    "            入力\n",
    "        Returns\n",
    "        ----------\n",
    "        A : 次の形のndarray, shape (batch_size, n_nodes_af)\n",
    "            出力\n",
    "        \"\"\"\n",
    "        #self.X = X\n",
    "        self.X = X\n",
    "        self.Xsize = len(self.X)\n",
    "        self._output_size()\n",
    "        \n",
    "        self.a = np.append(self.a, np.array([(self.X[i:i+self.s] @ self.W.T + self.B) for i in range(self.Nout)]))\n",
    "        return self.a\n",
    "    \n",
    "    def _output_size(self):\n",
    "        self.Nout = int((len(self.X) + 2*self.P - self.s) / self.Str + 1)       \n",
    "    \n",
    "    def backward(self, dA):\n",
    "        \"\"\"\n",
    "        バックワード\n",
    "        Parameters\n",
    "        ----------\n",
    "        dA : 次の形のndarray, shape (batch_size, n_nodes2)\n",
    "            後ろから流れてきた勾配\n",
    "        Returns\n",
    "        ----------\n",
    "        dZ : 次の形のndarray, shape (batch_size, n_nodes1)\n",
    "            前に流す勾配\n",
    "        \"\"\"\n",
    "        self.dB = np.sum(dA, axis=0)\n",
    "        self.dW = np.append(self.dW, np.array([(dA @ self.X[i:i+self.Nout].T) for i in range(self.s)]))\n",
    "\n",
    "        for j in range(len(self.X)):\n",
    "            if j-self.Nout < 0:\n",
    "                #display(j)\n",
    "                #display(np.flip(self.W[ : self.s-(self.Nout-j) ]))\n",
    "                #display(dA[:j+1])\n",
    "                self.dX = np.append(self.dX, (dA[:j+1] @ np.flip(self.W[ : self.s-(self.Nout-j) ]).T))\n",
    "                \n",
    "            elif j > len(self.X) - self.Nout:\n",
    "                #display(j)\n",
    "                #display(np.flip(dA    [-(j-(self.Xsize - self.Nout)):]))\n",
    "                #display(np.flip(self.W[-(j-(self.Xsize - self.Nout)):]))\n",
    "                self.dX = np.append(self.dX, (np.flip(dA    [-(j-(self.Xsize - self.Nout)):])) @ \n",
    "                                              np.flip(self.W[-(j-(self.Xsize - self.Nout)):]).T)\n",
    "            else:\n",
    "                #display(j)\n",
    "                #display(np.flip(self.W[ j-self.Nout+1 : j+1 ]))\n",
    "                self.dX = np.append(self.dX, (dA @ np.flip(self.W[ j-self.Nout+1 : j+1 ]).T))\n",
    "\n",
    "        # 更新\n",
    "        #self.W = self.optimizer.update(dW, self.W)\n",
    "        #self.B = self.optimizer.update(dB, self.B)\n",
    "\n",
    "        return self.dX\n"
   ]
  },
  {
   "cell_type": "code",
   "execution_count": 3,
   "metadata": {},
   "outputs": [],
   "source": [
    "x = np.array([1,2,3,4])\n",
    "w = np.array([3, 5, 7])\n",
    "b = np.array([1])\n",
    "test = FC(1,2,3,4)"
   ]
  },
  {
   "cell_type": "code",
   "execution_count": 4,
   "metadata": {},
   "outputs": [
    {
     "data": {
      "text/plain": [
       "array([35., 50.])"
      ]
     },
     "execution_count": 4,
     "metadata": {},
     "output_type": "execute_result"
    }
   ],
   "source": [
    "test.forward(x)"
   ]
  },
  {
   "cell_type": "code",
   "execution_count": 5,
   "metadata": {},
   "outputs": [
    {
     "data": {
      "text/plain": [
       "array([ 30., 110., 170., 140.])"
      ]
     },
     "execution_count": 5,
     "metadata": {},
     "output_type": "execute_result"
    }
   ],
   "source": [
    "delta_a = np.array([10, 20])\n",
    "test.backward(delta_a)"
   ]
  },
  {
   "cell_type": "code",
   "execution_count": 6,
   "metadata": {},
   "outputs": [
    {
     "data": {
      "text/plain": [
       "30"
      ]
     },
     "metadata": {},
     "output_type": "display_data"
    },
    {
     "data": {
      "text/plain": [
       "array([ 50.,  80., 110.])"
      ]
     },
     "metadata": {},
     "output_type": "display_data"
    }
   ],
   "source": [
    "display(test.dB)\n",
    "display(test.dW)"
   ]
  },
  {
   "cell_type": "code",
   "execution_count": 7,
   "metadata": {},
   "outputs": [],
   "source": [
    "class Conv1d:\n",
    "    \"\"\"\n",
    "    ノード数n_nodes1からn_nodes2への全結合層\n",
    "    Parameters\n",
    "    ----------\n",
    "    n_nodes1 : int\n",
    "      前の層のノード数\n",
    "    n_nodes2 : int\n",
    "      後の層のノード数\n",
    "    initializer : 初期化方法のインスタンス\n",
    "    optimizer : 最適化手法のインスタンス\n",
    "    \"\"\"\n",
    "    def __init__(self, n_nodes1, n_nodes2, initializer, optimizer):\n",
    "        # 初期化\n",
    "        # initializerのメソッドを使い、self.Wとself.Bを初期化する\n",
    "        self.n_nodes1 = n_nodes1\n",
    "        self.n_nodes2 = n_nodes2\n",
    "        self.optimizer = optimizer\n",
    "        #self.W = initializer.W(self.n_nodes1, self.n_nodes2)\n",
    "        #self.B = initializer.B(self.n_nodes2)\n",
    "        self.W = np.array([3,5,7]) \n",
    "        self.B = np.array([1])\n",
    "        self.P = 0\n",
    "        self.Str = 1\n",
    "        self.s = len(self.W)\n",
    "        self.a = np.array([])\n",
    "        self.dW = np.array([])\n",
    "        self.dX = np.array([])\n",
    "\n",
    "    def forward(self, X):\n",
    "        \"\"\"\n",
    "        フォワード\n",
    "        Parameters\n",
    "        ----------\n",
    "        X : 次の形のndarray, shape (batch_size, n_nodes_bf)\n",
    "            入力\n",
    "        Returns\n",
    "        ----------\n",
    "        A : 次の形のndarray, shape (batch_size, n_nodes_af)\n",
    "            出力\n",
    "        \"\"\"\n",
    "        #self.X = X\n",
    "        self.X = X\n",
    "        self.Xsize = len(self.X)\n",
    "        self._output_size()\n",
    "        \n",
    "        self.a = np.append(self.a, np.array([(self.X[i:i+self.s] @ self.W.T + self.B) for i in range(self.Nout)]))\n",
    "        return self.a\n",
    "    \n",
    "    def _output_size(self):\n",
    "        self.Nout = int((len(self.X) + 2*self.P - self.s) / self.Str + 1)       \n",
    "    \n",
    "    def backward(self, dA):\n",
    "        \"\"\"\n",
    "        バックワード\n",
    "        Parameters\n",
    "        ----------\n",
    "        dA : 次の形のndarray, shape (batch_size, n_nodes2)\n",
    "            後ろから流れてきた勾配\n",
    "        Returns\n",
    "        ----------\n",
    "        dZ : 次の形のndarray, shape (batch_size, n_nodes1)\n",
    "            前に流す勾配\n",
    "        \"\"\"\n",
    "        self.dB = np.sum(dA, axis=0)\n",
    "        self.dW = np.append(self.dW, np.array([(dA @ self.X[i:i+self.Nout].T) for i in range(self.s)]))\n",
    "\n",
    "        for j in range(len(self.X)):\n",
    "            if j-self.Nout < 0:\n",
    "                #display(j)\n",
    "                #display(np.flip(self.W[ : self.s-(self.Nout-j) ]))\n",
    "                #display(dA[:j+1])\n",
    "                self.dX = np.append(self.dX, (dA[:j+1] @ np.flip(self.W[ : self.s-(self.Nout-j) ]).T))\n",
    "                \n",
    "            elif j > len(self.X) - self.Nout:\n",
    "                #display(j)\n",
    "                #display(np.flip(dA    [-(j-(self.Xsize - self.Nout)):]))\n",
    "                #display(np.flip(self.W[-(j-(self.Xsize - self.Nout)):]))\n",
    "                self.dX = np.append(self.dX, (np.flip(dA    [-(j-(self.Xsize - self.Nout)):])) @ \n",
    "                                              np.flip(self.W[-(j-(self.Xsize - self.Nout)):]).T)\n",
    "            else:\n",
    "                #display(j)\n",
    "                #display(np.flip(self.W[ j-self.Nout+1 : j+1 ]))\n",
    "                self.dX = np.append(self.dX, (dA @ np.flip(self.W[ j-self.Nout+1 : j+1 ]).T))\n",
    "\n",
    "        # 更新\n",
    "        #self.W = self.optimizer.update(dW, self.W)\n",
    "        #self.B = self.optimizer.update(dB, self.B)\n",
    "\n",
    "        return self.dX\n"
   ]
  },
  {
   "cell_type": "markdown",
   "metadata": {},
   "source": [
    "### 【問題4】チャンネル数を限定しない1次元畳み込み層クラスの作成 \n",
    "チャンネル数を1に限定しない1次元畳み込み層のクラスConv1dを作成してください。"
   ]
  },
  {
   "cell_type": "code",
   "execution_count": 8,
   "metadata": {},
   "outputs": [],
   "source": [
    "import itertools\n",
    "import pprint"
   ]
  },
  {
   "cell_type": "code",
   "execution_count": 123,
   "metadata": {},
   "outputs": [],
   "source": [
    "class Conv1d:\n",
    "    \"\"\"\n",
    "    ノード数n_nodes1からn_nodes2への全結合層\n",
    "    Parameters\n",
    "    ----------\n",
    "    n_nodes1 : int\n",
    "      前の層のノード数\n",
    "    n_nodes2 : int\n",
    "      後の層のノード数\n",
    "    initializer : 初期化方法のインスタンス\n",
    "    optimizer : 最適化手法のインスタンス\n",
    "    \"\"\"\n",
    "    def __init__(self):\n",
    "        self.P = 0\n",
    "        self.Str = 1\n",
    "        self.a = np.array([])\n",
    "        self.dW = np.array([])\n",
    "        self.dX = np.array([])\n",
    "        #self.s=None\n",
    "        \n",
    "    def forward(self, X, W ,B):\n",
    "        \"\"\"\n",
    "        フォワード\n",
    "        Parameters\n",
    "        ----------\n",
    "        X : 次の形のndarray, shape (batch_size, n_nodes_bf)\n",
    "            入力\n",
    "        Returns\n",
    "        ----------\n",
    "        A : 次の形のndarray, shape (batch_size, n_nodes_af)\n",
    "            出力\n",
    "        \"\"\"\n",
    "        self.X = X\n",
    "        self.Xsize = self.X.shape[1]\n",
    "        self.W = W \n",
    "        self.B = B\n",
    "        self.s = self.W.shape[2]\n",
    "        \n",
    "        self._output_size()\n",
    "        self.a = np.append(self.a, np.array([np.sum(self.X[:, i:i+self.s] * self.W[i0,:,:]) + self.B[i0] \n",
    "                                             for i0,i in itertools.product(range(self.W.shape[0]), range(self.Nout))]))\n",
    "        self.a = self.a.reshape(self.W.shape[0], self.Nout)\n",
    "        return self.a\n",
    "    \n",
    "    def _output_size(self):\n",
    "        self.Nout = int((self.Xsize + 2*self.P - self.s) / self.Str + 1)       \n",
    "    \n",
    "    def backward(self, dA):\n",
    "        \"\"\"\n",
    "        バックワード\n",
    "        Parameters\n",
    "        ----------\n",
    "        dA : 次の形のndarray, shape (batch_size, n_nodes2)\n",
    "            後ろから流れてきた勾配\n",
    "        Returns\n",
    "        ----------\n",
    "        dZ : 次の形のndarray, shape (batch_size, n_nodes1)\n",
    "            前に流す勾配\n",
    "        \"\"\"\n",
    "        self.dB = np.sum(dA, axis=1)   \n",
    "        \n",
    "        for i0 in range(self.W.shape[0]):\n",
    "            dX_ary = np.zeros((self.W.shape[1], self.W.shape[2]))\n",
    "            for i in range(self.Nout):\n",
    "                dX_ary += dA[i0,i] * self.X[:, i:i+self.s]\n",
    "            self.dW = np.append(self.dW, dX_ary)\n",
    "        self.dW = self.dW.reshape(3,2,3)\n",
    "        \"\"\"検討中\n",
    "        self.Xp=np.array([self.X]*self.W.shape[0])\n",
    "        self.\n",
    "        self.dW= np.zeros((self.W.shape))\n",
    "        self.dW = [self.dW + (dA * self.Xp[:,:,i:i+self.s]) for i in range(self.Nout)]\n",
    "        \"\"\"\n",
    "        #self.dW = np.append(self.dW, [dX_ary + (np.ones((self.W[1].shape, self.W[2].shape))*dA[i0,i]) * self.X[:, i:i+self.Nout] \n",
    "        #                              for i in range(self.Nout)] for i0 in range(self.W.shape[0]))\n",
    "        \n",
    "        #for j in range(len(self.X)):\n",
    "        #    if j-self.Nout < 0:\n",
    "        #        self.dX = np.append(self.dX, (dA[:j+1] @ np.flip(self.W[ : self.s-(self.Nout-j) ]).T))\n",
    "        #        \n",
    "        #    elif j > len(self.X) - self.Nout:\n",
    "        #        self.dX = np.append(self.dX, (np.flip(dA    [-(j-(self.Xsize - self.Nout)):])) @ \n",
    "        #                                      np.flip(self.W[-(j-(self.Xsize - self.Nout)):]).T)\n",
    "        #    else:\n",
    "        #        self.dX = np.append(self.dX, (dA @ np.flip(self.W[ j-self.Nout+1 : j+1 ]).T))\n",
    "\n",
    "        return self.dW\n",
    "    \n",
    "    #def _naiseki_plus(self,dA):\n",
    "    #    dX_ary = np.zeros((self.W[1].shape, self.W[2].shape))\n",
    "    #    dX_ary = [dX_ary + (np.ones((self.W[1].shape, self.W[2].shape))*dA[i0,i]) * self.X[:, i:i+self.Nout] for i in range(self.Nout)]\n",
    "    #    return dX_ary"
   ]
  },
  {
   "cell_type": "code",
   "execution_count": 124,
   "metadata": {},
   "outputs": [],
   "source": [
    "x = np.array([[1, 2, 3, 4], [2, 3, 4, 5]]) # shape(2, 4)で、（入力チャンネル数、特徴量数）である。\n",
    "w = np.ones((3, 2, 3)) # 例の簡略化のため全て1とする。(出力チャンネル数、入力チャンネル数、フィルタサイズ)である。\n",
    "b = np.array([1, 2, 3]) # （出力チャンネル数）"
   ]
  },
  {
   "cell_type": "code",
   "execution_count": 125,
   "metadata": {},
   "outputs": [
    {
     "data": {
      "text/plain": [
       "array([[16., 22.],\n",
       "       [17., 23.],\n",
       "       [18., 24.]])"
      ]
     },
     "execution_count": 125,
     "metadata": {},
     "output_type": "execute_result"
    }
   ],
   "source": [
    "test2dim = Conv1d()\n",
    "test2dim.forward(x,w,b)"
   ]
  },
  {
   "cell_type": "code",
   "execution_count": 126,
   "metadata": {},
   "outputs": [],
   "source": [
    "x = np.array([[2, 3, 4, 5], [1, 2, 3, 4]]) # shape(2, 4)で、（入力チャンネル数、特徴量数）である。\n",
    "#w = np.ones((3, 2, 3)) # 例の簡略化のため全て1とする。(出力チャンネル数、入力チャンネル数、フィルタサイズ)である。\n",
    "w = np.array([[[1,1,1],\n",
    "            [1,1,1]],\n",
    "            [[1,1,1],\n",
    "            [2,1,1]],\n",
    "            [[2,1,1],\n",
    "            [1,1,2]]])\n",
    "b = np.array([3, 2, 1]) # （出力チャンネル数）"
   ]
  },
  {
   "cell_type": "code",
   "execution_count": 127,
   "metadata": {},
   "outputs": [
    {
     "data": {
      "text/plain": [
       "array([[18., 24.],\n",
       "       [18., 25.],\n",
       "       [21., 29.]])"
      ]
     },
     "execution_count": 127,
     "metadata": {},
     "output_type": "execute_result"
    }
   ],
   "source": [
    "test2dim = Conv1d()\n",
    "test2dim.forward(x,w,b)"
   ]
  },
  {
   "cell_type": "markdown",
   "metadata": {},
   "source": [
    "### バックプロパゲーションの確認"
   ]
  },
  {
   "cell_type": "code",
   "execution_count": 128,
   "metadata": {},
   "outputs": [],
   "source": [
    "dA = np.array([[52,56],\n",
    "            [32,35],\n",
    "            [9,11]])\n",
    "#dA = np.array([9,11])"
   ]
  },
  {
   "cell_type": "code",
   "execution_count": 129,
   "metadata": {},
   "outputs": [
    {
     "data": {
      "text/plain": [
       "array([[[52, 56],\n",
       "        [32, 35],\n",
       "        [ 9, 11]],\n",
       "\n",
       "       [[52, 56],\n",
       "        [32, 35],\n",
       "        [ 9, 11]],\n",
       "\n",
       "       [[52, 56],\n",
       "        [32, 35],\n",
       "        [ 9, 11]]])"
      ]
     },
     "execution_count": 129,
     "metadata": {},
     "output_type": "execute_result"
    }
   ],
   "source": [
    "dA3=np.array([dA]*3)\n",
    "dA3"
   ]
  },
  {
   "cell_type": "code",
   "execution_count": 130,
   "metadata": {},
   "outputs": [
    {
     "data": {
      "text/plain": [
       "array([[[52, 52, 52],\n",
       "        [56, 56, 56]],\n",
       "\n",
       "       [[32, 32, 32],\n",
       "        [35, 35, 35]],\n",
       "\n",
       "       [[ 9,  9,  9],\n",
       "        [11, 11, 11]]])"
      ]
     },
     "execution_count": 130,
     "metadata": {},
     "output_type": "execute_result"
    }
   ],
   "source": [
    "dA3=dA3.transpose(1,2,0)\n",
    "dA3"
   ]
  },
  {
   "cell_type": "code",
   "execution_count": 131,
   "metadata": {},
   "outputs": [
    {
     "data": {
      "text/plain": [
       "array([[[272., 380., 488.],\n",
       "        [164., 272., 380.]],\n",
       "\n",
       "       [[169., 236., 303.],\n",
       "        [102., 169., 236.]],\n",
       "\n",
       "       [[ 51.,  71.,  91.],\n",
       "        [ 31.,  51.,  71.]]])"
      ]
     },
     "execution_count": 131,
     "metadata": {},
     "output_type": "execute_result"
    }
   ],
   "source": [
    "test2dim.backward(dA)"
   ]
  },
  {
   "cell_type": "code",
   "execution_count": 99,
   "metadata": {},
   "outputs": [
    {
     "data": {
      "text/plain": [
       "array([[[2, 3, 4, 5],\n",
       "        [1, 2, 3, 4]],\n",
       "\n",
       "       [[2, 3, 4, 5],\n",
       "        [1, 2, 3, 4]],\n",
       "\n",
       "       [[2, 3, 4, 5],\n",
       "        [1, 2, 3, 4]]])"
      ]
     },
     "execution_count": 99,
     "metadata": {},
     "output_type": "execute_result"
    }
   ],
   "source": [
    "np.array([x]*3)"
   ]
  },
  {
   "cell_type": "code",
   "execution_count": null,
   "metadata": {},
   "outputs": [],
   "source": []
  },
  {
   "cell_type": "code",
   "execution_count": null,
   "metadata": {},
   "outputs": [],
   "source": []
  }
 ],
 "metadata": {
  "kernelspec": {
   "display_name": "Python 3",
   "language": "python",
   "name": "python3"
  },
  "language_info": {
   "codemirror_mode": {
    "name": "ipython",
    "version": 3
   },
   "file_extension": ".py",
   "mimetype": "text/x-python",
   "name": "python",
   "nbconvert_exporter": "python",
   "pygments_lexer": "ipython3",
   "version": "3.6.5"
  }
 },
 "nbformat": 4,
 "nbformat_minor": 2
}
