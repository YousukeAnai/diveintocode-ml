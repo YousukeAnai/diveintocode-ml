{
 "cells": [
  {
   "cell_type": "code",
   "execution_count": 135,
   "metadata": {},
   "outputs": [
    {
     "name": "stdout",
     "output_type": "stream",
     "text": [
      "4マスの板に小麦を並べる（リスト）：[1, 2, 4, 8]\n",
      "4マスの板に小麦を並べる（ndarray）：[1 2 4 8]\n",
      "4マスの板に小麦を並べる（2×2）：\n",
      "[[1 2]\n",
      " [4 8]]\n"
     ]
    }
   ],
   "source": [
    "#問題１　\n",
    "import numpy as np\n",
    "\n",
    "n_squares = 4\n",
    "small_board_list = [1]\n",
    "for _ in range(n_squares - 1):\n",
    "    small_board_list.append(2*small_board_list[-1])\n",
    "print(\"4マスの板に小麦を並べる（リスト）：{}\".format(small_board_list))\n",
    "\n",
    "small_board_ndarray = np.array(small_board_list)\n",
    "print(\"4マスの板に小麦を並べる（ndarray）：{}\".format(small_board_ndarray))\n",
    "print(\"4マスの板に小麦を並べる（2×2）：\\n{}\".format(small_board_ndarray.reshape(2,2)))"
   ]
  },
  {
   "cell_type": "code",
   "execution_count": 136,
   "metadata": {
    "scrolled": false
   },
   "outputs": [
    {
     "name": "stdout",
     "output_type": "stream",
     "text": [
      "8×8マスの板に小麦を並べる：\n",
      "[[1.00000000e+00 2.00000000e+00 4.00000000e+00 8.00000000e+00\n",
      "  1.60000000e+01 3.20000000e+01 6.40000000e+01 1.28000000e+02]\n",
      " [2.56000000e+02 5.12000000e+02 1.02400000e+03 2.04800000e+03\n",
      "  4.09600000e+03 8.19200000e+03 1.63840000e+04 3.27680000e+04]\n",
      " [6.55360000e+04 1.31072000e+05 2.62144000e+05 5.24288000e+05\n",
      "  1.04857600e+06 2.09715200e+06 4.19430400e+06 8.38860800e+06]\n",
      " [1.67772160e+07 3.35544320e+07 6.71088640e+07 1.34217728e+08\n",
      "  2.68435456e+08 5.36870912e+08 1.07374182e+09 2.14748365e+09]\n",
      " [4.29496730e+09 8.58993459e+09 1.71798692e+10 3.43597384e+10\n",
      "  6.87194767e+10 1.37438953e+11 2.74877907e+11 5.49755814e+11]\n",
      " [1.09951163e+12 2.19902326e+12 4.39804651e+12 8.79609302e+12\n",
      "  1.75921860e+13 3.51843721e+13 7.03687442e+13 1.40737488e+14]\n",
      " [2.81474977e+14 5.62949953e+14 1.12589991e+15 2.25179981e+15\n",
      "  4.50359963e+15 9.00719925e+15 1.80143985e+16 3.60287970e+16]\n",
      " [7.20575940e+16 1.44115188e+17 2.88230376e+17 5.76460752e+17\n",
      "  1.15292150e+18 2.30584301e+18 4.61168602e+18 9.22337204e+18]]\n"
     ]
    }
   ],
   "source": [
    "#問題２\n",
    "def func_chessboad_squre_size(n,m):\n",
    "    n_squares = n * m\n",
    "    small_board_list = [1]\n",
    "    for _ in range(n_squares - 1):\n",
    "        small_board_list.append(2*small_board_list[-1])\n",
    "    small_board_ndarray = np.array(small_board_list)\n",
    "    return small_board_ndarray.reshape(n,m)\n",
    "X_SIZE = 8\n",
    "Y_SIZE = 8\n",
    "#print(func_chessboad_squre_size(X_SIZE,Y_SIZE))\n",
    "print(\"{}×{}マスの板に小麦を並べる：\\n{}\".format(X_SIZE, Y_SIZE, func_chessboad_squre_size(X_SIZE,Y_SIZE)))"
   ]
  },
  {
   "cell_type": "code",
   "execution_count": 137,
   "metadata": {},
   "outputs": [
    {
     "name": "stdout",
     "output_type": "stream",
     "text": [
      "8×8マスの小麦の合計：1.84e+19\n",
      "8×8マスの小麦の平均：\n",
      "[9.04252160e+15 1.80850432e+16 3.61700864e+16 7.23401728e+16\n",
      " 1.44680346e+17 2.89360691e+17 5.78721383e+17 1.15744277e+18]\n"
     ]
    },
    {
     "data": {
      "image/png": "[encoded data removed]",
      "text/plain": [
       "<Figure size 432x288 with 1 Axes>"
      ]
     },
     "metadata": {},
     "output_type": "display_data"
    }
   ],
   "source": [
    "#問題３\n",
    "print(\"{}×{}マスの小麦の合計：{:.3g}\".format(X_SIZE, Y_SIZE, func_chessboad_squre_size(X_SIZE,Y_SIZE).sum()))\n",
    "print(\"{}×{}マスの小麦の平均：\\n{}\".format(X_SIZE, Y_SIZE, func_chessboad_squre_size(X_SIZE,Y_SIZE).mean(axis=0)))\n",
    "\n",
    "import matplotlib.pyplot as plt\n",
    "def func_bar_chessboard_column_calc(def_graph_title, def_column_nplist, def_calculation_nplist):\n",
    "    %matplotlib inline\n",
    "\n",
    "    plt.xlabel(\"column\")\n",
    "    plt.ylabel(\"number\")\n",
    "    plt.title(def_graph_title)\n",
    "    plt.bar(def_column_nplist, def_calculation_nplist)\n",
    "    plt.show()\n",
    "\n",
    "func_bar_chessboard_column_calc(\"COLUMNS_MEAN in_each_column\", np.arange(X_SIZE)+1, func_chessboad_squre_size(X_SIZE,Y_SIZE).mean(axis=0))"
   ]
  },
  {
   "cell_type": "code",
   "execution_count": 138,
   "metadata": {
    "scrolled": true
   },
   "outputs": [
    {
     "data": {
      "image/png": "[encoded data removed]",
      "text/plain": [
       "<Figure size 432x288 with 1 Axes>"
      ]
     },
     "metadata": {},
     "output_type": "display_data"
    }
   ],
   "source": [
    "#問題４\n",
    "def func_heatmap_chessboard_num(def_graph_title, def_chessboard_nplist):\n",
    "    plt.xlabel(\"column\")\n",
    "    plt.ylabel(\"row\")\n",
    "    plt.title(def_graph_title)\n",
    "    plt.pcolor(def_chessboard_nplist)\n",
    "    plt.show()\n",
    "func_heatmap_chessboard_num(\"HEATMAP_CHESSBOARD_NUM\", func_chessboad_squre_size(X_SIZE,Y_SIZE))\n"
   ]
  },
  {
   "cell_type": "code",
   "execution_count": 139,
   "metadata": {},
   "outputs": [
    {
     "name": "stdout",
     "output_type": "stream",
     "text": [
      "[[4.2949673e+09 4.2949673e+09 4.2949673e+09 4.2949673e+09 4.2949673e+09\n",
      "  4.2949673e+09 4.2949673e+09 4.2949673e+09]\n",
      " [4.2949673e+09 4.2949673e+09 4.2949673e+09 4.2949673e+09 4.2949673e+09\n",
      "  4.2949673e+09 4.2949673e+09 4.2949673e+09]\n",
      " [4.2949673e+09 4.2949673e+09 4.2949673e+09 4.2949673e+09 4.2949673e+09\n",
      "  4.2949673e+09 4.2949673e+09 4.2949673e+09]\n",
      " [4.2949673e+09 4.2949673e+09 4.2949673e+09 4.2949673e+09 4.2949673e+09\n",
      "  4.2949673e+09 4.2949673e+09 4.2949673e+09]]\n"
     ]
    }
   ],
   "source": [
    "#問題５\n",
    "ZENHAN=func_chessboad_squre_size(X_SIZE,Y_SIZE)[:4,:]\n",
    "KOUHAN=func_chessboad_squre_size(X_SIZE,Y_SIZE)[4:,:]\n",
    "KOUHAN_WARU_ZENHAN = KOUHAN/ZENHAN\n",
    "print(KOUHAN_WARU_ZENHAN)"
   ]
  },
  {
   "cell_type": "code",
   "execution_count": 140,
   "metadata": {},
   "outputs": [
    {
     "name": "stdout",
     "output_type": "stream",
     "text": [
      "8×8マスの板に小麦を並べる：\n",
      "[[                  1                   2                   4\n",
      "                    8                  16                  32\n",
      "                   64                 128]\n",
      " [                256                 512                1024\n",
      "                 2048                4096                8192\n",
      "                16384               32768]\n",
      " [              65536              131072              262144\n",
      "               524288             1048576             2097152\n",
      "              4194304             8388608]\n",
      " [           16777216            33554432            67108864\n",
      "            134217728           268435456           536870912\n",
      "           1073741824          2147483648]\n",
      " [         4294967296          8589934592         17179869184\n",
      "          34359738368         68719476736        137438953472\n",
      "         274877906944        549755813888]\n",
      " [      1099511627776       2199023255552       4398046511104\n",
      "        8796093022208      17592186044416      35184372088832\n",
      "       70368744177664     140737488355328]\n",
      " [    281474976710656     562949953421312    1125899906842624\n",
      "     2251799813685248    4503599627370496    9007199254740992\n",
      "    18014398509481984   36028797018963968]\n",
      " [  72057594037927936  144115188075855872  288230376151711744\n",
      "   576460752303423488 1152921504606846976 2305843009213693952\n",
      "  4611686018427387904 9223372036854775808]]\n"
     ]
    }
   ],
   "source": [
    "#問題６  _append\n",
    "def func_chessboad_squre_append(n,m):\n",
    "    n_squares = n * m\n",
    "    small_board_ndarray = np.array([1])\n",
    "    for _ in range(n_squares - 1):\n",
    "        small_board_ndarray = np.append(small_board_ndarray, 2*small_board_ndarray[-1]).astype(np.uint64)\n",
    "    return small_board_ndarray.reshape(n,m).astype(np.uint64)\n",
    "X_SIZE = 8\n",
    "Y_SIZE = 8\n",
    "print(\"{}×{}マスの板に小麦を並べる：\\n{}\".format(X_SIZE, Y_SIZE, func_chessboad_squre_append(X_SIZE,Y_SIZE)))"
   ]
  },
  {
   "cell_type": "code",
   "execution_count": 141,
   "metadata": {},
   "outputs": [
    {
     "name": "stdout",
     "output_type": "stream",
     "text": [
      "8×8マスの板に小麦を並べる：\n",
      "[[1.00000000e+00 2.00000000e+00 4.00000000e+00 8.00000000e+00\n",
      "  1.60000000e+01 3.20000000e+01 6.40000000e+01 1.28000000e+02]\n",
      " [2.56000000e+02 5.12000000e+02 1.02400000e+03 2.04800000e+03\n",
      "  4.09600000e+03 8.19200000e+03 1.63840000e+04 3.27680000e+04]\n",
      " [6.55360000e+04 1.31072000e+05 2.62144000e+05 5.24288000e+05\n",
      "  1.04857600e+06 2.09715200e+06 4.19430400e+06 8.38860800e+06]\n",
      " [1.67772160e+07 3.35544320e+07 6.71088640e+07 1.34217728e+08\n",
      "  2.68435456e+08 5.36870912e+08 1.07374182e+09 2.14748365e+09]\n",
      " [4.29496730e+09 8.58993459e+09 1.71798692e+10 3.43597384e+10\n",
      "  6.87194767e+10 1.37438953e+11 2.74877907e+11 5.49755814e+11]\n",
      " [1.09951163e+12 2.19902326e+12 4.39804651e+12 8.79609302e+12\n",
      "  1.75921860e+13 3.51843721e+13 7.03687442e+13 1.40737488e+14]\n",
      " [2.81474977e+14 5.62949953e+14 1.12589991e+15 2.25179981e+15\n",
      "  4.50359963e+15 9.00719925e+15 1.80143985e+16 3.60287970e+16]\n",
      " [7.20575940e+16 1.44115188e+17 2.88230376e+17 5.76460752e+17\n",
      "  1.15292150e+18 2.30584301e+18 4.61168602e+18 9.22337204e+18]]\n"
     ]
    }
   ],
   "source": [
    "#問題６  _broadcast\n",
    "def func_chessboad_squre_broadcast(n,m):\n",
    "    n_squares = n * m\n",
    "    indices_of_squares = np.arange(n_squares).astype(np.uint64)\n",
    "    small_board_ndarray = 2**indices_of_squares\n",
    "    return small_board_ndarray.reshape(n,m)\n",
    "X_SIZE = 8\n",
    "Y_SIZE = 8\n",
    "print(\"{}×{}マスの板に小麦を並べる：\\n{}\".format(X_SIZE, Y_SIZE, func_chessboad_squre_size(X_SIZE,Y_SIZE)))"
   ]
  },
  {
   "cell_type": "code",
   "execution_count": 118,
   "metadata": {},
   "outputs": [],
   "source": [
    "#問題７  _broadcast"
   ]
  },
  {
   "cell_type": "code",
   "execution_count": 142,
   "metadata": {},
   "outputs": [
    {
     "name": "stdout",
     "output_type": "stream",
     "text": [
      "34.4 µs ± 307 ns per loop (mean ± std. dev. of 7 runs, 10000 loops each)\n"
     ]
    }
   ],
   "source": [
    "%%timeit\n",
    "use_list = func_chessboad_squre_size(X_SIZE,Y_SIZE)"
   ]
  },
  {
   "cell_type": "code",
   "execution_count": 143,
   "metadata": {},
   "outputs": [
    {
     "name": "stdout",
     "output_type": "stream",
     "text": [
      "975 µs ± 8.23 µs per loop (mean ± std. dev. of 7 runs, 1000 loops each)\n"
     ]
    }
   ],
   "source": [
    "%%timeit\n",
    "use_append = func_chessboad_squre_append(X_SIZE,Y_SIZE)"
   ]
  },
  {
   "cell_type": "code",
   "execution_count": 144,
   "metadata": {},
   "outputs": [
    {
     "name": "stdout",
     "output_type": "stream",
     "text": [
      "7.98 µs ± 44.5 ns per loop (mean ± std. dev. of 7 runs, 100000 loops each)\n"
     ]
    }
   ],
   "source": [
    "%%timeit\n",
    "use_broadcast = func_chessboad_squre_broadcast(X_SIZE,Y_SIZE)"
   ]
  },
  {
   "cell_type": "code",
   "execution_count": null,
   "metadata": {},
   "outputs": [],
   "source": [
    "\"\"\"\n",
    "考察\n",
    "    for文より、ブロードキャストを用いた計算のほうが早い。\n",
    "    ndarray型でのappendはlistのappendより、だいぶ遅い。\n",
    "\"\"\""
   ]
  },
  {
   "cell_type": "code",
   "execution_count": null,
   "metadata": {},
   "outputs": [],
   "source": []
  }
 ],
 "metadata": {
  "kernelspec": {
   "display_name": "Python 3",
   "language": "python",
   "name": "python3"
  },
  "language_info": {
   "codemirror_mode": {
    "name": "ipython",
    "version": 3
   },
   "file_extension": ".py",
   "mimetype": "text/x-python",
   "name": "python",
   "nbconvert_exporter": "python",
   "pygments_lexer": "ipython3",
   "version": "3.6.5"
  }
 },
 "nbformat": 4,
 "nbformat_minor": 2
}
