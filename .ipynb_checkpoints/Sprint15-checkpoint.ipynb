{
 "cells": [
  {
   "cell_type": "markdown",
   "metadata": {},
   "source": [
    "### 問題 \n",
    "それぞれについてJupyter Notebookにマークダウン形式で記述してください。\n",
    "(1) 物体検出の分野にはどういった手法が存在したか。\n",
    "(2) Fasterとあるが、どういった仕組みで高速化したのか。\n",
    "(3) One-Stageの手法とTwo-Stageの手法はどう違うのか。\n",
    "(4) RPNとは何か。\n",
    "(5) RoIプーリングとは何か。\n",
    "(6) Anchorのサイズはどうするのが適切か。\n",
    "(7) 何というデータセットを使い、先行研究に比べどういった指標値が得られているか。\n",
    "(8) （アドバンス課題）Faster R-CNNよりも新しい物体検出の論文では、Faster R-CNNがどう引用されているか。\n",
    "\n",
    "### 条件 \n",
    "・答える際は論文のどの部分からそれが分かるかを書く。\n",
    "・必要に応じて先行研究（引用されている論文）も探しにいく。最低2つは他の論文を利用して回答すること。\n",
    "・論文の紹介記事を見ても良い。ただし、答えは論文内に根拠を探すこと。"
   ]
  },
  {
   "cell_type": "markdown",
   "metadata": {},
   "source": [
    "### (1) 物体検出の分野にはどういった手法が存在したか。\n",
    "SPPnet、Fast R-CNN\n",
    "\n",
    "Abstract—State-of-the-art object detection networks depend on region proposal algorithms to hypothesize object locations. Advances like SPPnet [1] and Fast R-CNN [2] have reduced the running time of these detection networks, exposing region proposal computation as a bottleneck. In this work, we introduce a Region Proposal Network (RPN) that shares full-image convolutionalfeatureswiththedetectionnetwork,thusenablingnearlycost-freeregionproposals."
   ]
  },
  {
   "cell_type": "markdown",
   "metadata": {},
   "source": [
    "### (2) Fasterとあるが、どういった仕組みで高速化したのか。\n",
    "\n"
   ]
  },
  {
   "cell_type": "markdown",
   "metadata": {},
   "source": [
    "In this work, we introduce a Region Proposal Network (RPN) that \n",
    "shares full-image convolutional features with the detection network,thusenabling nearly cost-free region proposals.\n",
    "\n",
    "An RPN is a fully convolutional network that simultaneously predicts object bounds and objectness scores at each position. \n",
    "The RPN is trained end-to-end to generate high-quality region proposals, \n",
    "which are used by Fast R-CNN for detection. \n",
    "\n",
    "We further merge RPN and Fast R-CNN into a single network by sharing their convolutional features—using the recently popular terminology of neural networks with “attention” mechanisms, \n",
    "the RPN component tells the uniﬁed network where to look. \n",
    "\n",
    "和訳\n",
    "私たちが提供するRegion Proposal Network (RPN) は\n",
    "検出ネットワークと完全画像畳み込み機能を共有し、ほぼ無料で領域提示を行うことが出来ます。\n",
    "\n",
    "RPNは完全画像畳み込みネットワークで、各位置でオブジェクトの境界とオブジェクトのスコアを同時に予測します。\n",
    "\n",
    "RPNは、Fast R-CNNが検出に使用する高品質の領域提示を生成するためにエンドツーエンドで学習します。\n",
    "\n",
    "畳み込み機能を共有する事と、最近注目されている“attention”メカニズムを備えたニューラルネットワークの用語を使用する事\n",
    "により、RPNとFast R-CNNを単一のネットワークにさらにマージします。\n",
    "RPNコンポーネントは統一されたネットワークにどこを見ればよいかを伝えます。"
   ]
  }
 ],
 "metadata": {
  "kernelspec": {
   "display_name": "Python 3",
   "language": "python",
   "name": "python3"
  },
  "language_info": {
   "codemirror_mode": {
    "name": "ipython",
    "version": 3
   },
   "file_extension": ".py",
   "mimetype": "text/x-python",
   "name": "python",
   "nbconvert_exporter": "python",
   "pygments_lexer": "ipython3",
   "version": "3.6.5"
  }
 },
 "nbformat": 4,
 "nbformat_minor": 2
}
