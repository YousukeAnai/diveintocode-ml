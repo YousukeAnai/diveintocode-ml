{
 "cells": [
  {
   "cell_type": "markdown",
   "metadata": {},
   "source": [
    "#問題１\n",
    "A×B\n",
    "= [[-1×0 + 2×0 + 3×2 ,  -1×2 + 2×2 + 3×9 ,   -1×1 + 2×(-8) + 3×(-1)],\n",
    "   [4×0 + (-5)×0 + 6×2 , 4×2 + (-5)×2 + 6×9 , 4×1 + (-5)× (-8) + 6×(-1)],\n",
    "   [7×0 + 8×0 + (-9)×2 , 7×2 + 8×2 + (-9)×9 , 7×1 + 8×(-8) + (-9)×(-1)]]\n",
    "\n",
    "= [[6, 29, -20],\n",
    "   [12, 52, 38],\n",
    "   [-18, -51, -48]]"
   ]
  },
  {
   "cell_type": "code",
   "execution_count": 72,
   "metadata": {},
   "outputs": [
    {
     "name": "stdout",
     "output_type": "stream",
     "text": [
      "[[  6  29 -20]\n",
      " [ 12  52  38]\n",
      " [-18 -51 -48]]\n",
      "[[  6  29 -20]\n",
      " [ 12  52  38]\n",
      " [-18 -51 -48]]\n",
      "[[  6  29 -20]\n",
      " [ 12  52  38]\n",
      " [-18 -51 -48]]\n"
     ]
    }
   ],
   "source": [
    "#問題２\n",
    "import numpy as np\n",
    "def func_naiseki_a(def_array1, def_array2):\n",
    "    return def_array1 @ def_array2\n",
    "def func_naiseki_matmul(def_array1, def_array2):\n",
    "    return np.matmul(def_array1,def_array2)\n",
    "def func_naiseki_dot(def_array1, def_array2):\n",
    "    return np.dot(def_array1,def_array2)\n",
    "\n",
    "a_ndarray = np.array([[-1, 2, 3], [4, -5, 6], [7, 8, -9]])\n",
    "b_ndarray = np.array([[0, 2, 1], [0, 2, -8], [2, 9, -1]])\n",
    "\n",
    "result_naiseki_a = func_naiseki_a(a_ndarray, b_ndarray) \n",
    "result_naiseki_matmul = func_naiseki_matmul(a_ndarray, b_ndarray) \n",
    "result_naiseki_dot = func_naiseki_dot(a_ndarray, b_ndarray) \n",
    "\n",
    "print(result_naiseki_a)\n",
    "print(result_naiseki_matmul)\n",
    "print(result_naiseki_dot)\n"
   ]
  },
  {
   "cell_type": "code",
   "execution_count": 73,
   "metadata": {},
   "outputs": [
    {
     "data": {
      "text/plain": [
       "array([[  6,  29, -20],\n",
       "       [ 12,  52,  38],\n",
       "       [-18, -51, -48]])"
      ]
     },
     "execution_count": 73,
     "metadata": {},
     "output_type": "execute_result"
    }
   ],
   "source": [
    "#問題３\n",
    "def func_naiseki_manual(def_array1, def_array2):\n",
    "        def_ary_0_0 = def_array1[0,0]*def_array2[0,0] + def_array1[0,1]*def_array2[1,0] + def_array1[0,2]*def_array2[2,0]\n",
    "        def_ary_1_0 = def_array1[1,0]*def_array2[0,0] + def_array1[1,1]*def_array2[1,0] + def_array1[1,2]*def_array2[2,0]\n",
    "        def_ary_2_0 = def_array1[2,0]*def_array2[0,0] + def_array1[2,1]*def_array2[1,0] + def_array1[2,2]*def_array2[2,0]\n",
    "        \n",
    "        def_ary_0_1 = def_array1[0,0]*def_array2[0,1] + def_array1[0,1]*def_array2[1,1] + def_array1[0,2]*def_array2[2,1]\n",
    "        def_ary_1_1 = def_array1[1,0]*def_array2[0,1] + def_array1[1,1]*def_array2[1,1] + def_array1[1,2]*def_array2[2,1]\n",
    "        def_ary_2_1 = def_array1[2,0]*def_array2[0,1] + def_array1[2,1]*def_array2[1,1] + def_array1[2,2]*def_array2[2,1]\n",
    "        \n",
    "        def_ary_0_2 = def_array1[0,0]*def_array2[0,2] + def_array1[0,1]*def_array2[1,2] + def_array1[0,2]*def_array2[2,2]\n",
    "        def_ary_1_2 = def_array1[1,0]*def_array2[0,2] + def_array1[1,1]*def_array2[1,2] + def_array1[1,2]*def_array2[2,2]\n",
    "        def_ary_2_2 = def_array1[2,0]*def_array2[0,2] + def_array1[2,1]*def_array2[1,2] + def_array1[2,2]*def_array2[2,2]\n",
    "\n",
    "        def_result_array = np.array([[def_ary_0_0,def_ary_0_1,def_ary_0_2],\n",
    "                                    [def_ary_1_0,def_ary_1_1,def_ary_1_2],\n",
    "                                    [def_ary_2_0,def_ary_2_1,def_ary_2_2]])        \n",
    "        return def_result_array\n",
    "result_array = func_naiseki_manual(a_ndarray, b_ndarray)\n",
    "result_array"
   ]
  },
  {
   "cell_type": "code",
   "execution_count": 74,
   "metadata": {},
   "outputs": [
    {
     "data": {
      "text/plain": [
       "array([[  6.,  29., -20.],\n",
       "       [ 12.,  52.,  38.],\n",
       "       [-18., -51., -48.]])"
      ]
     },
     "execution_count": 74,
     "metadata": {},
     "output_type": "execute_result"
    }
   ],
   "source": [
    "#問題４\n",
    "def func_naiseki_manual2(def_array1, def_array2):\n",
    "        def_result_array = np.zeros(def_array1.shape[0]*def_array2.shape[1]).reshape(def_array1.shape[0],def_array2.shape[1])\n",
    "        \n",
    "        row=0\n",
    "        col=0\n",
    "        for row in range(def_array1.shape[0]):\n",
    "            for col in range(def_array2.shape[1]):\n",
    "                for kou in range(def_array1.shape[1]):\n",
    "                    def_result_array[row,col] += def_array1[row,kou]*def_array2[kou,col]\n",
    "                col += 1\n",
    "            row +=1\n",
    "        return def_result_array\n",
    "result_array = func_naiseki_manual2(a_ndarray, b_ndarray)\n",
    "result_array"
   ]
  },
  {
   "cell_type": "code",
   "execution_count": 75,
   "metadata": {},
   "outputs": [
    {
     "name": "stdout",
     "output_type": "stream",
     "text": [
      "Can't calcurate. Because array1's columns don't equal to array2's raws\n"
     ]
    }
   ],
   "source": [
    "#問題５\n",
    "def func_naiseki_manual3(def_array1, def_array2):\n",
    "        def_result_array = np.zeros(def_array1.shape[0]*def_array2.shape[1]).reshape(def_array1.shape[0],def_array2.shape[1])\n",
    "        if def_array1.shape[1] != def_array2.shape[0]:\n",
    "            return print(\"Can't calcurate. Because array1's columns don't equal to array2's raws\") \n",
    "        else:\n",
    "            row=0\n",
    "            col=0\n",
    "            for row in range(def_array1.shape[0]):\n",
    "                for col in range(def_array2.shape[1]):\n",
    "                    for kou in range(def_array1.shape[1]):\n",
    "                        def_result_array[row,col] += def_array1[row,kou]*def_array2[kou,col]\n",
    "                    col += 1\n",
    "                row +=1\n",
    "            return def_result_array\n",
    "\n",
    "d_ndarray_ = np.array([[-1, 2, 3], \n",
    "                       [4, -5, 6]])\n",
    "e_ndarray = np.array([[-9, 8, 7], \n",
    "                      [6, -5, 4]])\n",
    "result_array = func_naiseki_manual3(d_ndarray_, e_ndarray)\n",
    "result_array"
   ]
  },
  {
   "cell_type": "code",
   "execution_count": 76,
   "metadata": {},
   "outputs": [
    {
     "data": {
      "text/plain": [
       "array([[ 33., -28.,   9.],\n",
       "       [-48.,  41.,  -6.],\n",
       "       [  9.,  -6.,  45.]])"
      ]
     },
     "execution_count": 76,
     "metadata": {},
     "output_type": "execute_result"
    }
   ],
   "source": [
    "#問題６\n",
    "result_array = func_naiseki_manual3(d_ndarray_.T, e_ndarray)\n",
    "result_array"
   ]
  }
 ],
 "metadata": {
  "kernelspec": {
   "display_name": "Python 3",
   "language": "python",
   "name": "python3"
  },
  "language_info": {
   "codemirror_mode": {
    "name": "ipython",
    "version": 3
   },
   "file_extension": ".py",
   "mimetype": "text/x-python",
   "name": "python",
   "nbconvert_exporter": "python",
   "pygments_lexer": "ipython3",
   "version": "3.6.5"
  }
 },
 "nbformat": 4,
 "nbformat_minor": 2
}
