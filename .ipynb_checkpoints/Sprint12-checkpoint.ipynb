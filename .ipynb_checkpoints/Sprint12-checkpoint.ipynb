{
 "cells": [
  {
   "cell_type": "code",
   "execution_count": 1,
   "metadata": {},
   "outputs": [],
   "source": [
    "import pandas as pd\n",
    "import matplotlib.pyplot as plt\n",
    "import numpy as np\n",
    "import math\n",
    "from sklearn.metrics import accuracy_score\n",
    "from sklearn import metrics\n",
    "from sklearn.metrics import confusion_matrix\n",
    "import sys,os\n",
    "sys.path.append(r\"C:\\Users\\anai\\dive\\oreilly\\deep-learning-from-scratch\\common\")\n",
    "from util import im2col, col2im"
   ]
  },
  {
   "cell_type": "code",
   "execution_count": 2,
   "metadata": {},
   "outputs": [
    {
     "data": {
      "text/plain": [
       "['',\n",
       " 'C:\\\\Users\\\\anai\\\\Anaconda3\\\\python36.zip',\n",
       " 'C:\\\\Users\\\\anai\\\\Anaconda3\\\\DLLs',\n",
       " 'C:\\\\Users\\\\anai\\\\Anaconda3\\\\lib',\n",
       " 'C:\\\\Users\\\\anai\\\\Anaconda3',\n",
       " 'C:\\\\Users\\\\anai\\\\AppData\\\\Roaming\\\\Python\\\\Python36\\\\site-packages',\n",
       " 'C:\\\\Users\\\\anai\\\\Anaconda3\\\\lib\\\\site-packages',\n",
       " 'C:\\\\Users\\\\anai\\\\Anaconda3\\\\lib\\\\site-packages\\\\win32',\n",
       " 'C:\\\\Users\\\\anai\\\\Anaconda3\\\\lib\\\\site-packages\\\\win32\\\\lib',\n",
       " 'C:\\\\Users\\\\anai\\\\Anaconda3\\\\lib\\\\site-packages\\\\Pythonwin',\n",
       " 'C:\\\\Users\\\\anai\\\\Anaconda3\\\\lib\\\\site-packages\\\\IPython\\\\extensions',\n",
       " 'C:\\\\Users\\\\anai\\\\.ipython',\n",
       " 'C:\\\\Users\\\\anai\\\\dive\\\\oreilly\\\\deep-learning-from-scratch\\\\common']"
      ]
     },
     "execution_count": 2,
     "metadata": {},
     "output_type": "execute_result"
    }
   ],
   "source": [
    "sys.path"
   ]
  },
  {
   "cell_type": "markdown",
   "metadata": {},
   "source": [
    "【問題1】2次元畳み込み層の作成 \n",
    "1次元畳み込み層のクラスConv1dを発展させ、2次元畳み込み層のクラスConv2dを作成してください。\n",
    "フォワードプロパゲーションの数式は以下のようになります。\n",
    "\n",
    "【問題2】2次元畳み込み後の出力サイズ \n",
    "畳み込みを行うと特徴マップのサイズが変化します。どのように変化するかは以下の数式から求められます。\n",
    "この計算を行う関数を作成してください。"
   ]
  },
  {
   "cell_type": "code",
   "execution_count": 3,
   "metadata": {},
   "outputs": [],
   "source": [
    "class Conv2d:\n",
    "    \"\"\"\n",
    "    ノード数n_nodes1からn_nodes2への全結合層\n",
    "    Parameters\n",
    "    ----------\n",
    "    n_nodes1 : int\n",
    "      前の層のノード数\n",
    "    n_nodes2 : int\n",
    "      後の層のノード数\n",
    "    initializer : 初期化方法のインスタンス\n",
    "    optimizer : 最適化手法のインスタンス\n",
    "    \"\"\"\n",
    "    def __init__(self):\n",
    "        self.P = 0\n",
    "        self.Str = 1\n",
    "        self.a = np.array([])\n",
    "        self.dW = np.array([])\n",
    "        self.dX = np.array([])\n",
    "        #self.s=None\n",
    "        \n",
    "    def forward(self, X, W ,B):\n",
    "        \"\"\"\n",
    "        フォワード\n",
    "        Parameters\n",
    "        ----------\n",
    "        X : 次の形のndarray, shape (batch_size, n_nodes_bf)\n",
    "            入力\n",
    "        Returns\n",
    "        ----------\n",
    "        A : 次の形のndarray, shape (batch_size, n_nodes_af)\n",
    "            出力\n",
    "        \"\"\"\n",
    "        self.X = X\n",
    "        self.XN, self.XC, self.XH, self.XW = self.X.shape\n",
    "        \n",
    "        self.W = W \n",
    "        self.FN, self.FC, self.FH, self.FW = self.W.shape\n",
    "        self.B = B\n",
    "        self.s = self.W.shape[3]\n",
    "        \n",
    "        self._output_size()\n",
    "        \n",
    "        self.Wre = self.W.reshape(self.FN,-1)\n",
    "        #self.Bre = np.array([self.B] * self.Nhout * self.Nwout).reshape(-1,1)\n",
    "        self.Bre = self.B.reshape(1,-1)\n",
    "        self.col = im2col(self.X , self.FH, self.FW, self.Str, self.P)\n",
    "        \n",
    "        display(self.col)\n",
    "        display(self.Wre.T)\n",
    "        #display(self.Bre)\n",
    "        display(self.col @ self.Wre.T)\n",
    "        self.Are = (self.col @ self.Wre.T) + self.Bre\n",
    "        display(self.Are)\n",
    "        self.a = self.Are.reshape(self.XN, self.Nhout, self.Nwout,-1).transpose(0,3,1,2)\n",
    "        display(self.a.shape)\n",
    "        return self.a\n",
    "    \n",
    "    def _output_size(self):\n",
    "        self.Nhout = int((self.XH + 2*self.P - self.FH) / self.Str + 1)       \n",
    "        self.Nwout = int((self.XW + 2*self.P - self.FW) / self.Str + 1)\n",
    "        \n",
    "    def backward(self, dA):\n",
    "        \"\"\"\n",
    "        バックワード\n",
    "        Parameters\n",
    "        ----------\n",
    "        dA : 次の形のndarray, shape (batch_size, n_nodes2)\n",
    "            後ろから流れてきた勾配\n",
    "        Returns\n",
    "        ----------\n",
    "        dZ : 次の形のndarray, shape (batch_size, n_nodes1)\n",
    "            前に流す勾配\n",
    "        \"\"\"\n",
    "        self.dA=dA.transpose(0,2,3,1).reshape(-1,self.FN)\n",
    "        self.dB = np.sum(self.dA, axis=0)\n",
    "        \n",
    "        display(self.dA)\n",
    "        display(self.col.T)\n",
    "        self.dW = np.dot(self.col.T , self.dA)\n",
    "        display(self.dW)\n",
    "        self.dW = self.dW.transpose(1, 0).reshape(self.FN, self.FC, self.FH, self.FW)\n",
    "        display(self.dW)\n",
    "        \n",
    "        self.dXre = np.dot(self.dA, self.Wre) \n",
    "        self.dX = col2im(self.dXre, self.X.shape, self.FH, self.FW, self.Str, self.P)\n",
    "\n",
    "        return self.dX\n",
    "    "
   ]
  },
  {
   "cell_type": "code",
   "execution_count": 4,
   "metadata": {
    "scrolled": true
   },
   "outputs": [
    {
     "data": {
      "text/plain": [
       "(3, 1, 2, 3)"
      ]
     },
     "metadata": {},
     "output_type": "display_data"
    },
    {
     "data": {
      "text/plain": [
       "(1, 1, 2, 4)"
      ]
     },
     "execution_count": 4,
     "metadata": {},
     "output_type": "execute_result"
    }
   ],
   "source": [
    "x = np.array([[2, 3, 4, 5], [1, 2, 3, 4]]) # shape(2, 4)で、（入力チャンネル数、特徴量数）である。\n",
    "w = np.array([[[[1,1,1],\n",
    "            [1,1,1]],\n",
    "            [[1,1,1],\n",
    "            [2,1,1]],\n",
    "            [[2,1,1],\n",
    "            [1,1,2]]]])\n",
    "w=w.transpose(1,0,2,3)\n",
    "display(w.shape)\n",
    "b = np.array([3, 2, 1]) # （出力チャンネル数）\n",
    "b=np.array([b]*1)\n",
    "x = np.array([[x]*1]*1)\n",
    "x.shape"
   ]
  },
  {
   "cell_type": "code",
   "execution_count": 5,
   "metadata": {
    "scrolled": false
   },
   "outputs": [
    {
     "data": {
      "text/plain": [
       "array([[2., 3., 4., 1., 2., 3.],\n",
       "       [3., 4., 5., 2., 3., 4.]])"
      ]
     },
     "metadata": {},
     "output_type": "display_data"
    },
    {
     "data": {
      "text/plain": [
       "array([[1, 1, 2],\n",
       "       [1, 1, 1],\n",
       "       [1, 1, 1],\n",
       "       [1, 2, 1],\n",
       "       [1, 1, 1],\n",
       "       [1, 1, 2]])"
      ]
     },
     "metadata": {},
     "output_type": "display_data"
    },
    {
     "data": {
      "text/plain": [
       "array([[15., 16., 20.],\n",
       "       [21., 23., 28.]])"
      ]
     },
     "metadata": {},
     "output_type": "display_data"
    },
    {
     "data": {
      "text/plain": [
       "array([[18., 18., 21.],\n",
       "       [24., 25., 29.]])"
      ]
     },
     "metadata": {},
     "output_type": "display_data"
    },
    {
     "data": {
      "text/plain": [
       "(1, 3, 1, 2)"
      ]
     },
     "metadata": {},
     "output_type": "display_data"
    },
    {
     "data": {
      "text/plain": [
       "array([[[[18., 24.]],\n",
       "\n",
       "        [[18., 25.]],\n",
       "\n",
       "        [[21., 29.]]]])"
      ]
     },
     "execution_count": 5,
     "metadata": {},
     "output_type": "execute_result"
    }
   ],
   "source": [
    "dnn2 = Conv2d()\n",
    "dnn2.forward(x,w,b)"
   ]
  },
  {
   "cell_type": "code",
   "execution_count": 6,
   "metadata": {},
   "outputs": [
    {
     "data": {
      "text/plain": [
       "(1, 3, 1, 2)"
      ]
     },
     "execution_count": 6,
     "metadata": {},
     "output_type": "execute_result"
    }
   ],
   "source": [
    "dA = np.array([[[52,56]],\n",
    "            [[32,35]],\n",
    "            [[9,11]]])\n",
    "dA = np.array([dA]*1)\n",
    "dA.shape"
   ]
  },
  {
   "cell_type": "code",
   "execution_count": 7,
   "metadata": {
    "scrolled": true
   },
   "outputs": [
    {
     "data": {
      "text/plain": [
       "array([[52, 32,  9],\n",
       "       [56, 35, 11]])"
      ]
     },
     "metadata": {},
     "output_type": "display_data"
    },
    {
     "data": {
      "text/plain": [
       "array([[2., 3.],\n",
       "       [3., 4.],\n",
       "       [4., 5.],\n",
       "       [1., 2.],\n",
       "       [2., 3.],\n",
       "       [3., 4.]])"
      ]
     },
     "metadata": {},
     "output_type": "display_data"
    },
    {
     "data": {
      "text/plain": [
       "array([[272., 169.,  51.],\n",
       "       [380., 236.,  71.],\n",
       "       [488., 303.,  91.],\n",
       "       [164., 102.,  31.],\n",
       "       [272., 169.,  51.],\n",
       "       [380., 236.,  71.]])"
      ]
     },
     "metadata": {},
     "output_type": "display_data"
    },
    {
     "data": {
      "text/plain": [
       "array([[[[272., 380., 488.],\n",
       "         [164., 272., 380.]]],\n",
       "\n",
       "\n",
       "       [[[169., 236., 303.],\n",
       "         [102., 169., 236.]]],\n",
       "\n",
       "\n",
       "       [[[ 51.,  71.,  91.],\n",
       "         [ 31.,  51.,  71.]]]])"
      ]
     },
     "metadata": {},
     "output_type": "display_data"
    },
    {
     "data": {
      "text/plain": [
       "array([[[[102., 206., 195., 102.],\n",
       "         [125., 230., 204., 113.]]]])"
      ]
     },
     "execution_count": 7,
     "metadata": {},
     "output_type": "execute_result"
    }
   ],
   "source": [
    "dnn2.backward(dA)"
   ]
  },
  {
   "cell_type": "code",
   "execution_count": 8,
   "metadata": {},
   "outputs": [
    {
     "name": "stdout",
     "output_type": "stream",
     "text": [
      "ten_2.shape(1, 2, 2, 4)\n",
      "ten_2[[[[1. 2. 3. 4.]\n",
      "   [1. 2. 3. 4.]]\n",
      "\n",
      "  [[2. 3. 4. 5.]\n",
      "   [2. 3. 4. 5.]]]]\n",
      "kernel.shape(3, 2, 1, 3)\n",
      "kernel[[[[1. 1. 2.]]\n",
      "\n",
      "  [[2. 1. 1.]]]\n",
      "\n",
      "\n",
      " [[[2. 1. 1.]]\n",
      "\n",
      "  [[1. 1. 1.]]]\n",
      "\n",
      "\n",
      " [[[1. 1. 1.]]\n",
      "\n",
      "  [[1. 1. 1.]]]]\n",
      "bias.shape(3, 1)\n",
      "bias[[1]\n",
      " [2]\n",
      " [3]]\n"
     ]
    }
   ],
   "source": [
    "ten_2 = np.array([[[1., 2., 3., 4.],\n",
    "                 [1., 2., 3., 4.]],\n",
    "                [[2., 3., 4., 5.],\n",
    "                 [2., 3., 4., 5.]]])\n",
    "\n",
    "ten_2 = np.expand_dims(ten_2, 0)\n",
    "print('ten_2.shape{}'.format(ten_2.shape))\n",
    "print('ten_2{}'.format(ten_2)) # (1, 2, 2, 4)\n",
    "\n",
    "kernel = np.array([[[[1., 2., 1.],\n",
    "                    [1., 1., 1.],\n",
    "                    [2., 1., 1.]]],\n",
    "                   [[[2., 1., 1.],\n",
    "                    [1., 1., 1.],\n",
    "                    [1., 1., 1.]]]])\n",
    "\n",
    "kernel = kernel.transpose(3,0,1,2)\n",
    "print('kernel.shape{}'.format(kernel.shape))\n",
    "print('kernel{}'.format(kernel))\n",
    "\n",
    "bias = np.array([[1],[2],[3]])\n",
    "print('bias.shape{}'.format(bias.shape))\n",
    "\n",
    "print('bias{}'.format(bias))"
   ]
  },
  {
   "cell_type": "code",
   "execution_count": 9,
   "metadata": {},
   "outputs": [
    {
     "data": {
      "text/plain": [
       "array([[1., 2., 3., 2., 3., 4.],\n",
       "       [2., 3., 4., 3., 4., 5.],\n",
       "       [1., 2., 3., 2., 3., 4.],\n",
       "       [2., 3., 4., 3., 4., 5.]])"
      ]
     },
     "metadata": {},
     "output_type": "display_data"
    },
    {
     "data": {
      "text/plain": [
       "array([[1., 2., 1.],\n",
       "       [1., 1., 1.],\n",
       "       [2., 1., 1.],\n",
       "       [2., 1., 1.],\n",
       "       [1., 1., 1.],\n",
       "       [1., 1., 1.]])"
      ]
     },
     "metadata": {},
     "output_type": "display_data"
    },
    {
     "data": {
      "text/plain": [
       "array([[20., 16., 15.],\n",
       "       [28., 23., 21.],\n",
       "       [20., 16., 15.],\n",
       "       [28., 23., 21.]])"
      ]
     },
     "metadata": {},
     "output_type": "display_data"
    },
    {
     "data": {
      "text/plain": [
       "array([[21., 18., 18.],\n",
       "       [29., 25., 24.],\n",
       "       [21., 18., 18.],\n",
       "       [29., 25., 24.]])"
      ]
     },
     "metadata": {},
     "output_type": "display_data"
    },
    {
     "data": {
      "text/plain": [
       "(1, 3, 2, 2)"
      ]
     },
     "metadata": {},
     "output_type": "display_data"
    },
    {
     "data": {
      "text/plain": [
       "array([[[[21., 29.],\n",
       "         [21., 29.]],\n",
       "\n",
       "        [[18., 25.],\n",
       "         [18., 25.]],\n",
       "\n",
       "        [[18., 24.],\n",
       "         [18., 24.]]]])"
      ]
     },
     "execution_count": 9,
     "metadata": {},
     "output_type": "execute_result"
    }
   ],
   "source": [
    "dnn3 = Conv2d()\n",
    "dnn3.forward(ten_2,kernel,bias)"
   ]
  },
  {
   "cell_type": "code",
   "execution_count": 10,
   "metadata": {},
   "outputs": [
    {
     "data": {
      "text/plain": [
       "(1, 3, 2, 2)"
      ]
     },
     "metadata": {},
     "output_type": "display_data"
    },
    {
     "data": {
      "text/plain": [
       "array([[ 9., 32., 52.],\n",
       "       [11., 35., 56.],\n",
       "       [ 9., 32., 52.],\n",
       "       [11., 35., 56.]])"
      ]
     },
     "metadata": {},
     "output_type": "display_data"
    },
    {
     "data": {
      "text/plain": [
       "array([[1., 2., 1., 2.],\n",
       "       [2., 3., 2., 3.],\n",
       "       [3., 4., 3., 4.],\n",
       "       [2., 3., 2., 3.],\n",
       "       [3., 4., 3., 4.],\n",
       "       [4., 5., 4., 5.]])"
      ]
     },
     "metadata": {},
     "output_type": "display_data"
    },
    {
     "data": {
      "text/plain": [
       "array([[ 62., 204., 328.],\n",
       "       [102., 338., 544.],\n",
       "       [142., 472., 760.],\n",
       "       [102., 338., 544.],\n",
       "       [142., 472., 760.],\n",
       "       [182., 606., 976.]])"
      ]
     },
     "metadata": {},
     "output_type": "display_data"
    },
    {
     "data": {
      "text/plain": [
       "array([[[[ 62., 102., 142.]],\n",
       "\n",
       "        [[102., 142., 182.]]],\n",
       "\n",
       "\n",
       "       [[[204., 338., 472.]],\n",
       "\n",
       "        [[338., 472., 606.]]],\n",
       "\n",
       "\n",
       "       [[[328., 544., 760.]],\n",
       "\n",
       "        [[544., 760., 976.]]]])"
      ]
     },
     "metadata": {},
     "output_type": "display_data"
    },
    {
     "data": {
      "text/plain": [
       "array([[[[125., 230., 204., 113.],\n",
       "         [125., 230., 204., 113.]],\n",
       "\n",
       "        [[102., 206., 195., 102.],\n",
       "         [102., 206., 195., 102.]]]])"
      ]
     },
     "execution_count": 10,
     "metadata": {},
     "output_type": "execute_result"
    }
   ],
   "source": [
    "loss_2 = np.array([[[[9., 11.],\n",
    "                   [9., 11.]],\n",
    "                  [[32., 35.],\n",
    "                   [32., 35.]],\n",
    "                  [[52., 56.],\n",
    "                   [52., 56.]]]])\n",
    "display(loss_2.shape)\n",
    "dnn3.backward(loss_2)"
   ]
  },
  {
   "cell_type": "markdown",
   "metadata": {},
   "source": [
    "【問題3】最大プーリング層の作成 \n",
    "最大プーリング層のクラスMaxPool2Dを作成してください。\n",
    "プーリング層は数式で表さない方が分かりやすい部分もありますが、数式で表すとフォワードプロパゲーションは以下のようになります。"
   ]
  },
  {
   "cell_type": "code",
   "execution_count": 11,
   "metadata": {},
   "outputs": [],
   "source": [
    "class Pooling:\n",
    "    \"\"\"\n",
    "    ノード数n_nodes1からn_nodes2への全結合層\n",
    "    Parameters\n",
    "    ----------\n",
    "    n_nodes1 : int\n",
    "      前の層のノード数\n",
    "    n_nodes2 : int\n",
    "      後の層のノード数\n",
    "    initializer : 初期化方法のインスタンス\n",
    "    optimizer : 最適化手法のインスタンス\n",
    "    \"\"\"\n",
    "    def __init__(self, PH ,PW):\n",
    "        self.P = 0\n",
    "        self.Str = 2\n",
    "        self.PH = PH\n",
    "        self.PW = PW\n",
    "        \n",
    "    def forward(self, X):\n",
    "        \"\"\"\n",
    "        フォワード\n",
    "        Parameters\n",
    "        ----------\n",
    "        X : 次の形のndarray, shape (batch_size, n_nodes_bf)\n",
    "            入力\n",
    "        Returns\n",
    "        ----------\n",
    "        A : 次の形のndarray, shape (batch_size, n_nodes_af)\n",
    "            出力\n",
    "        \"\"\"\n",
    "        self.X = X\n",
    "        self.XN, self.XC, self.XH, self.XW = self.X.shape\n",
    "        #self.X = self.X.transpose(1,0,2,3)\n",
    "        self.Xre = self.X.reshape(-1, 1, self.XH, self.XW)\n",
    "        self.pcol = im2col(self.Xre , self.PH, self.PW, self.Str, self.P)\n",
    "        #display(self.pcol)\n",
    "        self.p_index = np.argmax(self.pcol, axis=1)\n",
    "        #display(self.p_index)\n",
    "        self.p_out_re =np.max(self.pcol,axis=1)\n",
    "        #display(self.p_out_re)\n",
    "        self._out_psize()\n",
    "        self.p_out = self.p_out_re.reshape(self.XN, self.Phout, self.Pwout,-1).transpose(0,3,1,2)\n",
    "        self.p_out = self.p_out_re.reshape(self.XN, -1, self.Phout, self.Pwout)\n",
    "        #display(self.pcol)\n",
    "        \n",
    "        return self.p_out\n",
    "    \n",
    "    def _out_psize(self):\n",
    "        self.Phout = int((self.XH + 2*self.P - self.PH) / self.Str + 1)       \n",
    "        self.Pwout = int((self.XW + 2*self.P - self.PW) / self.Str + 1)\n",
    "    \n",
    "    def backward(self, dPin):\n",
    "        \"\"\"\n",
    "        バックワード\n",
    "        Parameters\n",
    "        ----------\n",
    "        dA : 次の形のndarray, shape (batch_size, n_nodes2)\n",
    "            後ろから流れてきた勾配\n",
    "        Returns\n",
    "        ----------\n",
    "        dZ : 次の形のndarray, shape (batch_size, n_nodes1)\n",
    "            前に流す勾配\n",
    "        \"\"\"\n",
    "        self.dPre = dPin.reshape(1,-1)\n",
    "        self.backP = np.zeros((self.pcol.shape)) \n",
    "        for i in range(len(self.p_index)):\n",
    "            self.backP[i][self.p_index[i]] = self.dPre[:,i]\n",
    "        #display(self.backP)\n",
    "        #display(self.pcol)\n",
    "        self.dbackP = col2im(self.backP, self.Xre.shape, self.PH, self.PW, self.Str, self.P)\n",
    "        self.dbackP = self.dbackP.reshape(self.X.shape)\n",
    "        return self.dbackP"
   ]
  },
  {
   "cell_type": "code",
   "execution_count": 12,
   "metadata": {},
   "outputs": [
    {
     "data": {
      "text/plain": [
       "(2, 2, 4, 4)"
      ]
     },
     "metadata": {},
     "output_type": "display_data"
    },
    {
     "data": {
      "text/plain": [
       "(2, 2, 2, 2)"
      ]
     },
     "execution_count": 12,
     "metadata": {},
     "output_type": "execute_result"
    }
   ],
   "source": [
    "xin = np.array([[[[1,3,2,9],\n",
    "                  [7,4,1,5],\n",
    "                  [8,5,2,3],\n",
    "                  [4,2,1,4]],\n",
    "                 \n",
    "                 [[1,3,2,9],\n",
    "                  [7,4,1,5],\n",
    "                  [8,5,2,3],\n",
    "                  [4,2,1,4]]],\n",
    "               [[[1,3,2,9],\n",
    "                  [7,4,1,5],\n",
    "                  [8,5,2,3],\n",
    "                  [4,2,1,4]],\n",
    "                 \n",
    "                 [[1,3,2,9],\n",
    "                  [7,4,1,5],\n",
    "                  [8,5,2,3],\n",
    "                  [4,2,1,4]]]])\n",
    "display(xin.shape)\n",
    "scr_pool=Pooling(2,2)\n",
    "scr_pool.forward(xin).shape"
   ]
  },
  {
   "cell_type": "code",
   "execution_count": 13,
   "metadata": {},
   "outputs": [
    {
     "data": {
      "text/plain": [
       "(2, 2, 2, 2)"
      ]
     },
     "metadata": {},
     "output_type": "display_data"
    },
    {
     "data": {
      "text/plain": [
       "array([[[[0., 0., 0., 2.],\n",
       "         [1., 0., 0., 0.],\n",
       "         [3., 0., 0., 0.],\n",
       "         [0., 0., 0., 4.]],\n",
       "\n",
       "        [[0., 0., 0., 2.],\n",
       "         [1., 0., 0., 0.],\n",
       "         [3., 0., 0., 0.],\n",
       "         [0., 0., 0., 4.]]],\n",
       "\n",
       "\n",
       "       [[[0., 0., 0., 2.],\n",
       "         [1., 0., 0., 0.],\n",
       "         [3., 0., 0., 0.],\n",
       "         [0., 0., 0., 4.]],\n",
       "\n",
       "        [[0., 0., 0., 2.],\n",
       "         [1., 0., 0., 0.],\n",
       "         [3., 0., 0., 0.],\n",
       "         [0., 0., 0., 4.]]]])"
      ]
     },
     "execution_count": 13,
     "metadata": {},
     "output_type": "execute_result"
    }
   ],
   "source": [
    "#dP = np.array([[[[1,2,3],\n",
    "#                 [4,5,6],\n",
    "#                 [7,8,9]]]])\n",
    "dP = np.array([[[[1,2],\n",
    "                 [3,4]],\n",
    "                \n",
    "                [[1,2],\n",
    "                 [3,4]]],\n",
    "              [[[1,2],\n",
    "                 [3,4]],\n",
    "                \n",
    "                [[1,2],\n",
    "                 [3,4]]]])\n",
    "display(dP.shape)\n",
    "scr_pool.backward(dP)"
   ]
  },
  {
   "cell_type": "markdown",
   "metadata": {},
   "source": [
    "【問題5】平滑化 \n",
    "平滑化するためのFlattenクラスを作成してください。\n",
    "フォワードのときはチャンネル、高さ、幅の3次元を1次元にreshapeします。\n",
    "その値は記録しておき、バックワードのときに再びreshapeによって形を戻します。\n",
    "この平滑化のクラスを挟むことで出力前の全結合層に適した配列を作ることができます。"
   ]
  },
  {
   "cell_type": "code",
   "execution_count": 14,
   "metadata": {},
   "outputs": [],
   "source": [
    "class Flatten:\n",
    "    \"\"\"\n",
    "    ノード数n_nodes1からn_nodes2への全結合層\n",
    "    Parameters\n",
    "    ----------\n",
    "    n_nodes1 : int\n",
    "      前の層のノード数\n",
    "    n_nodes2 : int\n",
    "      後の層のノード数\n",
    "    initializer : 初期化方法のインスタンス\n",
    "    optimizer : 最適化手法のインスタンス\n",
    "    \"\"\"\n",
    "    def forward(self, X):\n",
    "        \"\"\"\n",
    "        フォワード\n",
    "        Parameters\n",
    "        ----------\n",
    "        X : 次の形のndarray, shape (batch_size, n_nodes_bf)\n",
    "            入力\n",
    "        Returns\n",
    "        ----------\n",
    "        A : 次の形のndarray, shape (batch_size, n_nodes_af)\n",
    "            出力\n",
    "        \"\"\"\n",
    "        self.XN, self.XC, self.XH, self.XW = X.shape\n",
    "        self.flatout = X.reshape(self.XN,-1)\n",
    "        \n",
    "        return self.flatout\n",
    "    \n",
    "    def backward(self, dPin):\n",
    "        \"\"\"\n",
    "        バックワード\n",
    "        Parameters\n",
    "        ----------\n",
    "        dA : 次の形のndarray, shape (batch_size, n_nodes2)\n",
    "            後ろから流れてきた勾配\n",
    "        Returns\n",
    "        ----------\n",
    "        dZ : 次の形のndarray, shape (batch_size, n_nodes1)\n",
    "            前に流す勾配\n",
    "        \"\"\"\n",
    "        self.dFlatten = dPin.reshape(self.XN, self.XC, self.XH, self.XW )\n",
    "        \n",
    "        return self.dFlatten"
   ]
  },
  {
   "cell_type": "code",
   "execution_count": 15,
   "metadata": {},
   "outputs": [
    {
     "data": {
      "text/plain": [
       "array([[2., 3., 4., 1., 2., 3.],\n",
       "       [3., 4., 5., 2., 3., 4.]])"
      ]
     },
     "metadata": {},
     "output_type": "display_data"
    },
    {
     "data": {
      "text/plain": [
       "array([[1, 1, 2],\n",
       "       [1, 1, 1],\n",
       "       [1, 1, 1],\n",
       "       [1, 2, 1],\n",
       "       [1, 1, 1],\n",
       "       [1, 1, 2]])"
      ]
     },
     "metadata": {},
     "output_type": "display_data"
    },
    {
     "data": {
      "text/plain": [
       "array([[15., 16., 20.],\n",
       "       [21., 23., 28.]])"
      ]
     },
     "metadata": {},
     "output_type": "display_data"
    },
    {
     "data": {
      "text/plain": [
       "array([[18., 18., 21.],\n",
       "       [24., 25., 29.]])"
      ]
     },
     "metadata": {},
     "output_type": "display_data"
    },
    {
     "data": {
      "text/plain": [
       "(1, 3, 1, 2)"
      ]
     },
     "metadata": {},
     "output_type": "display_data"
    },
    {
     "data": {
      "text/plain": [
       "array([[18., 24., 18., 25., 21., 29.]])"
      ]
     },
     "execution_count": 15,
     "metadata": {},
     "output_type": "execute_result"
    }
   ],
   "source": [
    "scr_flatten = Flatten()\n",
    "scr_flatten.forward(dnn2.forward(x,w,b)) "
   ]
  },
  {
   "cell_type": "code",
   "execution_count": 16,
   "metadata": {},
   "outputs": [
    {
     "data": {
      "text/plain": [
       "array([[[[1, 2]],\n",
       "\n",
       "        [[3, 4]],\n",
       "\n",
       "        [[5, 6]]]])"
      ]
     },
     "execution_count": 16,
     "metadata": {},
     "output_type": "execute_result"
    }
   ],
   "source": [
    "deluta_flat = np.array([1,2,3,4,5,6])\n",
    "scr_flatten.backward(deluta_flat) "
   ]
  },
  {
   "cell_type": "markdown",
   "metadata": {},
   "source": [
    "【問題6】学習と推定 \n",
    "作成したConv2dを使用してMNISTを学習・推定し、Accuracyを計算してください。\n",
    "精度は低くともまずは動くことを目指してください。"
   ]
  },
  {
   "cell_type": "code",
   "execution_count": 17,
   "metadata": {},
   "outputs": [],
   "source": [
    "import pandas as pd\n",
    "import matplotlib.pyplot as plt\n",
    "import numpy as np\n",
    "import math\n",
    "from sklearn.metrics import accuracy_score\n",
    "from sklearn import metrics\n",
    "from sklearn.metrics import confusion_matrix"
   ]
  },
  {
   "cell_type": "code",
   "execution_count": 18,
   "metadata": {},
   "outputs": [
    {
     "name": "stderr",
     "output_type": "stream",
     "text": [
      "C:\\Users\\anai\\Anaconda3\\lib\\site-packages\\h5py\\__init__.py:36: FutureWarning: Conversion of the second argument of issubdtype from `float` to `np.floating` is deprecated. In future, it will be treated as `np.float64 == np.dtype(float).type`.\n",
      "  from ._conv import register_converters as _register_converters\n",
      "Using TensorFlow backend.\n",
      "C:\\Users\\anai\\AppData\\Roaming\\Python\\Python36\\site-packages\\tensorflow\\python\\framework\\dtypes.py:516: FutureWarning: Passing (type, 1) or '1type' as a synonym of type is deprecated; in a future version of numpy, it will be understood as (type, (1,)) / '(1,)type'.\n",
      "  _np_qint8 = np.dtype([(\"qint8\", np.int8, 1)])\n",
      "C:\\Users\\anai\\AppData\\Roaming\\Python\\Python36\\site-packages\\tensorflow\\python\\framework\\dtypes.py:517: FutureWarning: Passing (type, 1) or '1type' as a synonym of type is deprecated; in a future version of numpy, it will be understood as (type, (1,)) / '(1,)type'.\n",
      "  _np_quint8 = np.dtype([(\"quint8\", np.uint8, 1)])\n",
      "C:\\Users\\anai\\AppData\\Roaming\\Python\\Python36\\site-packages\\tensorflow\\python\\framework\\dtypes.py:518: FutureWarning: Passing (type, 1) or '1type' as a synonym of type is deprecated; in a future version of numpy, it will be understood as (type, (1,)) / '(1,)type'.\n",
      "  _np_qint16 = np.dtype([(\"qint16\", np.int16, 1)])\n",
      "C:\\Users\\anai\\AppData\\Roaming\\Python\\Python36\\site-packages\\tensorflow\\python\\framework\\dtypes.py:519: FutureWarning: Passing (type, 1) or '1type' as a synonym of type is deprecated; in a future version of numpy, it will be understood as (type, (1,)) / '(1,)type'.\n",
      "  _np_quint16 = np.dtype([(\"quint16\", np.uint16, 1)])\n",
      "C:\\Users\\anai\\AppData\\Roaming\\Python\\Python36\\site-packages\\tensorflow\\python\\framework\\dtypes.py:520: FutureWarning: Passing (type, 1) or '1type' as a synonym of type is deprecated; in a future version of numpy, it will be understood as (type, (1,)) / '(1,)type'.\n",
      "  _np_qint32 = np.dtype([(\"qint32\", np.int32, 1)])\n",
      "C:\\Users\\anai\\AppData\\Roaming\\Python\\Python36\\site-packages\\tensorflow\\python\\framework\\dtypes.py:525: FutureWarning: Passing (type, 1) or '1type' as a synonym of type is deprecated; in a future version of numpy, it will be understood as (type, (1,)) / '(1,)type'.\n",
      "  np_resource = np.dtype([(\"resource\", np.ubyte, 1)])\n",
      "C:\\Users\\anai\\AppData\\Roaming\\Python\\Python36\\site-packages\\tensorboard\\compat\\tensorflow_stub\\dtypes.py:541: FutureWarning: Passing (type, 1) or '1type' as a synonym of type is deprecated; in a future version of numpy, it will be understood as (type, (1,)) / '(1,)type'.\n",
      "  _np_qint8 = np.dtype([(\"qint8\", np.int8, 1)])\n",
      "C:\\Users\\anai\\AppData\\Roaming\\Python\\Python36\\site-packages\\tensorboard\\compat\\tensorflow_stub\\dtypes.py:542: FutureWarning: Passing (type, 1) or '1type' as a synonym of type is deprecated; in a future version of numpy, it will be understood as (type, (1,)) / '(1,)type'.\n",
      "  _np_quint8 = np.dtype([(\"quint8\", np.uint8, 1)])\n",
      "C:\\Users\\anai\\AppData\\Roaming\\Python\\Python36\\site-packages\\tensorboard\\compat\\tensorflow_stub\\dtypes.py:543: FutureWarning: Passing (type, 1) or '1type' as a synonym of type is deprecated; in a future version of numpy, it will be understood as (type, (1,)) / '(1,)type'.\n",
      "  _np_qint16 = np.dtype([(\"qint16\", np.int16, 1)])\n",
      "C:\\Users\\anai\\AppData\\Roaming\\Python\\Python36\\site-packages\\tensorboard\\compat\\tensorflow_stub\\dtypes.py:544: FutureWarning: Passing (type, 1) or '1type' as a synonym of type is deprecated; in a future version of numpy, it will be understood as (type, (1,)) / '(1,)type'.\n",
      "  _np_quint16 = np.dtype([(\"quint16\", np.uint16, 1)])\n",
      "C:\\Users\\anai\\AppData\\Roaming\\Python\\Python36\\site-packages\\tensorboard\\compat\\tensorflow_stub\\dtypes.py:545: FutureWarning: Passing (type, 1) or '1type' as a synonym of type is deprecated; in a future version of numpy, it will be understood as (type, (1,)) / '(1,)type'.\n",
      "  _np_qint32 = np.dtype([(\"qint32\", np.int32, 1)])\n",
      "C:\\Users\\anai\\AppData\\Roaming\\Python\\Python36\\site-packages\\tensorboard\\compat\\tensorflow_stub\\dtypes.py:550: FutureWarning: Passing (type, 1) or '1type' as a synonym of type is deprecated; in a future version of numpy, it will be understood as (type, (1,)) / '(1,)type'.\n",
      "  np_resource = np.dtype([(\"resource\", np.ubyte, 1)])\n"
     ]
    }
   ],
   "source": [
    "from keras.datasets import mnist\n",
    "(X_train, y_train), (X_test, y_test) = mnist.load_data()"
   ]
  },
  {
   "cell_type": "code",
   "execution_count": 19,
   "metadata": {},
   "outputs": [],
   "source": [
    "X_train = X_train.astype(np.float)\n",
    "X_test = X_test.astype(np.float)\n",
    "X_train /= 255\n",
    "X_test /= 255\n",
    "\n",
    "X_train = X_train[:, np.newaxis,:,:]\n",
    "X_test = X_test[:, np.newaxis,:,:]\n",
    "\n",
    "from sklearn.preprocessing import OneHotEncoder\n",
    "enc = OneHotEncoder(handle_unknown='ignore', sparse=False)\n",
    "y_train_one_hot = enc.fit_transform(y_train[:, np.newaxis])\n",
    "y_test_one_hot = enc.transform(y_test[:, np.newaxis])\n",
    "\n",
    "from sklearn.model_selection import train_test_split\n",
    "X_train, X_val, y_train, y_val = train_test_split(X_train, y_train_one_hot, test_size=0.2)"
   ]
  },
  {
   "cell_type": "code",
   "execution_count": 20,
   "metadata": {},
   "outputs": [],
   "source": [
    "class GetMiniBatch:\n",
    "    \"\"\"\n",
    "    ミニバッチを取得するイテレータ\n",
    "\n",
    "    Parameters\n",
    "    ----------\n",
    "    X : 次の形のndarray, shape (n_samples, n_features)\n",
    "      訓練用データ\n",
    "    y : 次の形のndarray, shape (n_samples, 1)\n",
    "      正解値\n",
    "    batch_size : int\n",
    "      バッチサイズ\n",
    "    seed : int\n",
    "      NumPyの乱数のシード\n",
    "    \"\"\"\n",
    "    def __init__(self, X, y, batch_size = 20, seed=0):\n",
    "        self.batch_size = batch_size\n",
    "        np.random.seed(seed)\n",
    "        shuffle_index = np.random.permutation(np.arange(X.shape[0]))\n",
    "        self._X = X[shuffle_index]\n",
    "        self._y = y[shuffle_index]\n",
    "        self._stop = np.ceil(X.shape[0]/self.batch_size).astype(np.int)\n",
    "\n",
    "    def __len__(self):\n",
    "        return self._stop\n",
    "\n",
    "    def __getitem__(self,item):\n",
    "        p0 = item*self.batch_size\n",
    "        p1 = item*self.batch_size + self.batch_size\n",
    "        return self._X[p0:p1], self._y[p0:p1]        \n",
    "\n",
    "    def __iter__(self):\n",
    "        self._counter = 0\n",
    "        return self\n",
    "\n",
    "    def __next__(self):\n",
    "        if self._counter >= self._stop:\n",
    "            raise StopIteration()\n",
    "        p0 = self._counter*self.batch_size\n",
    "        p1 = self._counter*self.batch_size + self.batch_size\n",
    "        self._counter += 1\n",
    "        return self._X[p0:p1], self._y[p0:p1]"
   ]
  },
  {
   "cell_type": "code",
   "execution_count": 21,
   "metadata": {},
   "outputs": [],
   "source": [
    "class SimpleInitializer:\n",
    "    \"\"\"\n",
    "    ガウス分布によるシンプルな初期化\n",
    "    Parameters\n",
    "    ----------\n",
    "    sigma : float\n",
    "      ガウス分布の標準偏差\n",
    "    \"\"\"\n",
    "    def __init__(self, sigma):\n",
    "        self.sigma = sigma\n",
    "        #display(self.sigma.Calc)\n",
    "    def W(self, FC, FN, FH=3, FW=3):\n",
    "        \"\"\"\n",
    "        重みの初期化\n",
    "        Parameters\n",
    "        ----------\n",
    "        n_nodes1 : int\n",
    "          前の層のノード数\n",
    "        n_nodes2 : int\n",
    "          後の層のノード数\n",
    "\n",
    "        Returns\n",
    "        ----------\n",
    "        W :\n",
    "        \"\"\"\n",
    "        W = self.sigma * np.random.randn(FN, FC, FH, FW)\n",
    "        return W\n",
    "    \n",
    "    def B(self, FN):\n",
    "        \"\"\"\n",
    "        バイアスの初期化\n",
    "        Parameters\n",
    "        ----------\n",
    "        n_nodes2 : int\n",
    "          後の層のノード数\n",
    "\n",
    "        Returns\n",
    "        ----------\n",
    "        B :\n",
    "        \"\"\"\n",
    "        B = self.sigma * np.random.randn(1, FN)\n",
    "        return B"
   ]
  },
  {
   "cell_type": "code",
   "execution_count": 22,
   "metadata": {},
   "outputs": [],
   "source": [
    "class SGD:\n",
    "    \"\"\"\n",
    "    確率的勾配降下法\n",
    "    Parameters\n",
    "    ----------\n",
    "    lr : 学習率\n",
    "    \"\"\"\n",
    "    def __init__(self, lr):\n",
    "        self.lr = lr\n",
    "\n",
    "    def update(self, dWorB, WorB):\n",
    "        \"\"\"\n",
    "        ある層の重みやバイアスの更新\n",
    "        Parameters\n",
    "        ----------\n",
    "        layer : 更新前の層のインスタンス\n",
    "\n",
    "        Returns\n",
    "        ----------\n",
    "        layer : 更新後の層のインスタンス\n",
    "        \"\"\"\n",
    "        self.WorB = WorB\n",
    "        self.WorB -= self.lr*dWorB\n",
    "        return self.WorB"
   ]
  },
  {
   "cell_type": "code",
   "execution_count": 23,
   "metadata": {},
   "outputs": [],
   "source": [
    "class Activation:\n",
    "    \"\"\"\n",
    "    活性化関数　tanh\n",
    "    Parameters\n",
    "    ----------\n",
    "    \"\"\"\n",
    "    def __init__(self):\n",
    "        pass\n",
    "    def tanh_fw(self, X):\n",
    "        \"\"\"\n",
    "        フォワード\n",
    "        Parameters\n",
    "        ----------\n",
    "        X : 次の形のndarray, shape (batch_size, n_nodes_bf)\n",
    "            入力\n",
    "        Returns\n",
    "        ----------\n",
    "        A : 次の形のndarray, shape (batch_size, n_nodes_af)\n",
    "            出力\n",
    "        \"\"\"     \n",
    "        self.A = X\n",
    "        Z = np.tanh(X)\n",
    "        return Z\n",
    "\n",
    "    def tanh_bw(self, dZ):\n",
    "        \"\"\"\n",
    "        バックワード\n",
    "        Parameters\n",
    "        ----------\n",
    "        dA : 次の形のndarray, shape (batch_size, n_nodes2)\n",
    "            後ろから流れてきた勾配\n",
    "        Returns\n",
    "        ----------\n",
    "        dZ : 次の形のndarray, shape (batch_size, n_nodes1)\n",
    "            前に流す勾配\n",
    "        \"\"\"\n",
    "        dA = dZ * (1 - np.tanh(self.A)**2)  \n",
    "        return dA\n",
    "    \n",
    "    def softmax_fw(self, X):\n",
    "        \"\"\"\n",
    "        フォワード\n",
    "        Parameters\n",
    "        ----------\n",
    "        X : 次の形のndarray, shape (batch_size, n_nodes_bf)\n",
    "            入力\n",
    "        Returns\n",
    "        ----------\n",
    "        A : 次の形のndarray, shape (batch_size, n_nodes_af)\n",
    "            出力\n",
    "        \"\"\"     \n",
    "        Z = np.exp(X) / np.sum(np.exp(X), axis=1).reshape(-1,1)\n",
    "        return Z\n",
    "\n",
    "    def softmax_bw(self, Z, y):\n",
    "        \"\"\"\n",
    "        バックワード\n",
    "        Parameters\n",
    "        ----------\n",
    "        dA : 次の形のndarray, shape (batch_size, n_nodes2)\n",
    "            後ろから流れてきた勾配\n",
    "        Returns\n",
    "        ----------\n",
    "        dZ : 次の形のndarray, shape (batch_size, n_nodes1)\n",
    "            前に流す勾配\n",
    "        \"\"\"\n",
    "        dA = Z - y\n",
    "        return dA\n",
    "\n",
    "    def entropy(self, Z, y):\n",
    "        \"\"\"\n",
    "        フォワード\n",
    "        Parameters\n",
    "        ----------\n",
    "        X : 次の形のndarray, shape (batch_size, n_nodes_bf)\n",
    "            入力\n",
    "        Returns\n",
    "        ----------\n",
    "        A : 次の形のndarray, shape (batch_size, n_nodes_af)\n",
    "            出力\n",
    "        \"\"\"     \n",
    "        L = -1*np.average(np.sum(y * np.log(Z), axis=1), axis=0)\n",
    "        return L"
   ]
  },
  {
   "cell_type": "code",
   "execution_count": 24,
   "metadata": {},
   "outputs": [],
   "source": [
    "class Xavier:\n",
    "    \"\"\"\n",
    "    活性化関数　tanh\n",
    "    Parameters\n",
    "    ----------\n",
    "    \"\"\"\n",
    "    def __init__(self,n):\n",
    "        self.n=n\n",
    "        self.calc = 1/np.sqrt(self.n)"
   ]
  },
  {
   "cell_type": "code",
   "execution_count": 25,
   "metadata": {},
   "outputs": [],
   "source": [
    "class FC:\n",
    "    \"\"\"\n",
    "    ノード数n_nodes1からn_nodes2への全結合層\n",
    "    Parameters\n",
    "    ----------\n",
    "    n_nodes1 : int\n",
    "      前の層のノード数\n",
    "    n_nodes2 : int\n",
    "      後の層のノード数\n",
    "    initializer : 初期化方法のインスタンス\n",
    "    optimizer : 最適化手法のインスタンス\n",
    "    \"\"\"\n",
    "    def __init__(self, n_nodes1, n_nodes2, sigma, optimizer):\n",
    "        # 初期化\n",
    "        # initializerのメソッドを使い、self.Wとself.Bを初期化する\n",
    "        self.n_nodes1 = n_nodes1\n",
    "        self.n_nodes2 = n_nodes2\n",
    "        self.optimizer = optimizer\n",
    "        #self.W = initializer.W(self.n_nodes1, self.n_nodes2)\n",
    "        #self.B = initializer.B(self.n_nodes2)\n",
    "        display(sigma)\n",
    "        self.W = sigma * np.random.randn(self.n_nodes1, self.n_nodes2)\n",
    "        self.B = sigma * np.random.randn(1, self.n_nodes2)\n",
    "        \n",
    "    def forward(self, X):\n",
    "        \"\"\"\n",
    "        フォワード\n",
    "        Parameters\n",
    "        ----------\n",
    "        X : 次の形のndarray, shape (batch_size, n_nodes_bf)\n",
    "            入力\n",
    "        Returns\n",
    "        ----------\n",
    "        A : 次の形のndarray, shape (batch_size, n_nodes_af)\n",
    "            出力\n",
    "        \"\"\"\n",
    "        self.X = X\n",
    "        #display(self.X.shape)\n",
    "        #display(self.W.shape)\n",
    "        #display(self.B.shape)\n",
    "        A = np.dot(self.X, self.W) +  self.B\n",
    "        #display(A.shape)\n",
    "        return A\n",
    "\n",
    "    def backward(self, dA):\n",
    "        \"\"\"\n",
    "        バックワード\n",
    "        Parameters\n",
    "        ----------\n",
    "        dA : 次の形のndarray, shape (batch_size, n_nodes2)\n",
    "            後ろから流れてきた勾配\n",
    "        Returns\n",
    "        ----------\n",
    "        dZ : 次の形のndarray, shape (batch_size, n_nodes1)\n",
    "            前に流す勾配\n",
    "        \"\"\"\n",
    "        dB = np.sum(dA, axis=0)\n",
    "        dW = np.dot(self.X.T, dA)\n",
    "        dZ = np.dot(dA, self.W.T)     \n",
    "\n",
    "        # 更新\n",
    "        #self = self.optimizer.update(dW, dB, self.W, self.W)\n",
    "        self.W = self.optimizer.update(dW, self.W)\n",
    "        self.B = self.optimizer.update(dB, self.B)\n",
    "\n",
    "        return dZ\n"
   ]
  },
  {
   "cell_type": "code",
   "execution_count": 26,
   "metadata": {},
   "outputs": [],
   "source": [
    "class Conv2d:\n",
    "    \"\"\"\n",
    "    ノード数n_nodes1からn_nodes2への全結合層\n",
    "    Parameters\n",
    "    ----------\n",
    "    n_nodes1 : int\n",
    "      前の層のノード数\n",
    "    n_nodes2 : int\n",
    "      後の層のノード数\n",
    "    initializer : 初期化方法のインスタンス\n",
    "    optimizer : 最適化手法のインスタンス\n",
    "    \"\"\"\n",
    "    def __init__(self, initializer, optimizer, FC, FN, FH=3, FW=3):\n",
    "        self.P = 0\n",
    "        self.Str = 1\n",
    "        self.optimizer = optimizer\n",
    "        self.W = initializer.W(FC, FN)\n",
    "        self.B = initializer.B(FN)\n",
    "\n",
    "        self.a = np.array([])\n",
    "        self.dW = np.array([])\n",
    "        self.dX = np.array([])\n",
    "        #self.s=None\n",
    "        \n",
    "    def forward(self, X):\n",
    "        \"\"\"\n",
    "        フォワード\n",
    "        Parameters\n",
    "        ----------\n",
    "        X : 次の形のndarray, shape (batch_size, n_nodes_bf)\n",
    "            入力\n",
    "        Returns\n",
    "        ----------\n",
    "        A : 次の形のndarray, shape (batch_size, n_nodes_af)\n",
    "            出力\n",
    "        \"\"\"\n",
    "        self.X = X\n",
    "        self.XN, self.XC, self.XH, self.XW = self.X.shape\n",
    "        self.FN, self.FC, self.FH, self.FW = self.W.shape\n",
    "        self.s = self.W.shape[3]\n",
    "        \n",
    "        self._output_size()\n",
    "        \n",
    "        self.Wre = self.W.reshape(self.FN,-1)\n",
    "        self.Bre = self.B.reshape(1,-1)\n",
    "        self.col = im2col(self.X , self.FH, self.FW, self.Str, self.P)\n",
    "        \n",
    "        self.Are = (self.col @ self.Wre.T) + self.Bre\n",
    "        self.a = self.Are.reshape(self.XN, self.Nhout, self.Nwout,-1).transpose(0,3,1,2)\n",
    "\n",
    "        return self.a\n",
    "    \n",
    "    def _output_size(self):\n",
    "        self.Nhout = int((self.XH + 2*self.P - self.FH) / self.Str + 1)       \n",
    "        self.Nwout = int((self.XW + 2*self.P - self.FW) / self.Str + 1)\n",
    "        \n",
    "    def backward(self, dA):\n",
    "        \"\"\"\n",
    "        バックワード\n",
    "        Parameters\n",
    "        ----------\n",
    "        dA : 次の形のndarray, shape (batch_size, n_nodes2)\n",
    "            後ろから流れてきた勾配\n",
    "        Returns\n",
    "        ----------\n",
    "        dZ : 次の形のndarray, shape (batch_size, n_nodes1)\n",
    "            前に流す勾配\n",
    "        \"\"\"\n",
    "        self.dA=dA.transpose(0,2,3,1).reshape(-1,self.FN)\n",
    "        self.dB = np.sum(self.dA, axis=0)\n",
    "        \n",
    "        self.dW = np.dot(self.col.T , self.dA)\n",
    "        self.dW = self.dW.transpose(1, 0).reshape(self.FN, self.FC, self.FH, self.FW)\n",
    "        \n",
    "        self.dXre = np.dot(self.dA, self.Wre) \n",
    "        self.dX = col2im(self.dXre, self.X.shape, self.FH, self.FW, self.Str, self.P)\n",
    "\n",
    "        self.W = self.optimizer.update(self.dW, self.W)\n",
    "        self.B = self.optimizer.update(self.dB, self.B)\n",
    "        \n",
    "        return self.dX\n",
    "    "
   ]
  },
  {
   "cell_type": "code",
   "execution_count": 27,
   "metadata": {},
   "outputs": [],
   "source": [
    "class ScratchSimpleNeuralNetrowkClassifier():\n",
    "    \"\"\"\n",
    "    シンプルな三層ニューラルネットワーク分類器\n",
    "\n",
    "    Parameters\n",
    "    ----------\n",
    "    bp : int\n",
    "        バックプロパゲーション回数\n",
    "    Attributes\n",
    "    ----------\n",
    "    \"\"\"\n",
    "    def __init__(self, how_prp=\"htan\", FN1=3, FN2=6, n_output=10, n_epoq=5, batch_size=20, \n",
    "                 lr=0.001, verbose = True):\n",
    "        self.n_epoq = n_epoq\n",
    "        self.FN1 = FN1\n",
    "        self.FN2 = FN2\n",
    "        self.n_output = n_output\n",
    "        self.batch_size = batch_size\n",
    "        self.how_prp = how_prp\n",
    "        self.lr = lr\n",
    "        self.loss_list = np.array([])\n",
    "        self.loss_val_list = np.array([])\n",
    "\n",
    "    def fit(self, X, y):\n",
    "        \"\"\"\n",
    "        ニューラルネットワーク分類器を学習する。\n",
    "        Parameters\n",
    "        ----------\n",
    "        X : 次の形のndarray, shape (n_samples, n_features)\n",
    "            訓練用データの特徴量\n",
    "        y : 次の形のndarray, shape (n_samples, )\n",
    "            訓練用データの正解値\n",
    "        \"\"\"\n",
    "        self.X = X\n",
    "        self.XN, self.XC, self.XH, self.XW = self.X.shape\n",
    "        \n",
    "        optimizer = SGD(self.lr)\n",
    "        sigma1=Xavier(self.XC*3*3)\n",
    "        sigma2=Xavier(self.FN1*3*3)\n",
    "        \n",
    "        flatten_node = self.FN2*5*5\n",
    "        #last_node = np.round(flatten_node/2).astype(int)\n",
    "        sigma3=Xavier(self.n_output)\n",
    "        \n",
    "        self.CONV1 = Conv2d(SimpleInitializer(sigma1.calc), optimizer, self.XC, self.FN1, FH=3, FW=3)\n",
    "        self.activation1 = Activation()\n",
    "        self.MaxPool1 = Pooling(PH=2,PW=2)\n",
    "        self.CONV2 = Conv2d(SimpleInitializer(sigma2.calc), optimizer, self.FN1, self.FN2, FH=3, FW=3)\n",
    "        self.activation2 = Activation()\n",
    "        self.MaxPool2 = Pooling(PH=2,PW=2)\n",
    "        self.FLAT = Flatten()\n",
    "        self.DENSE = FC(flatten_node, self.n_output, sigma3.calc, optimizer)\n",
    "        self.activation3 = Activation()\n",
    "        \n",
    "        self.val = 0\n",
    "        get_mini_batch = GetMiniBatch(X, y, batch_size=self.batch_size)\n",
    "        for _ in range(self.n_epoq):\n",
    "            for X_mini, y_mini in get_mini_batch:\n",
    "                self.X_ = X_mini\n",
    "                self.y_ = y_mini\n",
    "                #display(sigma3)\n",
    "                self._forward_propagation(self.X_)\n",
    "                self._back_propagation()\n",
    "                \n",
    "            self.L = self.activation3.entropy(self.Z3, self.y_)        \n",
    "            self.loss_list = np.append(self.loss_list, self.L)\n",
    "        \n",
    "    def _forward_propagation(self, X):\n",
    "        self.a1 = self.CONV1.forward(X)\n",
    "        self.Z1 = self.activation1.tanh_fw(self.a1)\n",
    "        #display(self.Z1.shape)\n",
    "        self.p1 = self.MaxPool1.forward(self.Z1)\n",
    "        #display(self.p1.shape)\n",
    "        self.a2 = self.CONV2.forward(self.p1)\n",
    "        #display(self.a2.shape)\n",
    "        self.Z2 = self.activation2.tanh_fw(self.a2)\n",
    "        #display(self.Z2.shape)\n",
    "        self.p2 = self.MaxPool2.forward(self.Z2)\n",
    "        #display(self.p2.shape)\n",
    "        self.flat = self.FLAT.forward(self.p2) \n",
    "        #display(self.flat.shape)\n",
    "        \n",
    "        self.den = self.DENSE.forward(self.flat)\n",
    "        #display(self.den.shape)\n",
    "        self.Z3 = self.activation3.softmax_fw(self.den)\n",
    "        #display(self.Z3.shape)\n",
    "        \n",
    "    def _back_propagation(self):\n",
    "        dA3 = self.activation3.softmax_bw(self.Z3, self.y_)\n",
    "        #display(dA3.shape)\n",
    "        dZ2 = self.DENSE.backward(dA3)\n",
    "        #display(dZ2.shape)\n",
    "        dflat = self.FLAT.backward(dZ2)\n",
    "        #display(dflat.shape)\n",
    "        dP2 = self.MaxPool2.backward(dflat)\n",
    "        #display(dP2.shape)\n",
    "        dA2 = self.activation2.tanh_bw(dP2)\n",
    "        dZ1 = self.CONV2.backward(dA2)\n",
    "        \n",
    "        dP1 = self.MaxPool1.backward(dZ1)\n",
    "        dA1 = self.activation1.tanh_bw(dP1)\n",
    "        #dZ0 = self.CONV2.backward(dA1)        \n",
    "\n",
    "    def graph_cost_func(self):\n",
    "        \"\"\"\n",
    "        損失の推移をグラフ化する。    \n",
    "        検証用データが入力されていれば、学習用と検証用の損失推移を重ねてグラフ化\n",
    "        \"\"\"\n",
    "        plt.title(\"Num_of_Epoq vs Loss\")\n",
    "        plt.xlabel(\"Num_of_Epoq\")\n",
    "        plt.ylabel(\"Loss\")\n",
    "        plt.plot(range(1,self.n_epoq+1), self.loss_list, color=\"b\", marker=\"o\", label=\"train_loss\")\n",
    "        plt.grid()\n",
    "        plt.legend()\n",
    "        plt.show()\n",
    "  \n",
    "    def predict(self, X):\n",
    "        \"\"\"\n",
    "        ニューラルネットワーク分類器を使い推定する。\n",
    "        Parameters\n",
    "        ----------\n",
    "        X : 次の形のndarray, shape (n_samples, n_features)\n",
    "            サンプル\n",
    "            \n",
    "        Returns\n",
    "        -------\n",
    "            次の形のndarray, shape (n_samples, 1)\n",
    "            推定結果\n",
    "        \"\"\"\n",
    "        #a1 = self.CONV1.forward(X)\n",
    "        #Z1 = self.activation1.tanh_fw(a1)\n",
    "        ##display(self.Z1.shape)\n",
    "        #p1 = self.MaxPool1.forward(Z1)\n",
    "        ##display(self.p1.shape)\n",
    "        #a2 = self.CONV2.forward(p1)\n",
    "        ##display(self.a2.shape)\n",
    "        #Z2 = self.activation2.tanh_fw(a2)\n",
    "        ##display(self.Z2.shape)\n",
    "        #p2 = self.MaxPool2.forward(Z2)\n",
    "        ##display(self.p2.shape)\n",
    "        #flat = self.FLAT.forward(p2) \n",
    "        ##display(self.flat.shape)\n",
    "        #\n",
    "        #den = self.DENSE.forward(flat)\n",
    "        ##display(self.den.shape)\n",
    "        #Z3 = self.activation3.softmax_fw(den)\n",
    "        \n",
    "        self._forward_propagation(X)\n",
    "        #display(Z3)\n",
    "        return np.argmax(self.Z3, axis=1)"
   ]
  },
  {
   "cell_type": "code",
   "execution_count": 28,
   "metadata": {},
   "outputs": [
    {
     "data": {
      "text/plain": [
       "0.31622776601683794"
      ]
     },
     "metadata": {},
     "output_type": "display_data"
    }
   ],
   "source": [
    "scr_nnc = ScratchSimpleNeuralNetrowkClassifier(batch_size=100)\n",
    "scr_nnc.fit(X_train, y_train)"
   ]
  },
  {
   "cell_type": "code",
   "execution_count": 29,
   "metadata": {},
   "outputs": [
    {
     "data": {
      "text/plain": [
       "array([6, 9, 0, ..., 5, 1, 7], dtype=int64)"
      ]
     },
     "execution_count": 29,
     "metadata": {},
     "output_type": "execute_result"
    }
   ],
   "source": [
    "scr_nnc.predict(X_val)"
   ]
  },
  {
   "cell_type": "code",
   "execution_count": 30,
   "metadata": {},
   "outputs": [
    {
     "name": "stdout",
     "output_type": "stream",
     "text": [
      "accuracy:0.944\n",
      " [[ 957    0    4    0    0    4    7    2    4    2]\n",
      " [   0 1117    5    3    1    3    2    0    4    0]\n",
      " [  10    5  952   12    7    4    7   21   12    2]\n",
      " [   2    1   16  933    2   28    0    9   16    3]\n",
      " [   0    1    4    0  923    2   13    2    7   30]\n",
      " [   3    2    0   12    0  855    5    5    7    3]\n",
      " [  12    5    3    0    5   20  911    0    2    0]\n",
      " [   1    9   31    9    3    2    0  955    4   14]\n",
      " [   6    1    9   16    6   12    5    8  896   15]\n",
      " [   6    5    4    4    9   18    1   14    7  941]]\n"
     ]
    }
   ],
   "source": [
    "from sklearn.metrics import accuracy_score\n",
    "from sklearn import metrics\n",
    "from sklearn.metrics import confusion_matrix\n",
    "\n",
    "print(\"accuracy:{}\".format(accuracy_score(y_test, scr_nnc.predict(X_test))))\n",
    "print(\" {}\".format(confusion_matrix(y_test, scr_nnc.predict(X_test))))"
   ]
  },
  {
   "cell_type": "code",
   "execution_count": 31,
   "metadata": {},
   "outputs": [
    {
     "data": {
      "image/png": "[encoded data removed]",
      "text/plain": [
       "<Figure size 432x288 with 1 Axes>"
      ]
     },
     "metadata": {},
     "output_type": "display_data"
    }
   ],
   "source": [
    "scr_nnc.graph_cost_func()"
   ]
  },
  {
   "cell_type": "markdown",
   "metadata": {},
   "source": [
    "### 【問題9】出力サイズとパラメータ数の計算 \n",
    "CNNモデルを構築する際には、全結合層に入力する段階で特徴量がいくつになっているかを事前に計算する必要があります。\n",
    "また、巨大なモデルを扱うようになると、メモリや計算速度の関係でパラメータ数の計算は必須になってきます。\n",
    "フレームワークでは各層のパラメータ数を表示させることが可能ですが、意味を理解していなくては適切な調整が行えません。\n",
    "\n",
    "以下の3つの畳み込み層の出力サイズとパラメータ数を計算してください。\n",
    "パラメータ数についてはバイアス項も考えてください。\n",
    "\n",
    "1.\n",
    "入力サイズ : 144×144, 3チャンネル\n",
    "フィルタサイズ : 3×3, 6チャンネル\n",
    "ストライド : 1\n",
    "パディング : なし\n",
    "\n",
    "2.\n",
    "入力サイズ : 60×60, 24チャンネル\n",
    "フィルタサイズ : 3×3, 48チャンネル\n",
    "ストライド　: 1\n",
    "パディング : なし\n",
    "\n",
    "3.\n",
    "入力サイズ : 20×20, 10チャンネル\n",
    "フィルタサイズ: 3×3, 20チャンネル\n",
    "ストライド : 2\n",
    "パディング : なし\n",
    "\n",
    "＊最後の例は丁度良く畳み込みをすることができない場合です。\n",
    "フレームワークでは余ったピクセルを見ないという処理が行われることがあるので、その場合を考えて計算してください。\n",
    "端が欠けてしまうので、こういった設定は好ましくないという例です。"
   ]
  },
  {
   "cell_type": "markdown",
   "metadata": {},
   "source": [
    "１.\n",
    "入力サイズ : 144×144, 3チャンネル\n",
    "フィルタサイズ : 3×3, 6チャンネル\n",
    "ストライド : 1\n",
    "パディング : なし\n",
    "\n",
    "回答\n",
    "　出力サイズ＝141×141\n",
    "　パラメータ数＝6(出力ﾌｨﾙﾀ数)×3(ｶｰﾈﾙ数)×3×3　\n",
    "　バイアス項＝6"
   ]
  },
  {
   "cell_type": "markdown",
   "metadata": {},
   "source": [
    "２.\n",
    "入力サイズ : 60×60, 24チャンネル\n",
    "フィルタサイズ : 3×3, 48チャンネル\n",
    "ストライド　: 1\n",
    "パディング : なし\n",
    "\n",
    "回答\n",
    "　出力サイズ＝58×58\n",
    "　パラメータ数＝48(出力ﾌｨﾙﾀ数)×24(ｶｰﾈﾙ数)×3×3　\n",
    "　バイアス項＝48"
   ]
  },
  {
   "cell_type": "markdown",
   "metadata": {},
   "source": [
    "３.\n",
    "入力サイズ : 20×20, 10チャンネル\n",
    "フィルタサイズ: 3×3, 20チャンネル\n",
    "ストライド : 2\n",
    "パディング : なし\n",
    "\n",
    "回答\n",
    "　出力サイズ＝10×10\n",
    "　パラメータ数＝20(出力ﾌｨﾙﾀ数)×10(ｶｰﾈﾙ数)×3×3　\n",
    "　バイアス項＝20"
   ]
  }
 ],
 "metadata": {
  "kernelspec": {
   "display_name": "Python 3",
   "language": "python",
   "name": "python3"
  },
  "language_info": {
   "codemirror_mode": {
    "name": "ipython",
    "version": 3
   },
   "file_extension": ".py",
   "mimetype": "text/x-python",
   "name": "python",
   "nbconvert_exporter": "python",
   "pygments_lexer": "ipython3",
   "version": "3.6.5"
  }
 },
 "nbformat": 4,
 "nbformat_minor": 2
}
