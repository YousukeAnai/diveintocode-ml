{
 "cells": [
  {
   "cell_type": "markdown",
   "metadata": {},
   "source": [
    "### 【問題1】これまで利用してきたクラスの列挙 \n",
    "クラスを使う際はインスタンス化を行うことと、クラスの命名法がわかりました。この情報を元に、これまでの課題で利用してきたコードの中でどのようなクラスがあったかを答えてください。\n",
    "Pandas、matplotlib、scikit-learnからそれぞれ1つ以上見つけてください。"
   ]
  },
  {
   "cell_type": "code",
   "execution_count": 1,
   "metadata": {},
   "outputs": [
    {
     "ename": "NameError",
     "evalue": "name 'DataFrame' is not defined",
     "output_type": "error",
     "traceback": [
      "\u001b[1;31m---------------------------------------------------------------------------\u001b[0m",
      "\u001b[1;31mNameError\u001b[0m                                 Traceback (most recent call last)",
      "\u001b[1;32m<ipython-input-1-3b10caa1f432>\u001b[0m in \u001b[0;36m<module>\u001b[1;34m()\u001b[0m\n\u001b[0;32m      1\u001b[0m \u001b[1;31m#Pandas\u001b[0m\u001b[1;33m\u001b[0m\u001b[1;33m\u001b[0m\u001b[0m\n\u001b[1;32m----> 2\u001b[1;33m \u001b[0mDataFrame\u001b[0m\u001b[1;33m,\u001b[0m\u001b[1;33m\u001b[0m\u001b[0m\n\u001b[0m\u001b[0;32m      3\u001b[0m \u001b[1;33m\u001b[0m\u001b[0m\n\u001b[0;32m      4\u001b[0m \u001b[1;31m#matplotlib\u001b[0m\u001b[1;33m\u001b[0m\u001b[1;33m\u001b[0m\u001b[0m\n\u001b[0;32m      5\u001b[0m \u001b[0mPatch\u001b[0m\u001b[1;33m,\u001b[0m \u001b[0mListedColormap\u001b[0m\u001b[1;33m\u001b[0m\u001b[0m\n",
      "\u001b[1;31mNameError\u001b[0m: name 'DataFrame' is not defined"
     ]
    }
   ],
   "source": [
    "#Pandas\n",
    "DataFrame, \n",
    "\n",
    "#matplotlib\n",
    "Patch, ListedColormap\n",
    "\n",
    "#scikit-learn\n",
    "LinearRegression, DecisionTreeRegressor, RandomForestRegressor\n"
   ]
  },
  {
   "cell_type": "markdown",
   "metadata": {},
   "source": [
    "### 【問題2】これまで利用してきたメソッドやインスタンス変数の列挙 \n",
    "これまでの課題で利用してきたコードの中でどのようなメソッドやインスタンス変数があったかを答えてください。\n",
    "最低でもそれぞれ5つ以上答えてください。\n",
    "＜ndarrayやstrもインスタンス＞\n",
    "ドットをつけるというと、NumPyのndarrayに対してndarray.shapeやndarray.sum()のような使い方は何度も利用してきたかと思います。これは、ndarrayもインスタンスオブジェクトであり、shapeはインスタンス変数、sumはメソッドだったということです。\n",
    "Pythonのコードに登場するデータはどれもインスタンスオブジェクトであり、listやstrもメソッドを持ちます。"
   ]
  },
  {
   "cell_type": "code",
   "execution_count": null,
   "metadata": {},
   "outputs": [],
   "source": [
    "#メソッド\n",
    ".append(), .isnull(), .drop(), .dropna() .array(), .range() \n",
    "#インスタンス\n",
    "type, display, print, dir, depth"
   ]
  },
  {
   "cell_type": "markdown",
   "metadata": {},
   "source": [
    "### 【問題3】標準化クラスをスクラッチで作成 \n",
    "理解をより深めるため、StandardScalerをスクラッチで作成しましょう。\n",
    "scikit-learnは使わず、NumPyなどを活用して標準化の計算を記述します。具体的にはfitメソッドとtransformメソッドを作ります。\n",
    "今回は雛形を用意しました。クラスの作成方法は関数に近いです。メソッドはクラスの中にさらにインデントを一段下げて記述します。\n",
    "インスタンス変数を作成する際はself.mean_のようにselfを付けます。クラスの外からscaler.mean_と書いていたscalerの部分が自分自身を表すselfになっています。"
   ]
  },
  {
   "cell_type": "code",
   "execution_count": 2,
   "metadata": {},
   "outputs": [],
   "source": [
    "class ScratchStandardScaler():\n",
    "    \"\"\"\n",
    "    標準化のためのクラス\n",
    "    Attributes\n",
    "    ----------\n",
    "    mean_ : 次の形のndarray, shape(n_features,)\n",
    "        平均\n",
    "    var_ : 次の形のndarray, shape(n_features,)\n",
    "        分散\n",
    "    \"\"\"\n",
    "\n",
    "    def fit(self, X):\n",
    "        \"\"\"\n",
    "        標準化のために平均と標準偏差を計算する。\n",
    "\n",
    "        Parameters\n",
    "        ----------\n",
    "        X : 次の形のndarray, shape (n_samples, n_features)\n",
    "            学習データ\n",
    "        \"\"\"\n",
    "\n",
    "        self.mean_ = X.sum(axis=0) / len(X)\n",
    "        self.var_ = ((X - self.mean_)**2).sum(axis=0) / len(X)\n",
    "\n",
    "    def transform(self, X):\n",
    "        \"\"\"\n",
    "        fitで求めた値を使い標準化を行う。\n",
    "\n",
    "        Parameters\n",
    "        ----------\n",
    "        X : 次の形のndarray, shape (n_samples, n_features)\n",
    "            特徴量\n",
    "\n",
    "        Returns\n",
    "        ----------\n",
    "        X_scaled : 次の形のndarray, shape (n_samples, n_features)\n",
    "            標準化された特緒量\n",
    "        \"\"\"\n",
    "        X_scaled = (X - self.mean_) / np.sqrt(self.var_)        \n",
    "        return X_scaled"
   ]
  },
  {
   "cell_type": "code",
   "execution_count": 3,
   "metadata": {},
   "outputs": [
    {
     "name": "stdout",
     "output_type": "stream",
     "text": [
      "平均 : [4.86 3.31 1.45 0.22]\n",
      "分散 : [0.0764 0.0849 0.0105 0.0056]\n",
      "[[ 0.86828953  0.65207831 -0.48795004 -0.26726124]\n",
      " [ 0.14471492 -1.06391725 -0.48795004 -0.26726124]\n",
      " [-0.57885968 -0.37751902 -1.46385011 -0.26726124]\n",
      " [-0.94064699 -0.72071813  0.48795004 -0.26726124]\n",
      " [ 0.50650222  0.99527742 -0.48795004 -0.26726124]\n",
      " [ 1.95365143  2.02487476  2.43975018  2.40535118]\n",
      " [-0.94064699  0.3088792  -0.48795004  1.06904497]\n",
      " [ 0.50650222  0.3088792   0.48795004 -0.26726124]\n",
      " [-1.66422159 -1.40711636 -0.48795004 -0.26726124]\n",
      " [ 0.14471492 -0.72071813  0.48795004 -1.60356745]]\n"
     ]
    }
   ],
   "source": [
    "import numpy as np\n",
    "from sklearn.datasets import load_iris\n",
    "\n",
    "data = load_iris()\n",
    "X = data.data[:10]\n",
    "\n",
    "scratch_scaler = ScratchStandardScaler()\n",
    "scratch_scaler.fit(X)\n",
    "print(\"平均 : {}\".format(scratch_scaler.mean_))\n",
    "print(\"分散 : {}\".format(scratch_scaler.var_))\n",
    "X_std = scratch_scaler.transform(X)\n",
    "print(X_std)"
   ]
  },
  {
   "cell_type": "markdown",
   "metadata": {},
   "source": [
    "### 【問題4】 四則演算を行うクラスの作成 \n",
    "上記ExampleClassは足し算のメソッドを持っていますが、これに\n",
    "・引き算、掛け算、割り算のメソッドを加えてください。\n",
    "・コンストラクタに入力されたvalueが文字列や配列など数値以外だった場合には\n",
    "　エラーを出すようにしてください。\n",
    "・クラス名や説明文も適切に書き換えてください。"
   ]
  },
  {
   "cell_type": "code",
   "execution_count": 41,
   "metadata": {
    "scrolled": true
   },
   "outputs": [
    {
     "name": "stdout",
     "output_type": "stream",
     "text": [
      "初期値5.5が設定されました\n",
      "初期値value : 5.5\n",
      "和value : 8.5\n",
      "差value : 5.5\n",
      "積value : 16.5\n",
      "和value : 19.5\n",
      "引数を数字にしてください。\n",
      "<class 'str'>\n",
      "商value : 19.5\n"
     ]
    }
   ],
   "source": [
    "class ArithmeticOperations():\n",
    "    def __init__(self, value):\n",
    "    \"\"\"\n",
    "    四則演算を実行するクラス。\n",
    "    入力されたvalueが数字でない場合は、エラーメッセージを出力\n",
    "\n",
    "    Parameters\n",
    "    ----------\n",
    "    value : float or int  __初期値\n",
    "    Attributes\n",
    "    ----------\n",
    "    value : float or int  __計算結果\n",
    "    \"\"\"\n",
    "        if (type(value)== int or type(value) == float):\n",
    "            self.value = value\n",
    "            print(\"初期値{}が設定されました\".format(self.value))\n",
    "            return\n",
    "        print(\"エラー。引数を数字にしてください。\")\n",
    "        print(type(value))\n",
    "        return\n",
    "        \n",
    "        \n",
    "    def add(self, value2):\n",
    "        \"\"\"\n",
    "        受け取った引数とself.valueの和を取る\n",
    "        入力されたvalueが数字でない場合は、エラーメッセージを出力\n",
    "\n",
    "        Parameters\n",
    "        ----------\n",
    "        value2 : float or int  __入力値\n",
    "        Attributes\n",
    "        ----------\n",
    "        value : float or int  __計算結果\n",
    "        \"\"\"\n",
    "        if (type(value2)== int or type(value2) == float):\n",
    "            self.value += value2\n",
    "            return\n",
    "        print(\"エラー。引数を数字にしてください。\")\n",
    "        print(type(value2))\n",
    "        return\n",
    "        \n",
    "    def subtract(self, value3):\n",
    "        \"\"\"\n",
    "        受け取った引数とself.valueの差を取る\n",
    "        入力されたvalueが数字でない場合は、エラーメッセージを出力\n",
    "\n",
    "        Parameters\n",
    "        ----------\n",
    "        value3 : float or int  __入力値\n",
    "        Attributes\n",
    "        ----------\n",
    "        value : float or int  __計算結果\n",
    "        \"\"\"\n",
    "        if (type(value3)== int or type(value3) == float):\n",
    "            self.value -= value3\n",
    "            return\n",
    "        print(\"エラー。引数を数字にしてください。\")\n",
    "        print(type(value3))\n",
    "        return\n",
    "    \n",
    "    def multiply(self, value4):\n",
    "        \"\"\"\n",
    "        受け取った引数とself.valueの積を取る\n",
    "        入力されたvalueが数字でない場合は、エラーメッセージを出力\n",
    "\n",
    "        Parameters\n",
    "        ----------\n",
    "        value4 : float or int  __入力値\n",
    "        Attributes\n",
    "        ----------\n",
    "        value : float or int  __計算結果\n",
    "        \"\"\"\n",
    "        if (type(value4)== int or type(value4) == float):\n",
    "            self.value *= value4\n",
    "            return\n",
    "        print(\"エラー。引数を数字にしてください。\")\n",
    "        print(type(value4))\n",
    "        return\n",
    "        \n",
    "    def divide(self, value5):\n",
    "        \"\"\"\n",
    "        受け取った引数とself.valueの商を取る\n",
    "        入力されたvalueが数字でない場合は、エラーメッセージを出力\n",
    "\n",
    "        Parameters\n",
    "        ----------\n",
    "        value5 : float or int  __入力値\n",
    "        Attributes\n",
    "        ----------\n",
    "        value : float or int  __計算結果\n",
    "        \"\"\"\n",
    "        if (type(value5)== int or type(value5) == float):\n",
    "            self.value /= value5\n",
    "            return\n",
    "        print(\"エラー。引数を数字にしてください。\")\n",
    "        print(type(value5))\n",
    "        return\n",
    "        \n",
    "example = ExampleClass(5.5)\n",
    "#if (type(example.value)==int or type(example.value)==float):\n",
    "print(\"初期値value : {}\".format(example.value))\n",
    "example.add(3)\n",
    "print(\"和value : {}\".format(example.value))\n",
    "example.subtract(3)\n",
    "print(\"差value : {}\".format(example.value))\n",
    "example.multiply(3)\n",
    "print(\"積value : {}\".format(example.value))\n",
    "example.add(3)\n",
    "print(\"和value : {}\".format(example.value))\n",
    "example.divide(3)\n",
    "print(\"商value : {}\".format(example.value))\n"
   ]
  },
  {
   "cell_type": "code",
   "execution_count": null,
   "metadata": {},
   "outputs": [],
   "source": []
  },
  {
   "cell_type": "code",
   "execution_count": null,
   "metadata": {},
   "outputs": [],
   "source": []
  }
 ],
 "metadata": {
  "kernelspec": {
   "display_name": "Python 3",
   "language": "python",
   "name": "python3"
  },
  "language_info": {
   "codemirror_mode": {
    "name": "ipython",
    "version": 3
   },
   "file_extension": ".py",
   "mimetype": "text/x-python",
   "name": "python",
   "nbconvert_exporter": "python",
   "pygments_lexer": "ipython3",
   "version": "3.6.5"
  }
 },
 "nbformat": 4,
 "nbformat_minor": 2
}
