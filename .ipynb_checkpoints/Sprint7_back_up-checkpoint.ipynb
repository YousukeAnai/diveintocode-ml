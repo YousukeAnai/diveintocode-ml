{
 "cells": [
  {
   "cell_type": "code",
   "execution_count": 1,
   "metadata": {},
   "outputs": [],
   "source": [
    "import numpy as np\n",
    "import pandas as pd\n",
    "import matplotlib.pyplot as plt\n",
    "import math\n",
    "from sklearn.model_selection import train_test_split\n",
    "from sklearn.preprocessing import StandardScaler"
   ]
  },
  {
   "cell_type": "markdown",
   "metadata": {},
   "source": [
    "【問題1】中心点の初期値を決める \n",
    "入力されたデータから $K$ 個の中心点 $\\mu_1$ から $\\mu_K$ の初期値を決めるコードを作成してください。$K$ は指定したクラスタ数です。\n",
    "最もシンプルな初期値の決定方法は、データ点 $X_n$ の中からランダムに $K$ 個選ぶことです。今回はこれを実装してください。\n",
    "K-meansの学習結果は中心点 $\\mu$ の初期値に影響を受けます。そのため、学習時には複数個の初期値で計算を行います。\n",
    "\n",
    "【問題2】SSEを求める関数の作成 \n",
    "クラスタ内誤差平方和（SSE, Sum of Squared Errors）を計算する関数を作成してください。\n",
    "K-meansはこのSSEを最小化する $r_{nk}$ と $\\mu_k$ を求めることが目的となります。複数個の初期値で計算したクラスタリング結果から、どれを最終的に採用するかを決める際にこのSSEを求める関数を使用します。\n",
    "\n",
    "【問題3】クラスタへの割り当て \n",
    "全てのデータ点 $X_n$ を最も近い中心点 $\\mu_k$ に割り当てるコードを作成してください。\n",
    "K-menasにおける 近い とは点と点のユークリッド距離が小さくなることです。ユークリッド距離とはピタゴラスの定理（三平方の定理）で求められるものですが、ベクトル $p,q$ に対しては以下の数式で表現できます。\n",
    "\n",
    "【問題4】中心点の移動 \n",
    "中心点 $\\mu_k$ を $k$ 番目のクラスタに割り当てられる全てのデータ点 $X_n$ の平均値（重心）に移動するコードを作成してください。\n",
    "クラスタの割り当て $r_{nk}$ を固定した上でSSEを最小化していることになりますが、SSE自体を求める必要はありません。\n",
    "\n",
    "【問題5】繰り返し \n",
    "クラスタへの割り当てと中心点の移動を繰り返すことで学習を行うコードを作成してください。\n",
    "次のどれかの条件を満たしたらこれを止めます。\n",
    "繰り返しが指定した回数に到達する。（雛形では引数max_iter）\n",
    "中心点 $\\mu_k$ と重心の差が指定した許容値以下になる。（雛形では引数tol）\n",
    "\n",
    "【問題6】異なる初期値で計算 \n",
    "問題5の繰り返しを、指定した回数初期値を変更して計算するコードを作成してください。回数は雛形では引数n_initで指定します。\n",
    "複数計算した中でSSEが最小になったものが最終的な学習結果となるため、その時の中心点 $\\mu_k$ を保持しておきます。"
   ]
  },
  {
   "cell_type": "code",
   "execution_count": 2,
   "metadata": {},
   "outputs": [],
   "source": [
    "from statistics import mean, median,variance,stdev\n",
    "\n",
    "class ScratchKMeans():\n",
    "    \"\"\"\n",
    "    K-meansのスクラッチ実装\n",
    "\n",
    "    Parameters\n",
    "    ----------\n",
    "    n_clusters : int\n",
    "      クラスタ数\n",
    "    n_init : int\n",
    "      中心点の初期値を何回変えて計算するか\n",
    "    max_iter : int\n",
    "      1回の計算で最大何イテレーションするか\n",
    "    tol : float\n",
    "      イテレーションを終了する基準となる中心点と重心の許容誤差\n",
    "    verbose : bool\n",
    "      学習過程を出力する場合はTrue\n",
    "    \"\"\"\n",
    "    def __init__(self, n_clusters, n_init, max_iter=100, tol=0.01, verbose=False):\n",
    "        # ハイパーパラメータを属性として記録\n",
    "        self.n_clusters = n_clusters\n",
    "        self.n_init = n_init\n",
    "        self.max_iter = max_iter\n",
    "        self.tol = tol\n",
    "        self.verbose = verbose\n",
    "\n",
    "    def fit(self, X):\n",
    "        \"\"\"\n",
    "        K-meansによるクラスタリングを計算\n",
    "        Parameters\n",
    "        ----------\n",
    "        X : 次の形のndarray, shape (n_samples, n_features)\n",
    "            学習用データの特徴量\n",
    "        \"\"\"\n",
    "        self.X_ = X\n",
    "        for iter in range(self.max_iter):\n",
    "            #np.random.seed(0)\n",
    "            self.clusters = X[np.random.choice(X.shape[0], self.n_clusters, replace=False)]\n",
    "            self.clusters.tolist()\n",
    "            self.cluster_no = list(range(1, self.n_clusters+1))\n",
    "            self.clus_dic = {key: val for key, val in zip(self.cluster_no, self.clusters)}\n",
    "            self.sse_lis =[]\n",
    "            for i in range(self.n_init):\n",
    "                self._sse()\n",
    "                #display(self.sse)\n",
    "            \n",
    "                km2 =np.array(list(self.clus_dic.values()))\n",
    "                km1 =np.array(list(self.clus_dic_0.values()))\n",
    "                #display(km2)\n",
    "                #display(km1)\n",
    "                self.d_km = np.abs(km2-km1)\n",
    "                if np.max(self.d_km) < self.tol:\n",
    "                    break\n",
    "        if self.verbose:\n",
    "            pass\n",
    "        \n",
    "    def _sse(self):\n",
    "        values2=[[] for i in range(self.n_clusters)]\n",
    "        self.x_class = {key: val for key, val in zip(self.cluster_no, values2)}\n",
    "        self.sse = 0\n",
    "        for n in range(self.X_.shape[0]):\n",
    "            min0 = np.max(self.X_)*self.X_.shape[1]\n",
    "            for i,v in self.clus_dic.items():\n",
    "                deluta = np.sum(np.sqrt((self.X_[n]-np.array(v))**2),axis=0)\n",
    "                #deluta = np.linalg.norm(deluta)\n",
    "                if deluta < min0:\n",
    "                    min0 = deluta\n",
    "                    min_v = i\n",
    "            #display(self.X_[n])\n",
    "            self.x_class[min_v].append(self.X_[n])\n",
    "            self.sse += min0\n",
    "        self.sse_lis.append(self.sse) \n",
    "        self.clus_dic_0 = self.clus_dic.copy() \n",
    "        #display(self.x_class)\n",
    "        self.clus_dic = {key: np.mean(val, axis=0) for key, val in self.x_class.items()}\n",
    "        #display(self.clus_dic)\n",
    "    def predict(self):\n",
    "        \"\"\"\n",
    "        入力されたデータがどのクラスタに属するかを計算\n",
    "        \"\"\"\n",
    "        for n in range(self.X_.shape[0]):\n",
    "            min0 = np.max(self.X_)*self.X_.shape[1]\n",
    "            for i,v in self.clus_dic.items():\n",
    "                deluta = np.sum(np.sqrt((self.X_[n]-np.array(v))**2),axis=0)\n",
    "                if deluta < min0:\n",
    "                    min0 = deluta\n",
    "                    min_v = i\n",
    "            self.x_class[min_v].append(self.X_[n])\n",
    "        return self.x_class"
   ]
  },
  {
   "cell_type": "code",
   "execution_count": 3,
   "metadata": {},
   "outputs": [],
   "source": [
    "from sklearn.datasets import make_blobs\n",
    "X, _ = make_blobs(n_samples=100, n_features=2, centers=4, cluster_std=0.5, shuffle=True, random_state=0)"
   ]
  },
  {
   "cell_type": "markdown",
   "metadata": {},
   "source": [
    "### 【問題7】推定 \n",
    "新たなデータに対してどのクラスタに所属するかの推定の際は、学習時の1つ目のフェーズと同じことを行います。\n",
    "データ点 Xnと学習で決まった中心点 μkに対し、 SSEを最小化する rnkを選ぶ。\n",
    "具体的には次のことです。\n",
    "データ点 Xnを最も近い μkに割り当てる。"
   ]
  },
  {
   "cell_type": "code",
   "execution_count": 4,
   "metadata": {},
   "outputs": [
    {
     "data": {
      "text/plain": [
       "{1: [array([-1.95751686,  3.87291474]),\n",
       "  array([-0.33533163,  3.390122  ]),\n",
       "  array([-1.86407034,  2.93379754]),\n",
       "  array([-1.91186205,  3.18750686]),\n",
       "  array([-1.57613028,  2.58614312]),\n",
       "  array([-0.565433  ,  3.65813966]),\n",
       "  array([-1.21986433,  3.3789856 ]),\n",
       "  array([-1.89928142,  2.50466299]),\n",
       "  array([-1.44356727,  3.23539798]),\n",
       "  array([-1.98331513,  3.47639041]),\n",
       "  array([-1.87418794,  2.84306499]),\n",
       "  array([-1.84482705,  3.25609891]),\n",
       "  array([-1.2386086 ,  2.81373288]),\n",
       "  array([-1.74448079,  3.84251413]),\n",
       "  array([-0.96358605,  2.37791651]),\n",
       "  array([-2.18485772,  2.68708996]),\n",
       "  array([-1.32890066,  2.37135151]),\n",
       "  array([-0.59312453,  3.37090459]),\n",
       "  array([-1.6609057 ,  3.31911046]),\n",
       "  array([-1.37778493,  3.58107521]),\n",
       "  array([-1.05327803,  2.84037721]),\n",
       "  array([-1.33869125,  2.36818187]),\n",
       "  array([-1.19075663,  3.12161318]),\n",
       "  array([-2.27253281,  3.13757811]),\n",
       "  array([-1.56102482,  3.77455362]),\n",
       "  array([-1.95751686,  3.87291474]),\n",
       "  array([-0.33533163,  3.390122  ]),\n",
       "  array([-1.86407034,  2.93379754]),\n",
       "  array([-1.91186205,  3.18750686]),\n",
       "  array([-1.57613028,  2.58614312]),\n",
       "  array([-0.565433  ,  3.65813966]),\n",
       "  array([-1.21986433,  3.3789856 ]),\n",
       "  array([-1.89928142,  2.50466299]),\n",
       "  array([-1.44356727,  3.23539798]),\n",
       "  array([-1.98331513,  3.47639041]),\n",
       "  array([-1.87418794,  2.84306499]),\n",
       "  array([-1.84482705,  3.25609891]),\n",
       "  array([-1.2386086 ,  2.81373288]),\n",
       "  array([-1.74448079,  3.84251413]),\n",
       "  array([-0.96358605,  2.37791651]),\n",
       "  array([-2.18485772,  2.68708996]),\n",
       "  array([-1.32890066,  2.37135151]),\n",
       "  array([-0.59312453,  3.37090459]),\n",
       "  array([-1.6609057 ,  3.31911046]),\n",
       "  array([-1.37778493,  3.58107521]),\n",
       "  array([-1.05327803,  2.84037721]),\n",
       "  array([-1.33869125,  2.36818187]),\n",
       "  array([-1.19075663,  3.12161318]),\n",
       "  array([-2.27253281,  3.13757811]),\n",
       "  array([-1.56102482,  3.77455362])],\n",
       " 2: [array([-1.43284669,  7.71577043]),\n",
       "  array([-0.92819001,  7.02698199]),\n",
       "  array([-1.74836345,  7.06307447]),\n",
       "  array([-1.26789718,  7.25141327]),\n",
       "  array([-0.81984047,  7.50994722]),\n",
       "  array([-1.8219901 ,  7.61654999]),\n",
       "  array([-0.93564005,  7.03443119]),\n",
       "  array([-1.57006498,  6.72375844]),\n",
       "  array([-1.26041884,  7.46644456]),\n",
       "  array([-1.42525273,  7.14798437]),\n",
       "  array([-1.64996061,  7.49068513]),\n",
       "  array([-1.43284669,  7.71577043]),\n",
       "  array([-0.92819001,  7.02698199]),\n",
       "  array([-1.74836345,  7.06307447]),\n",
       "  array([-1.26789718,  7.25141327]),\n",
       "  array([-0.81984047,  7.50994722]),\n",
       "  array([-1.8219901 ,  7.61654999]),\n",
       "  array([-0.93564005,  7.03443119]),\n",
       "  array([-1.57006498,  6.72375844]),\n",
       "  array([-1.26041884,  7.46644456]),\n",
       "  array([-1.42525273,  7.14798437]),\n",
       "  array([-1.64996061,  7.49068513])],\n",
       " 3: [array([2.99684287, 0.22378413]),\n",
       "  array([1.46870582, 1.86947425]),\n",
       "  array([2.62496786, 0.28025075]),\n",
       "  array([2.28809874, 0.12954182]),\n",
       "  array([2.79939362, 1.84560825]),\n",
       "  array([2.64465731, 0.80770124]),\n",
       "  array([1.7190373 , 0.71788708]),\n",
       "  array([2.14398059, 0.69677319]),\n",
       "  array([2.06051753, 1.79059891]),\n",
       "  array([1.85367905, 1.5088862 ]),\n",
       "  array([1.61986895, 0.60823883]),\n",
       "  array([1.89949126, 0.92574633]),\n",
       "  array([2.4198128 , 0.96215512]),\n",
       "  array([2.23345072, 1.25095024]),\n",
       "  array([1.51989121, 1.42488952]),\n",
       "  array([2.11872357, 1.09865834]),\n",
       "  array([1.42002502, 1.38236201]),\n",
       "  array([2.15940501, 1.38598318]),\n",
       "  array([1.4726926, 1.3480769]),\n",
       "  array([2.25643834, 0.55525861]),\n",
       "  array([1.24016835, 1.12905479]),\n",
       "  array([1.64869438, 0.03452236]),\n",
       "  array([1.73810647, 0.71629308]),\n",
       "  array([1.60161834, 0.92363636]),\n",
       "  array([1.84845803, 0.52393625]),\n",
       "  array([2.99684287, 0.22378413]),\n",
       "  array([1.46870582, 1.86947425]),\n",
       "  array([2.62496786, 0.28025075]),\n",
       "  array([2.28809874, 0.12954182]),\n",
       "  array([2.79939362, 1.84560825]),\n",
       "  array([2.64465731, 0.80770124]),\n",
       "  array([1.7190373 , 0.71788708]),\n",
       "  array([2.14398059, 0.69677319]),\n",
       "  array([2.06051753, 1.79059891]),\n",
       "  array([1.85367905, 1.5088862 ]),\n",
       "  array([1.61986895, 0.60823883]),\n",
       "  array([1.89949126, 0.92574633]),\n",
       "  array([2.4198128 , 0.96215512]),\n",
       "  array([2.23345072, 1.25095024]),\n",
       "  array([1.51989121, 1.42488952]),\n",
       "  array([2.11872357, 1.09865834]),\n",
       "  array([1.42002502, 1.38236201]),\n",
       "  array([2.15940501, 1.38598318]),\n",
       "  array([1.4726926, 1.3480769]),\n",
       "  array([2.25643834, 0.55525861]),\n",
       "  array([1.24016835, 1.12905479]),\n",
       "  array([1.64869438, 0.03452236]),\n",
       "  array([1.73810647, 0.71629308]),\n",
       "  array([1.60161834, 0.92363636]),\n",
       "  array([1.84845803, 0.52393625])],\n",
       " 4: [array([0.72086751, 3.71347124]),\n",
       "  array([1.35678894, 4.36462484]),\n",
       "  array([1.05374379, 4.49286859]),\n",
       "  array([1.59141542, 4.90497725]),\n",
       "  array([0.78260667, 4.15263595]),\n",
       "  array([0.12313498, 5.27917503]),\n",
       "  array([2.11114739, 3.57660449]),\n",
       "  array([0.5285368 , 4.49723858]),\n",
       "  array([0.802314  , 4.38196181]),\n",
       "  array([1.13280393, 3.87673946]),\n",
       "  array([1.04829186, 5.03092408]),\n",
       "  array([0.72144399, 4.08475018]),\n",
       "  array([0.5323772 , 3.31338909]),\n",
       "  array([0.3498724 , 4.69253251]),\n",
       "  array([1.74265969, 5.03846671]),\n",
       "  array([1.19820169, 4.47062449]),\n",
       "  array([0.92466065, 4.50908658]),\n",
       "  array([0.99914934, 4.2101954 ]),\n",
       "  array([1.40848818, 3.93270482]),\n",
       "  array([0.16932115, 4.19741719]),\n",
       "  array([1.72330962, 4.2012082 ]),\n",
       "  array([1.00952869, 4.45502328]),\n",
       "  array([0.96217896, 4.51795326]),\n",
       "  array([0.4519936 , 3.59377836]),\n",
       "  array([-0.30022483,  4.63059663]),\n",
       "  array([0.72086751, 3.71347124]),\n",
       "  array([1.35678894, 4.36462484]),\n",
       "  array([1.05374379, 4.49286859]),\n",
       "  array([1.59141542, 4.90497725]),\n",
       "  array([0.78260667, 4.15263595]),\n",
       "  array([0.12313498, 5.27917503]),\n",
       "  array([2.11114739, 3.57660449]),\n",
       "  array([0.5285368 , 4.49723858]),\n",
       "  array([0.802314  , 4.38196181]),\n",
       "  array([1.13280393, 3.87673946]),\n",
       "  array([1.04829186, 5.03092408]),\n",
       "  array([0.72144399, 4.08475018]),\n",
       "  array([0.5323772 , 3.31338909]),\n",
       "  array([0.3498724 , 4.69253251]),\n",
       "  array([1.74265969, 5.03846671]),\n",
       "  array([1.19820169, 4.47062449]),\n",
       "  array([0.92466065, 4.50908658]),\n",
       "  array([0.99914934, 4.2101954 ]),\n",
       "  array([1.40848818, 3.93270482]),\n",
       "  array([0.16932115, 4.19741719]),\n",
       "  array([1.72330962, 4.2012082 ]),\n",
       "  array([1.00952869, 4.45502328]),\n",
       "  array([0.96217896, 4.51795326]),\n",
       "  array([0.4519936 , 3.59377836]),\n",
       "  array([-0.30022483,  4.63059663])],\n",
       " 5: [array([-1.89468423,  7.96898545]),\n",
       "  array([-0.77354537,  7.87923564]),\n",
       "  array([-0.98661744,  7.74968685]),\n",
       "  array([-1.497272  ,  8.80022604]),\n",
       "  array([-0.1666378 ,  8.50372399]),\n",
       "  array([-1.86097353,  8.2576415 ]),\n",
       "  array([-0.8623605 ,  8.24721209]),\n",
       "  array([-0.65424088,  7.99393132]),\n",
       "  array([-0.69842598,  8.16309188]),\n",
       "  array([-1.7653772 ,  8.17625727]),\n",
       "  array([-1.47602203,  7.8441996 ]),\n",
       "  array([-1.61803727,  8.60696731]),\n",
       "  array([-1.80044744,  7.86154256]),\n",
       "  array([-0.78782636,  7.99482384]),\n",
       "  array([-1.89468423,  7.96898545]),\n",
       "  array([-0.77354537,  7.87923564]),\n",
       "  array([-0.98661744,  7.74968685]),\n",
       "  array([-1.497272  ,  8.80022604]),\n",
       "  array([-0.1666378 ,  8.50372399]),\n",
       "  array([-1.86097353,  8.2576415 ]),\n",
       "  array([-0.8623605 ,  8.24721209]),\n",
       "  array([-0.65424088,  7.99393132]),\n",
       "  array([-0.69842598,  8.16309188]),\n",
       "  array([-1.7653772 ,  8.17625727]),\n",
       "  array([-1.47602203,  7.8441996 ]),\n",
       "  array([-1.61803727,  8.60696731]),\n",
       "  array([-1.80044744,  7.86154256]),\n",
       "  array([-0.78782636,  7.99482384])]}"
      ]
     },
     "execution_count": 4,
     "metadata": {},
     "output_type": "execute_result"
    }
   ],
   "source": [
    "src_kmeans = ScratchKMeans(5,10,2)\n",
    "src_kmeans.fit(X)\n",
    "src_kmeans.predict()\n",
    "#a2 =np.array(list(src_kmeans.clus_dic.values()))\n",
    "#a1 =np.array(list(src_kmeans.clus_dic_0.values()))\n",
    "#aa=a2-a1\n",
    "#display(aa)\n",
    "#np.max(aa)\n",
    "#display(src_kmeans.sse_lis)\n",
    "#display(src_kmeans.x_class)"
   ]
  },
  {
   "cell_type": "markdown",
   "metadata": {},
   "source": [
    "### 【問題8】エルボー法の実装 \n",
    "K-meansにおいて中心点の個数 kは人為的に決める必要がありますが、その判断方法としてエルボー法があります。\n",
    "エルボー法により中心点の個数 kを検討するためのコードを作成してください。\n",
    "SSEを縦軸、クラスタ数 kを横軸にした折れ線グラフを表示します。\n",
    "このためにK-meansのインスタンスからはSSEを取得できるようにしてください。"
   ]
  },
  {
   "cell_type": "code",
   "execution_count": 5,
   "metadata": {},
   "outputs": [
    {
     "data": {
      "text/plain": [
       "[346.95833812363304,\n",
       " 217.71899053558832,\n",
       " 133.79477102207136,\n",
       " 81.34358846425019,\n",
       " 75.89680073524346,\n",
       " 73.21778421460955,\n",
       " 66.31840916699407,\n",
       " 64.64856411867913,\n",
       " 61.37141419753277,\n",
       " 62.46034544886618,\n",
       " 53.99960320485889,\n",
       " 50.13269284595608,\n",
       " 54.130813303394625,\n",
       " 47.81244399941863,\n",
       " 52.11908610397902,\n",
       " 43.490424143105805,\n",
       " 43.842723268425146,\n",
       " 39.30807654993035,\n",
       " 38.92537297616555,\n",
       " 39.855471918243715,\n",
       " 37.95939243930005,\n",
       " 34.34704277602948,\n",
       " 35.19789087174609,\n",
       " 31.80222543950348,\n",
       " 33.03070992955231,\n",
       " 31.818804234232786,\n",
       " 28.068205500343538,\n",
       " 29.966995086224614,\n",
       " 28.54333976234541,\n",
       " 28.627198919156392]"
      ]
     },
     "execution_count": 5,
     "metadata": {},
     "output_type": "execute_result"
    }
   ],
   "source": [
    "sse_lis=[]\n",
    "for kn in range(1,31):\n",
    "    src_kmeans = ScratchKMeans(kn,15,2)\n",
    "    src_kmeans.fit(X)\n",
    "    sse_lis.append(src_kmeans.sse)\n",
    "sse_lis"
   ]
  },
  {
   "cell_type": "code",
   "execution_count": 6,
   "metadata": {},
   "outputs": [
    {
     "data": {
      "text/plain": [
       "[<matplotlib.lines.Line2D at 0x2a0b5699390>]"
      ]
     },
     "execution_count": 6,
     "metadata": {},
     "output_type": "execute_result"
    },
    {
     "data": {
      "image/png": "[encoded data removed]",
      "text/plain": [
       "<Figure size 432x288 with 1 Axes>"
      ]
     },
     "metadata": {},
     "output_type": "display_data"
    }
   ],
   "source": [
    "X=list(range(1,31))\n",
    "plt.plot(X,sse_lis)"
   ]
  },
  {
   "cell_type": "markdown",
   "metadata": {},
   "source": [
    "### 【問題10】クラスタ数kの選択 \n",
    "最適だと思われるクラスタ数 kを選択してください。\n",
    "エルボー法やシルエット図を活用する他、人間が後々どう利用したいのかも選択に関わってきます。\n",
    "選択した上で、なぜそれを選んだか説明してください。\n",
    "\n",
    "卸売業者のデータ分析 \n",
    "クラスタリングを利用法を学ぶために、Wholesale customers Data Setを使用します。\n",
    "UCI Machine Learning Repository: Wholesale customers Data Set\n",
    "Data Folderの中からWholesale customers data.csvをダウンロードしてください。\n",
    "これはポルトガルのリスボンにある卸売業者（wholesale）が顧客から集めたデータです。\n",
    "中身は各顧客が年間でミルクや食料品を何ユーロ購入しているかというデータになっています。\n",
    "顧客は小売店やレストランです。RegionとChannelは取り覗き、金額のデータでK-meansを利用します。\n",
    "\n",
    "次元削減 \n",
    "金額に関する特徴量は6個ありますが、可視化するために次元削減を行います。\n",
    "これに関してはscikit-learnによるPCAのサンプルコードを用意したので利用してください。"
   ]
  },
  {
   "cell_type": "code",
   "execution_count": 7,
   "metadata": {},
   "outputs": [
    {
     "data": {
      "text/plain": [
       "(440, 6)"
      ]
     },
     "metadata": {},
     "output_type": "display_data"
    },
    {
     "data": {
      "text/html": [
       "<div>\n",
       "<style scoped>\n",
       "    .dataframe tbody tr th:only-of-type {\n",
       "        vertical-align: middle;\n",
       "    }\n",
       "\n",
       "    .dataframe tbody tr th {\n",
       "        vertical-align: top;\n",
       "    }\n",
       "\n",
       "    .dataframe thead th {\n",
       "        text-align: right;\n",
       "    }\n",
       "</style>\n",
       "<table border=\"1\" class=\"dataframe\">\n",
       "  <thead>\n",
       "    <tr style=\"text-align: right;\">\n",
       "      <th></th>\n",
       "      <th>Fresh</th>\n",
       "      <th>Milk</th>\n",
       "      <th>Grocery</th>\n",
       "      <th>Frozen</th>\n",
       "      <th>Detergents_Paper</th>\n",
       "      <th>Delicassen</th>\n",
       "    </tr>\n",
       "  </thead>\n",
       "  <tbody>\n",
       "    <tr>\n",
       "      <th>0</th>\n",
       "      <td>12669</td>\n",
       "      <td>9656</td>\n",
       "      <td>7561</td>\n",
       "      <td>214</td>\n",
       "      <td>2674</td>\n",
       "      <td>1338</td>\n",
       "    </tr>\n",
       "    <tr>\n",
       "      <th>1</th>\n",
       "      <td>7057</td>\n",
       "      <td>9810</td>\n",
       "      <td>9568</td>\n",
       "      <td>1762</td>\n",
       "      <td>3293</td>\n",
       "      <td>1776</td>\n",
       "    </tr>\n",
       "    <tr>\n",
       "      <th>2</th>\n",
       "      <td>6353</td>\n",
       "      <td>8808</td>\n",
       "      <td>7684</td>\n",
       "      <td>2405</td>\n",
       "      <td>3516</td>\n",
       "      <td>7844</td>\n",
       "    </tr>\n",
       "    <tr>\n",
       "      <th>3</th>\n",
       "      <td>13265</td>\n",
       "      <td>1196</td>\n",
       "      <td>4221</td>\n",
       "      <td>6404</td>\n",
       "      <td>507</td>\n",
       "      <td>1788</td>\n",
       "    </tr>\n",
       "    <tr>\n",
       "      <th>4</th>\n",
       "      <td>22615</td>\n",
       "      <td>5410</td>\n",
       "      <td>7198</td>\n",
       "      <td>3915</td>\n",
       "      <td>1777</td>\n",
       "      <td>5185</td>\n",
       "    </tr>\n",
       "  </tbody>\n",
       "</table>\n",
       "</div>"
      ],
      "text/plain": [
       "   Fresh  Milk  Grocery  Frozen  Detergents_Paper  Delicassen\n",
       "0  12669  9656     7561     214              2674        1338\n",
       "1   7057  9810     9568    1762              3293        1776\n",
       "2   6353  8808     7684    2405              3516        7844\n",
       "3  13265  1196     4221    6404               507        1788\n",
       "4  22615  5410     7198    3915              1777        5185"
      ]
     },
     "execution_count": 7,
     "metadata": {},
     "output_type": "execute_result"
    }
   ],
   "source": [
    "df = pd.read_csv(r\"C:\\Users\\anai\\dive\\Dataset\\UCI Machine Learning Repository\\Wholesale customers data.csv\")\n",
    "df_work10 = df.drop([\"Region\",\"Channel\"],axis=1)\n",
    "display(df_work10.shape)\n",
    "df_work10.head()#.describe()"
   ]
  },
  {
   "cell_type": "code",
   "execution_count": 8,
   "metadata": {},
   "outputs": [
    {
     "name": "stdout",
     "output_type": "stream",
     "text": [
      "[0.45961362 0.86478588 0.93481597 0.97883941 0.99386152 1.        ]\n"
     ]
    },
    {
     "data": {
      "image/png": "[encoded data removed]",
      "text/plain": [
       "<Figure size 432x288 with 1 Axes>"
      ]
     },
     "metadata": {},
     "output_type": "display_data"
    }
   ],
   "source": [
    "from sklearn.decomposition import PCA\n",
    "import matplotlib.pyplot as plt\n",
    "pca = PCA(n_components=None)\n",
    "pca = pca.fit(df_work10)\n",
    "var_exp = pca.explained_variance_ratio_\n",
    "cum_var_exp = np.cumsum(var_exp)\n",
    "print(cum_var_exp)\n",
    "plt.bar(range(1,7), var_exp, alpha=0.5, align='center', label='individual explained variance')\n",
    "plt.step(range(1,7), cum_var_exp, where='mid', label='cumulative expalined variance')\n",
    "plt.ylabel('Explained variance ratio')\n",
    "plt.xlabel('Principal components')\n",
    "plt.hlines(0.7, 0, 6,  \"blue\", linestyles='dashed')\n",
    "plt.legend(loc='best')\n",
    "plt.grid()\n",
    "plt.show()"
   ]
  },
  {
   "cell_type": "code",
   "execution_count": 9,
   "metadata": {},
   "outputs": [
    {
     "data": {
      "text/plain": [
       "array([[ 6.50022122e+02,  1.58551909e+03],\n",
       "       [-4.42680498e+03,  4.04245151e+03],\n",
       "       [-4.84199871e+03,  2.57876218e+03],\n",
       "       [ 9.90346437e+02, -6.27980600e+03],\n",
       "       [ 1.06579987e+04, -2.15972582e+03],\n",
       "       [-2.76596159e+03, -9.59870727e+02],\n",
       "       [-7.15550892e+02, -2.01300227e+03],\n",
       "       [-4.47458367e+03,  1.42949697e+03],\n",
       "       [-6.71209540e+03, -2.20590916e+03],\n",
       "       [-4.82363435e+03,  1.34805592e+04],\n",
       "       [-7.97482898e+03,  5.71121893e+03],\n",
       "       [ 3.63937790e+01, -6.03789641e+03],\n",
       "       [ 1.99402021e+04,  4.59128648e+03],\n",
       "       [ 9.39669558e+03,  5.91315704e+03],\n",
       "       [ 1.26603704e+04,  4.54194543e+03],\n",
       "       [-2.99772590e+03, -6.09387930e+03],\n",
       "       [-1.05895236e+04,  6.58421594e+03],\n",
       "       [-6.36709518e+03, -3.68071267e+03],\n",
       "       [ 6.62382534e+03,  1.25471953e+03],\n",
       "       [-4.86153157e+03, -2.25592266e+02],\n",
       "       [ 4.79424416e+03, -3.98879936e+03],\n",
       "       [-7.24486684e+03, -7.34772325e+03],\n",
       "       [ 1.92992657e+04, -6.93681068e+03],\n",
       "       [ 1.99410882e+04,  2.63126546e+04],\n",
       "       [ 1.14930749e+04,  6.17138651e+03],\n",
       "       [ 3.30994467e+03, -1.16125675e+03],\n",
       "       [-2.96863906e+03, -7.15886854e+03],\n",
       "       [ 8.72160231e+02, -7.60388820e+03],\n",
       "       [-4.89551897e+03,  2.45523736e+04],\n",
       "       [ 2.92610930e+04, -1.00833375e+04],\n",
       "       [ 6.39414888e+03,  3.76417322e+02],\n",
       "       [-9.81327673e+03, -4.16283154e+03],\n",
       "       [ 8.06135614e+03, -7.97699062e+03],\n",
       "       [ 1.76054510e+04, -3.96357178e+03],\n",
       "       [-1.15280156e+04, -6.04897825e+03],\n",
       "       [-1.13155164e+04,  3.97022693e+03],\n",
       "       [ 1.72251668e+04, -5.19081924e+03],\n",
       "       [ 3.69239104e+03,  6.86458647e+03],\n",
       "       [-6.05893887e+03,  1.41223078e+04],\n",
       "       [ 4.32230973e+04, -1.40035946e+04],\n",
       "       [ 1.26572405e+04, -5.03503289e+03],\n",
       "       [ 6.48440574e+03, -3.74775427e+03],\n",
       "       [-1.04726387e+03,  7.83146005e+03],\n",
       "       [-9.96785364e+03,  1.86487624e+04],\n",
       "       [-2.46870964e+03,  3.41766822e+03],\n",
       "       [-3.85345841e+03,  2.13741761e+04],\n",
       "       [-7.07067861e+03,  1.74094280e+04],\n",
       "       [ 4.14113163e+04,  6.57882979e+04],\n",
       "       [-6.45598358e+02,  3.32887015e+03],\n",
       "       [-3.97964868e+03,  2.87791942e+04],\n",
       "       [-6.35452090e+03, -7.16528451e+03],\n",
       "       [-9.22606332e+03, -1.18110994e+03],\n",
       "       [ 2.72895210e+04, -5.80765129e+03],\n",
       "       [-1.09146928e+04,  7.38976247e+03],\n",
       "       [ 1.39816443e+04, -9.50607390e+03],\n",
       "       [-7.34350011e+03, -2.89573986e+03],\n",
       "       [-3.81971919e+03,  3.31916042e+04],\n",
       "       [-6.28336928e+03,  6.55739318e+03],\n",
       "       [ 4.52703306e+02, -7.97548636e+03],\n",
       "       [-6.21764093e+03,  6.24920483e+02],\n",
       "       [-4.22019178e+03, -6.91381753e+02],\n",
       "       [ 3.03988407e+04,  6.23693729e+04],\n",
       "       [-3.99325128e+03,  9.21012119e-01],\n",
       "       [-1.43456579e+03,  1.10064494e+04],\n",
       "       [-7.82844705e+03, -5.78164159e+03],\n",
       "       [-8.08740659e+03,  4.59508391e+04],\n",
       "       [-1.28068817e+04, -1.09757007e+03],\n",
       "       [ 7.84317115e+03,  4.65493831e+03],\n",
       "       [-8.84830877e+03, -1.94231623e+03],\n",
       "       [-4.76083262e+03, -7.07154644e+03],\n",
       "       [ 5.00866284e+03, -7.25202733e+03],\n",
       "       [ 7.62296608e+03,  8.14447143e+03],\n",
       "       [-7.00444667e+03, -4.30094475e+03],\n",
       "       [ 8.43018240e+03, -1.44917800e+03],\n",
       "       [-3.78921187e+03,  1.80223211e+03],\n",
       "       [ 7.33317055e+03, -1.05175081e+04],\n",
       "       [-1.07207452e+04, -1.95560872e+03],\n",
       "       [ 1.86785100e+03,  2.26347158e+04],\n",
       "       [-2.35045337e+03, -7.74830299e+03],\n",
       "       [-1.10043108e+04, -4.01272115e+03],\n",
       "       [-6.23853237e+03, -6.62574327e+03],\n",
       "       [-1.12071329e+04,  9.94487021e+03],\n",
       "       [-1.30006308e+03,  4.62118083e+03],\n",
       "       [ 7.62349955e+03, -8.76209361e+03],\n",
       "       [-1.01346192e+03, -3.35332315e+03],\n",
       "       [ 1.36536774e+04,  9.92267341e+04],\n",
       "       [ 1.98784566e+04,  5.84706245e+04],\n",
       "       [ 3.18242468e+04, -3.53384402e+03],\n",
       "       [-3.98289851e+03, -6.44332949e+03],\n",
       "       [ 1.23883208e+04, -5.24215783e+03],\n",
       "       [-1.61762381e+03, -8.54281896e+03],\n",
       "       [ 8.79263411e+02, -6.74580158e+03],\n",
       "       [ 1.52914232e+03,  3.59615137e+04],\n",
       "       [ 3.60522081e+03, -7.38078953e+03],\n",
       "       [-5.77789750e+03,  7.36493277e+03],\n",
       "       [-1.26067595e+04, -2.42436795e+03],\n",
       "       [-1.26134442e+04,  1.54707513e+02],\n",
       "       [-1.28783461e+04, -8.26252235e+03],\n",
       "       [-1.27644405e+04, -8.21597014e+03],\n",
       "       [-2.76908838e+03, -7.31599088e+03],\n",
       "       [ 1.95053488e+02,  6.23874393e+03],\n",
       "       [-9.44412629e+03,  1.15794485e+04],\n",
       "       [-8.89133102e+03,  1.75483800e+03],\n",
       "       [ 4.51833111e+04, -6.06493609e+03],\n",
       "       [ 1.00785261e+03, -6.09909491e+03],\n",
       "       [ 2.35794464e+03, -6.87742847e+03],\n",
       "       [-1.05187101e+04,  5.06531841e+03],\n",
       "       [-2.25408154e+03,  1.03885340e+04],\n",
       "       [-1.04156359e+04,  1.65648537e+03],\n",
       "       [-8.18109337e+03,  2.21050139e+04],\n",
       "       [-1.15961935e+03, -7.87301181e+03],\n",
       "       [ 1.43040494e+03,  1.13810823e+04],\n",
       "       [ 7.15459749e+03, -7.44909177e+03],\n",
       "       [ 1.61475401e+03, -7.66987431e+03],\n",
       "       [ 4.88721945e+03, -8.66630367e+03],\n",
       "       [-1.85604098e+03, -7.27728033e+03],\n",
       "       [-1.79516193e+03, -6.09697170e+03],\n",
       "       [-5.50708098e+03, -3.33057647e+03],\n",
       "       [ 7.36578055e+03, -8.15714198e+03],\n",
       "       [-4.34664415e+03, -6.82651862e+03],\n",
       "       [ 4.09512304e+03, -7.41137736e+03],\n",
       "       [-8.67185817e+03, -6.38921962e+03],\n",
       "       [-1.13539574e+03, -9.86306971e+03],\n",
       "       [-3.76597996e+02,  2.92317193e+03],\n",
       "       [ 2.29595480e+04, -9.51531285e+03],\n",
       "       [ 6.44209590e+04, -1.00084616e+04],\n",
       "       [ 6.91008428e+03, -8.73165797e+03],\n",
       "       [ 9.33907743e+03,  1.71940728e+03],\n",
       "       [-1.20036026e+04, -9.67780607e+02],\n",
       "       [ 2.84450714e+04, -1.16508526e+04],\n",
       "       [-5.12194525e+03, -7.75009717e+03],\n",
       "       [-1.12463089e+04, -8.47591663e+03],\n",
       "       [ 1.59344616e+03, -7.17226343e+03],\n",
       "       [-3.95553139e+03, -8.27800824e+03],\n",
       "       [-5.73959609e+03, -6.97408068e+03],\n",
       "       [-6.79514623e+03, -6.80569858e+03],\n",
       "       [-6.68847669e+03,  1.36082859e+03],\n",
       "       [-8.86055795e+03,  1.58758150e+03],\n",
       "       [ 8.27633995e+02, -4.00200672e+03],\n",
       "       [-7.20786516e+03, -4.02551217e+03],\n",
       "       [ 5.23430736e+03, -2.52308150e+03],\n",
       "       [ 1.82767276e+04, -1.28619968e+03],\n",
       "       [ 2.45359645e+04, -2.97018134e+03],\n",
       "       [-1.73781222e+03, -8.30772888e+03],\n",
       "       [ 5.51917269e+03, -7.29230209e+03],\n",
       "       [ 1.14362495e+04,  2.45168563e+04],\n",
       "       [-5.33076106e+03, -6.98140568e+03],\n",
       "       [-3.67550708e+03, -5.63133592e+03],\n",
       "       [-6.92797753e+03, -8.71153375e+03],\n",
       "       [ 1.80979647e+04, -1.02330400e+04],\n",
       "       [ 2.91347483e+03, -8.22100016e+03],\n",
       "       [-1.14756349e+04, -5.51967834e+03],\n",
       "       [ 5.76227034e+03, -7.72104391e+03],\n",
       "       [-8.58625530e+03, -2.43688125e+03],\n",
       "       [-1.28276259e+04, -8.75827339e+03],\n",
       "       [-8.92622096e+03,  1.56971475e+04],\n",
       "       [-7.94875903e+03,  7.46083313e+03],\n",
       "       [ 4.74916150e+03, -7.93700897e+03],\n",
       "       [-9.05209768e+03,  3.14359544e+03],\n",
       "       [-1.12539417e+04,  9.29700244e+03],\n",
       "       [-1.03047681e+04,  4.39596977e+03],\n",
       "       [-9.18497458e+02, -9.59654959e+03],\n",
       "       [ 2.28455343e+03, -6.47617250e+03],\n",
       "       [-4.20729822e+03,  2.42164150e+04],\n",
       "       [-6.53369902e+03,  2.39130262e+03],\n",
       "       [ 5.32807675e+03,  1.38084147e+04],\n",
       "       [-7.01047204e+03,  3.12645930e+03],\n",
       "       [-9.91935360e+03, -4.35537400e+03],\n",
       "       [-7.40995743e+03, -8.44639605e+03],\n",
       "       [-7.53945722e+03, -7.38240706e+03],\n",
       "       [-1.11878402e+04,  8.45076309e+03],\n",
       "       [-8.45023897e+03,  2.31945695e+04],\n",
       "       [-1.13844089e+04, -3.45742055e+01],\n",
       "       [-1.06888294e+04,  1.38387005e+04],\n",
       "       [-1.22335129e+04, -4.13432868e+03],\n",
       "       [-9.39870791e+03,  5.67093590e+03],\n",
       "       [ 3.34799973e+04, -4.85130807e+03],\n",
       "       [ 6.10809930e+02, -2.86405429e+03],\n",
       "       [-1.35491892e+03, -2.56607743e+03],\n",
       "       [-8.80526789e+03, -4.60116027e+03],\n",
       "       [ 1.24201313e+02,  3.74359619e+02],\n",
       "       [ 1.03863425e+05,  9.91034963e+03],\n",
       "       [-1.10735900e+04,  6.06658975e+03],\n",
       "       [ 3.79176592e+04,  2.73314502e+04],\n",
       "       [-1.27319529e+04, -4.66430038e+03],\n",
       "       [-4.28353536e+03, -5.53668475e+03],\n",
       "       [-9.83643604e+03, -7.91208783e+03],\n",
       "       [-8.57629614e+03,  3.68778298e+03],\n",
       "       [-3.56625439e+03,  5.63268509e+03],\n",
       "       [-1.03957072e+04,  7.43684040e+03],\n",
       "       [ 5.07655293e+03, -6.04962503e+03],\n",
       "       [ 1.04045800e+02, -9.11928085e+03],\n",
       "       [-7.65685277e+03, -6.87743314e+03],\n",
       "       [-1.14633249e+04,  1.05414507e+04],\n",
       "       [-6.01806674e+03, -6.63461022e+03],\n",
       "       [ 5.42520518e+03, -3.98453342e+03],\n",
       "       [ 2.06597741e+04, -4.65635721e+03],\n",
       "       [-9.35122531e+03,  4.15182559e+03],\n",
       "       [-7.88576113e+02, -3.59808906e+03],\n",
       "       [-3.51264030e+03, -6.94601868e+03],\n",
       "       [-6.85928948e+03,  1.89552822e+04],\n",
       "       [-5.26298017e+03,  2.22290044e+04],\n",
       "       [ 1.43621802e+04,  1.96927762e+03],\n",
       "       [-1.26073900e+04, -6.50020649e+03],\n",
       "       [-1.08212315e+04, -4.53341619e+03],\n",
       "       [-9.38122505e+03,  1.85431804e+04],\n",
       "       [-6.93444010e+03, -8.29539255e+03],\n",
       "       [-9.61236348e+03, -1.12333435e+02],\n",
       "       [-1.08333548e+04, -1.35076665e+03],\n",
       "       [-5.36956179e+03,  1.45146640e+04],\n",
       "       [ 5.40038580e+03, -8.66013629e+03],\n",
       "       [ 5.02818149e+03,  4.19627682e+04],\n",
       "       [-5.77669045e+03, -7.36724926e+03],\n",
       "       [-8.74329394e+03,  9.51804649e+02],\n",
       "       [-9.51129083e+03,  5.18698502e+03],\n",
       "       [-8.13025590e+03,  1.05383236e+04],\n",
       "       [-6.75326338e+03,  3.22521606e+04],\n",
       "       [ 4.92697367e+03, -8.42873963e+03],\n",
       "       [-1.10034733e+04,  8.76246356e+03],\n",
       "       [-8.91492469e+03, -8.03603572e+03],\n",
       "       [ 1.46028266e+03, -8.90575180e+03],\n",
       "       [-6.62750735e+03,  4.12334394e+03],\n",
       "       [-7.06259032e+03, -6.64838731e+03],\n",
       "       [-9.16513667e+03, -3.54328147e+03],\n",
       "       [-6.02277131e+03, -8.09423762e+03],\n",
       "       [-2.82017463e+02, -5.06503144e+03],\n",
       "       [ 8.47243983e+03, -3.14299352e+01],\n",
       "       [-8.75823707e+03, -6.84678205e+03],\n",
       "       [-1.14067994e+04, -6.56236606e+03],\n",
       "       [-3.41768099e+03, -6.27167282e+03],\n",
       "       [-1.71885057e+02, -2.35142384e+03],\n",
       "       [-9.40189109e+03, -7.56667211e+01],\n",
       "       [ 1.24947031e+04, -7.70385327e+03],\n",
       "       [-1.15722627e+04, -3.69235648e+03],\n",
       "       [ 3.15963157e+03, -6.03988898e+03],\n",
       "       [-1.05231385e+04, -3.13914393e+03],\n",
       "       [-4.37810749e+03, -6.90546405e+03],\n",
       "       [ 6.08158124e+03, -8.46591895e+03],\n",
       "       [-5.99461421e+03, -8.92853677e+03],\n",
       "       [ 3.44067011e+04, -9.53113098e+03],\n",
       "       [ 1.08945559e+04, -3.98293197e+03],\n",
       "       [ 1.16586406e+04, -8.59153865e+03],\n",
       "       [ 5.20240164e+03, -8.09543618e+03],\n",
       "       [-1.52976667e+03, -3.56476224e+03],\n",
       "       [-5.50543829e+03,  4.00947397e+03],\n",
       "       [-8.70809960e+03,  8.06988821e+03],\n",
       "       [-4.07266616e+03, -7.03728495e+03],\n",
       "       [ 2.21632588e+02, -9.75795892e+03],\n",
       "       [ 2.74921833e+03, -5.76755875e+03],\n",
       "       [-4.04407792e+03, -5.94003724e+03],\n",
       "       [-9.68339619e+03, -6.68002307e+03],\n",
       "       [-1.35627634e+03,  3.50687407e+04],\n",
       "       [-5.19287084e+03, -4.94549117e+03],\n",
       "       [ 1.75380114e+04,  5.19235758e+03],\n",
       "       [ 6.89687607e+01,  3.59190786e+03],\n",
       "       [ 1.80965145e+04, -1.09108780e+04],\n",
       "       [-1.60872971e+03, -3.29854804e+03],\n",
       "       [-4.03170772e+03, -6.05053593e+03],\n",
       "       [ 4.31882517e+04, -1.07141052e+04],\n",
       "       [ 4.00548148e+04, -6.19880654e+03],\n",
       "       [-3.67837835e+03, -5.36199482e+03],\n",
       "       [-4.52856233e+03, -8.37775808e+03],\n",
       "       [ 9.70993886e+03, -9.23108665e+03],\n",
       "       [-1.01467098e+04, -2.37678029e+03],\n",
       "       [-1.02375320e+04,  1.01147651e+04],\n",
       "       [-2.20851857e+03,  1.34524459e+04],\n",
       "       [-9.87674687e+03,  1.49971542e+04],\n",
       "       [ 8.09488288e+03, -8.13339944e+03],\n",
       "       [ 5.29289079e+02,  1.15360780e+04],\n",
       "       [ 1.89507913e+03, -9.41812648e+03],\n",
       "       [-7.82730339e+03, -8.09630840e+03],\n",
       "       [-1.04497945e+04, -5.15569999e+03],\n",
       "       [-1.13780011e+04,  7.47480807e+02],\n",
       "       [ 2.38063881e+04, -1.00935709e+04],\n",
       "       [-1.20828246e+04, -6.30785564e+03],\n",
       "       [-1.24327030e+04, -7.85790324e+03],\n",
       "       [ 1.55158437e+04, -4.37266421e+03],\n",
       "       [-1.88821380e+03, -8.95861289e+03],\n",
       "       [-6.21526806e+02, -6.90700965e+03],\n",
       "       [ 5.12722225e+03,  1.26220320e+03],\n",
       "       [-9.45305838e+03, -5.74446007e+03],\n",
       "       [ 2.55900026e+01, -7.95511888e+02],\n",
       "       [ 3.61898335e+04, -8.60629698e+03],\n",
       "       [ 1.39239476e+04, -8.27083296e+03],\n",
       "       [ 5.66645626e+04, -4.28604563e+03],\n",
       "       [ 2.63034809e+04, -1.00533449e+04],\n",
       "       [-5.88530776e+03, -7.08141857e+03],\n",
       "       [ 3.30236416e+03, -7.23303842e+03],\n",
       "       [ 2.71181516e+03, -9.16403650e+03],\n",
       "       [ 2.85964536e+04, -1.30623182e+04],\n",
       "       [-1.02199065e+04, -5.55948231e+03],\n",
       "       [-6.54700882e+03, -5.19726537e+03],\n",
       "       [-9.39911007e+03, -3.94631949e+03],\n",
       "       [-7.30104357e+03,  8.19458870e+03],\n",
       "       [ 8.21789532e+03, -4.74570388e+03],\n",
       "       [-5.43484153e+03, -3.86972810e+03],\n",
       "       [ 6.07942354e+03, -7.22377794e+03],\n",
       "       [-4.51260961e+03, -1.36822791e+03],\n",
       "       [-5.51584406e+03,  2.09929563e+03],\n",
       "       [-1.27393567e+04, -6.72904265e+03],\n",
       "       [ 3.99129653e+03, -1.48894939e+03],\n",
       "       [-5.20835354e+03,  1.62305494e+04],\n",
       "       [-9.34980571e+03,  3.37621432e+03],\n",
       "       [-9.61810944e+03,  7.03720562e+03],\n",
       "       [-1.07012330e+04,  1.83784042e+04],\n",
       "       [-1.10034614e+04,  6.01641890e+03],\n",
       "       [-3.92698769e+03,  1.64046772e+04],\n",
       "       [ 4.15657975e+03, -7.18375907e+03],\n",
       "       [-6.22408064e+03, -6.64822085e+03],\n",
       "       [-8.99780073e+03,  1.46213306e+04],\n",
       "       [-4.27524463e+03, -7.05614202e+03],\n",
       "       [ 1.67395917e+04, -4.48171256e+03],\n",
       "       [-9.65945827e+03,  1.37650595e+04],\n",
       "       [-2.95101269e+03, -7.58990370e+03],\n",
       "       [-2.10214985e+03, -2.87006161e+03],\n",
       "       [-9.15603644e+03,  9.46653376e+03],\n",
       "       [-5.72047194e+03, -7.17980906e+03],\n",
       "       [-1.13026013e+04, -2.31226656e+03],\n",
       "       [-1.06952441e+03, -5.78846809e+03],\n",
       "       [ 3.87067666e+02,  2.11243793e+04],\n",
       "       [-1.10082911e+04, -5.23227157e+03],\n",
       "       [-3.48628076e+03, -4.81165988e+03],\n",
       "       [ 2.90617407e+03, -7.19761933e+03],\n",
       "       [ 5.78910719e+02, -3.22005295e+02],\n",
       "       [ 1.29261042e+04, -7.89432152e+03],\n",
       "       [ 3.10071165e+04,  6.27780042e+03],\n",
       "       [-8.28140565e+03, -7.26435778e+03],\n",
       "       [-1.26234112e+04, -7.09394843e+03],\n",
       "       [ 4.84880481e+03, -6.94924524e+03],\n",
       "       [-7.17886657e+03, -4.99315821e+03],\n",
       "       [-2.75721936e+03, -5.02032984e+03],\n",
       "       [ 1.14795198e+03,  2.16806578e+04],\n",
       "       [ 9.32637900e+03, -8.35579714e+03],\n",
       "       [-5.19041747e+02,  5.82410592e+04],\n",
       "       [ 5.24374639e+03, -8.00522860e+03],\n",
       "       [ 1.47993067e+04,  1.54497207e+03],\n",
       "       [ 5.96119399e+02, -8.48759502e+03],\n",
       "       [-2.70572191e+03, -7.10931981e+03],\n",
       "       [-1.05722995e+04, -3.53970067e+03],\n",
       "       [-8.84587395e+03, -4.28327561e+03],\n",
       "       [-1.19059306e+04,  3.33095826e+03],\n",
       "       [-9.57909054e+03,  4.47914535e+03],\n",
       "       [-1.20395478e+04,  3.94397787e+02],\n",
       "       [-9.23401541e+03,  2.03288610e+04],\n",
       "       [-9.87526219e+03, -7.14919243e+03],\n",
       "       [-1.14091224e+04,  1.72205598e+02],\n",
       "       [-8.51907450e+03,  8.75572251e+03],\n",
       "       [ 1.53687361e+04,  2.95980958e+03],\n",
       "       [-9.46000199e+03, -5.97973018e+03],\n",
       "       [-4.33464772e+03,  1.82082793e+04],\n",
       "       [-9.42739638e+03, -7.03351528e+03],\n",
       "       [-9.30152620e+03,  1.80325702e+04],\n",
       "       [-1.25008372e+04, -7.12036449e+03],\n",
       "       [-1.12346988e+04,  1.38369119e+04],\n",
       "       [ 2.42329916e+03, -4.11450007e+03],\n",
       "       [-1.30199080e+04, -6.86195565e+03],\n",
       "       [ 9.23959160e+03, -1.11223282e+04],\n",
       "       [-1.19200106e+04,  1.13274020e+04],\n",
       "       [-9.14991717e+03,  2.30339816e+03],\n",
       "       [-1.17396021e+04, -4.14512139e+03],\n",
       "       [ 6.71939218e+03, -7.84220330e+03],\n",
       "       [-8.50218316e+03, -8.31550839e+03],\n",
       "       [-1.09132898e+04, -6.26188181e+03],\n",
       "       [-8.50860878e+03, -4.92634405e+03],\n",
       "       [-1.05125203e+04, -7.30405002e+03],\n",
       "       [-7.21736838e+03,  1.75007644e+03],\n",
       "       [-3.54671319e+03, -7.38128260e+03],\n",
       "       [-9.68192160e+03, -8.25506962e+03],\n",
       "       [ 8.99093000e+03, -8.80777729e+03],\n",
       "       [-7.12811443e+03, -8.80368778e+03],\n",
       "       [ 2.64251874e+04, -7.09718875e+03],\n",
       "       [ 7.81188038e+03, -8.43837728e+03],\n",
       "       [-8.64802465e+03, -5.63426470e+03],\n",
       "       [ 2.90139385e+03, -7.58344371e+02],\n",
       "       [-6.62486558e+03, -6.96141406e+03],\n",
       "       [-7.41850097e+03, -7.66718677e+03],\n",
       "       [-7.59403353e+03,  7.34873094e+03],\n",
       "       [ 2.52073705e+04, -9.37712120e+03],\n",
       "       [-9.67813348e+03, -5.94444754e+03],\n",
       "       [-8.21750573e+03,  1.64147411e+03],\n",
       "       [ 1.49838972e+04, -9.66009867e+03],\n",
       "       [ 6.09389584e+03, -7.25101889e+03],\n",
       "       [ 2.21777023e+04, -1.58216313e+03],\n",
       "       [-1.06740098e+04, -5.59353956e+03],\n",
       "       [ 1.46740808e+03,  1.33706672e+04],\n",
       "       [-1.42404740e+03, -8.31880425e+03],\n",
       "       [-1.13101238e+04, -4.75817035e+03],\n",
       "       [ 7.65659247e+03, -8.84446828e+03],\n",
       "       [-3.44999313e+03, -8.50819418e+03],\n",
       "       [-3.51935927e+03, -7.92041436e+03],\n",
       "       [-9.05963421e+03, -7.50273276e+03],\n",
       "       [-1.01382737e+04, -5.80232227e+03],\n",
       "       [-1.20840217e+04, -3.90329972e+03],\n",
       "       [ 1.20339199e+04, -5.00325025e+03],\n",
       "       [-8.30716572e+02, -7.24323989e+03],\n",
       "       [-3.38926534e+03, -7.97270058e+03],\n",
       "       [-6.49503494e+03,  5.31757356e+03],\n",
       "       [-8.15906289e+02, -8.21118679e+03],\n",
       "       [-1.29009254e+03, -9.17232149e+03],\n",
       "       [-3.68194850e+03, -8.71211920e+03],\n",
       "       [-8.32155339e+03, -7.85526942e+03],\n",
       "       [ 1.56815238e+04, -8.86280730e+03],\n",
       "       [ 1.34001559e+04, -5.39662268e+03],\n",
       "       [ 1.31947418e+04, -2.21445103e+03],\n",
       "       [ 5.65893886e+03, -5.51684405e+03],\n",
       "       [-6.20419207e+03, -7.95435255e+03],\n",
       "       [ 1.34840209e+04, -4.89961113e+03],\n",
       "       [-3.14963664e+03,  1.41297513e+04],\n",
       "       [-4.27934023e+03, -1.85117069e+03],\n",
       "       [-3.44980621e+03, -2.22402887e+03],\n",
       "       [-6.12250342e+03, -4.22634363e+03],\n",
       "       [-1.02559460e+04, -4.54795211e+03],\n",
       "       [-1.21691539e+04,  3.59245060e+03],\n",
       "       [-4.71738897e+03, -1.65979906e+03],\n",
       "       [-6.30463994e+03, -5.52045380e+03],\n",
       "       [-4.18477144e+03,  1.33446499e+03],\n",
       "       [-7.02962149e+03,  7.17239836e+03],\n",
       "       [-7.06589914e+03,  3.23176616e+03],\n",
       "       [-1.06166251e+04,  1.22267843e+04],\n",
       "       [-4.02482565e+03, -5.50113167e+03],\n",
       "       [-7.60786884e+03,  6.08257064e+03],\n",
       "       [ 4.59959854e+03,  4.06671321e+01],\n",
       "       [ 1.29448658e+04, -7.44387545e+03],\n",
       "       [ 4.61822645e+03, -4.62808709e+03],\n",
       "       [ 4.34926153e+03,  1.30953428e+03],\n",
       "       [ 4.34714301e+02, -6.98341553e+03],\n",
       "       [ 1.94924340e+03,  7.39521798e+03],\n",
       "       [ 2.15526835e+04,  4.48065148e+02],\n",
       "       [-9.11042017e+03, -2.04019767e+03],\n",
       "       [-4.44771292e+03, -5.96374584e+03],\n",
       "       [-8.68316982e+03,  5.81408578e+03],\n",
       "       [-1.99737741e+03, -2.64660584e+03],\n",
       "       [ 7.65137624e+03, -6.42303804e+03],\n",
       "       [-1.07137383e+04, -6.05810977e+03],\n",
       "       [ 3.98879821e+03, -1.63844521e+03],\n",
       "       [ 2.01408485e+04,  6.30687723e+03],\n",
       "       [ 2.59122499e+04, -1.17576471e+04],\n",
       "       [ 4.55511500e+03,  2.62017586e+04],\n",
       "       [-2.73437092e+03, -7.07077534e+03],\n",
       "       [-1.03701253e+04, -6.16146491e+03]])"
      ]
     },
     "metadata": {},
     "output_type": "display_data"
    },
    {
     "name": "stderr",
     "output_type": "stream",
     "text": [
      "C:\\Users\\anai\\Anaconda3\\lib\\site-packages\\ipykernel_launcher.py:6: RuntimeWarning: invalid value encountered in log\n",
      "  \n"
     ]
    },
    {
     "data": {
      "text/plain": [
       "array([[ 6.4770064 ,  7.36866713],\n",
       "       [        nan,  8.3046066 ],\n",
       "       [        nan,  7.85506479],\n",
       "       [ 6.89805482,         nan],\n",
       "       [ 9.27406594,         nan],\n",
       "       [        nan,         nan],\n",
       "       [        nan,         nan],\n",
       "       [        nan,  7.26507789],\n",
       "       [        nan,         nan],\n",
       "       [        nan,  9.50900387],\n",
       "       [        nan,  8.65018775],\n",
       "       [ 3.59439785,         nan],\n",
       "       [ 9.90049318,  8.43191554],\n",
       "       [ 9.14811337,  8.68493515],\n",
       "       [ 9.44623196,  8.42111071],\n",
       "       [        nan,         nan],\n",
       "       [        nan,  8.79243054],\n",
       "       [        nan,         nan],\n",
       "       [ 8.79842833,  7.13466734],\n",
       "       [        nan,         nan],\n",
       "       [ 8.47517134,         nan],\n",
       "       [        nan,         nan],\n",
       "       [ 9.86782233,         nan],\n",
       "       [ 9.90053762, 10.17780527],\n",
       "       [ 9.34949995,  8.72767881],\n",
       "       [ 8.10468675,         nan],\n",
       "       [        nan,         nan],\n",
       "       [ 6.77097316,         nan],\n",
       "       [        nan, 10.10856381],\n",
       "       [10.28401403,         nan],\n",
       "       [ 8.76313861,  5.93069843],\n",
       "       [        nan,         nan],\n",
       "       [ 8.99483708,         nan],\n",
       "       [ 9.77596385,         nan],\n",
       "       [        nan,         nan],\n",
       "       [        nan,  8.28657853],\n",
       "       [ 9.75412678,         nan],\n",
       "       [ 8.21402951,  8.83413108],\n",
       "       [        nan,  9.55551094],\n",
       "       [10.67413029,         nan],\n",
       "       [ 9.4459847 ,         nan],\n",
       "       [ 8.77715546,         nan],\n",
       "       [        nan,  8.96590424],\n",
       "       [        nan,  9.83353506],\n",
       "       [        nan,  8.13671379],\n",
       "       [        nan,  9.96993875],\n",
       "       [        nan,  9.76476718],\n",
       "       [10.63130946, 11.09419726],\n",
       "       [        nan,  8.11038823],\n",
       "       [        nan, 10.26740798],\n",
       "       [        nan,         nan],\n",
       "       [        nan,         nan],\n",
       "       [10.21425806,         nan],\n",
       "       [        nan,  8.90785087],\n",
       "       [ 9.54550063,         nan],\n",
       "       [        nan,         nan],\n",
       "       [        nan, 10.41005224],\n",
       "       [        nan,  8.78834842],\n",
       "       [ 6.11523696,         nan],\n",
       "       [        nan,  6.43762441],\n",
       "       [        nan,         nan],\n",
       "       [10.32215975, 11.04082961],\n",
       "       [        nan, -0.08228208],\n",
       "       [        nan,  9.30623669],\n",
       "       [        nan,         nan],\n",
       "       [        nan, 10.73532739],\n",
       "       [        nan,         nan],\n",
       "       [ 8.96739852,  8.44568394],\n",
       "       [        nan,         nan],\n",
       "       [        nan,         nan],\n",
       "       [ 8.51892426,         nan],\n",
       "       [ 8.93892082,  9.00509462],\n",
       "       [        nan,         nan],\n",
       "       [ 9.03957369,         nan],\n",
       "       [        nan,  7.49678124],\n",
       "       [ 8.90016325,         nan],\n",
       "       [        nan,         nan],\n",
       "       [ 7.53254385, 10.02724011],\n",
       "       [        nan,         nan],\n",
       "       [        nan,         nan],\n",
       "       [        nan,         nan],\n",
       "       [        nan,  9.20481214],\n",
       "       [        nan,  8.43840554],\n",
       "       [ 8.9389908 ,         nan],\n",
       "       [        nan,         nan],\n",
       "       [ 9.52176417, 11.50516275],\n",
       "       [ 9.89739184, 10.97627976],\n",
       "       [10.36798376,         nan],\n",
       "       [        nan,         nan],\n",
       "       [ 9.42450944,         nan],\n",
       "       [        nan,         nan],\n",
       "       [ 6.77908452,         nan],\n",
       "       [ 7.33246228, 10.49020458],\n",
       "       [ 8.1901383 ,         nan],\n",
       "       [        nan,  8.9044852 ],\n",
       "       [        nan,         nan],\n",
       "       [        nan,  5.04153632],\n",
       "       [        nan,         nan],\n",
       "       [        nan,         nan],\n",
       "       [        nan,         nan],\n",
       "       [ 5.27327382,  8.73853415],\n",
       "       [        nan,  9.35698713],\n",
       "       [        nan,  7.47013182],\n",
       "       [10.71848307,         nan],\n",
       "       [ 6.91557722,         nan],\n",
       "       [ 7.7655456 ,         nan],\n",
       "       [        nan,  8.53017228],\n",
       "       [        nan,  9.24845798],\n",
       "       [        nan,  7.41245339],\n",
       "       [        nan, 10.00355974],\n",
       "       [        nan,         nan],\n",
       "       [ 7.26571286,  9.33970781],\n",
       "       [ 8.87551043,         nan],\n",
       "       [ 7.38693791,         nan],\n",
       "       [ 8.4943788 ,         nan],\n",
       "       [        nan,         nan],\n",
       "       [        nan,         nan],\n",
       "       [        nan,         nan],\n",
       "       [ 8.9046003 ,         nan],\n",
       "       [        nan,         nan],\n",
       "       [ 8.31755204,         nan],\n",
       "       [        nan,         nan],\n",
       "       [        nan,         nan],\n",
       "       [        nan,  7.98042458],\n",
       "       [10.04148916,         nan],\n",
       "       [11.07319431,         nan],\n",
       "       [ 8.84073711,         nan],\n",
       "       [ 9.14196275,  7.4497349 ],\n",
       "       [        nan,         nan],\n",
       "       [10.25573019,         nan],\n",
       "       [        nan,         nan],\n",
       "       [        nan,         nan],\n",
       "       [ 7.37365435,         nan],\n",
       "       [        nan,         nan],\n",
       "       [        nan,         nan],\n",
       "       [        nan,         nan],\n",
       "       [        nan,  7.21584905],\n",
       "       [        nan,  7.36996707],\n",
       "       [ 6.71857102,         nan],\n",
       "       [        nan,         nan],\n",
       "       [ 8.56298981,         nan],\n",
       "       [ 9.81338381,         nan],\n",
       "       [10.10789526,         nan],\n",
       "       [        nan,         nan],\n",
       "       [ 8.61598325,         nan],\n",
       "       [ 9.34454337, 10.10711617],\n",
       "       [        nan,         nan],\n",
       "       [        nan,         nan],\n",
       "       [        nan,         nan],\n",
       "       [ 9.80355476,         nan],\n",
       "       [ 7.97710175,         nan],\n",
       "       [        nan,         nan],\n",
       "       [ 8.65908683,         nan],\n",
       "       [        nan,         nan],\n",
       "       [        nan,         nan],\n",
       "       [        nan,  9.66123429],\n",
       "       [        nan,  8.91742237],\n",
       "       [ 8.46572336,         nan],\n",
       "       [        nan,  8.05312247],\n",
       "       [        nan,  9.13744731],\n",
       "       [        nan,  8.38844344],\n",
       "       [        nan,         nan],\n",
       "       [ 7.73392585,         nan],\n",
       "       [        nan, 10.09478599],\n",
       "       [        nan,  7.77959353],\n",
       "       [ 8.58074562,  9.53303345],\n",
       "       [        nan,  8.04765643],\n",
       "       [        nan,         nan],\n",
       "       [        nan,         nan],\n",
       "       [        nan,         nan],\n",
       "       [        nan,  9.04201202],\n",
       "       [        nan, 10.05167346],\n",
       "       [        nan,         nan],\n",
       "       [        nan,  9.53522433],\n",
       "       [        nan,         nan],\n",
       "       [        nan,  8.64310944],\n",
       "       [10.41870344,         nan],\n",
       "       [ 6.41478583,         nan],\n",
       "       [        nan,         nan],\n",
       "       [        nan,         nan],\n",
       "       [ 4.82190374,  5.92521688],\n",
       "       [11.5508321 ,  9.20133491],\n",
       "       [        nan,  8.71055191],\n",
       "       [10.54317223, 10.21579334],\n",
       "       [        nan,         nan],\n",
       "       [        nan,         nan],\n",
       "       [        nan,         nan],\n",
       "       [        nan,  8.21278074],\n",
       "       [        nan,  8.63634153],\n",
       "       [        nan,  8.91420136],\n",
       "       [ 8.53238775,         nan],\n",
       "       [ 4.64483118,         nan],\n",
       "       [        nan,         nan],\n",
       "       [        nan,  9.26307045],\n",
       "       [        nan,         nan],\n",
       "       [ 8.598811  ,         nan],\n",
       "       [ 9.93594381,         nan],\n",
       "       [        nan,  8.33130342],\n",
       "       [        nan,         nan],\n",
       "       [        nan,         nan],\n",
       "       [        nan,  9.84983791],\n",
       "       [        nan, 10.00915322],\n",
       "       [ 9.57235366,  7.58542207],\n",
       "       [        nan,         nan],\n",
       "       [        nan,         nan],\n",
       "       [        nan,  9.82785737],\n",
       "       [        nan,         nan],\n",
       "       [        nan,         nan],\n",
       "       [        nan,         nan],\n",
       "       [        nan,  9.58291473],\n",
       "       [ 8.59422567,         nan],\n",
       "       [ 8.52281366, 10.64453803],\n",
       "       [        nan,         nan],\n",
       "       [        nan,  6.85835981],\n",
       "       [        nan,  8.55390789],\n",
       "       [        nan,  9.26277375],\n",
       "       [        nan, 10.38134031],\n",
       "       [ 8.50248022,         nan],\n",
       "       [        nan,  9.07823237],\n",
       "       [        nan,         nan],\n",
       "       [ 7.2863853 ,         nan],\n",
       "       [        nan,  8.32441975],\n",
       "       [        nan,         nan],\n",
       "       [        nan,         nan],\n",
       "       [        nan,         nan],\n",
       "       [        nan,         nan],\n",
       "       [ 9.0445738 ,         nan],\n",
       "       [        nan,         nan],\n",
       "       [        nan,         nan],\n",
       "       [        nan,         nan],\n",
       "       [        nan,         nan],\n",
       "       [        nan,         nan],\n",
       "       [ 9.43306008,         nan],\n",
       "       [        nan,         nan],\n",
       "       [ 8.05821071,         nan],\n",
       "       [        nan,         nan],\n",
       "       [        nan,         nan],\n",
       "       [ 8.71302001,         nan],\n",
       "       [        nan,         nan],\n",
       "       [10.44600662,         nan],\n",
       "       [ 9.29601849,         nan],\n",
       "       [ 9.36380286,         nan],\n",
       "       [ 8.55687565,         nan],\n",
       "       [        nan,         nan],\n",
       "       [        nan,  8.29641533],\n",
       "       [        nan,  8.99589491],\n",
       "       [        nan,         nan],\n",
       "       [ 5.401021  ,         nan],\n",
       "       [ 7.91907191,         nan],\n",
       "       [        nan,         nan],\n",
       "       [        nan,         nan],\n",
       "       [        nan, 10.46506543],\n",
       "       [        nan,         nan],\n",
       "       [ 9.77212588,  8.55494313],\n",
       "       [ 4.23365366,  8.18643878],\n",
       "       [ 9.80347463,         nan],\n",
       "       [        nan,         nan],\n",
       "       [        nan,         nan],\n",
       "       [10.67332378,         nan],\n",
       "       [10.59800416,         nan],\n",
       "       [        nan,         nan],\n",
       "       [        nan,         nan],\n",
       "       [ 9.18090526,         nan],\n",
       "       [        nan,         nan],\n",
       "       [        nan,  9.22175152],\n",
       "       [        nan,  9.50691622],\n",
       "       [        nan,  9.61561574],\n",
       "       [ 8.9989874 ,         nan],\n",
       "       [ 6.27153475,  9.35323462],\n",
       "       [ 7.54701587,         nan],\n",
       "       [        nan,         nan],\n",
       "       [        nan,         nan],\n",
       "       [        nan,  6.61670863],\n",
       "       [10.07770923,         nan],\n",
       "       [        nan,         nan],\n",
       "       [        nan,         nan],\n",
       "       [ 9.64961696,         nan],\n",
       "       [        nan,         nan],\n",
       "       [        nan,         nan],\n",
       "       [ 8.54231932,  7.14061405],\n",
       "       [        nan,         nan],\n",
       "       [ 3.24220175,         nan],\n",
       "       [10.49653352,         nan],\n",
       "       [ 9.54136549,         nan],\n",
       "       [10.9449043 ,         nan],\n",
       "       [10.17745656,         nan],\n",
       "       [        nan,         nan],\n",
       "       [ 8.1023939 ,         nan],\n",
       "       [ 7.90537349,         nan],\n",
       "       [10.26103799,         nan],\n",
       "       [        nan,         nan],\n",
       "       [        nan,         nan],\n",
       "       [        nan,         nan],\n",
       "       [        nan,  9.0112293 ],\n",
       "       [ 9.01406941,         nan],\n",
       "       [        nan,         nan],\n",
       "       [ 8.71266516,         nan],\n",
       "       [        nan,         nan],\n",
       "       [        nan,  7.64935716],\n",
       "       [        nan,         nan],\n",
       "       [ 8.2918714 ,         nan],\n",
       "       [        nan,  9.69465051],\n",
       "       [        nan,  8.12451034],\n",
       "       [        nan,  8.85896644],\n",
       "       [        nan,  9.81893157],\n",
       "       [        nan,  8.70224749],\n",
       "       [        nan,  9.70532177],\n",
       "       [ 8.33244784,         nan],\n",
       "       [        nan,         nan],\n",
       "       [        nan,  9.59023674],\n",
       "       [        nan,         nan],\n",
       "       [ 9.72553195,         nan],\n",
       "       [        nan,  9.52988874],\n",
       "       [        nan,         nan],\n",
       "       [        nan,         nan],\n",
       "       [        nan,  9.1555181 ],\n",
       "       [        nan,         nan],\n",
       "       [        nan,         nan],\n",
       "       [        nan,         nan],\n",
       "       [ 5.95859953,  9.95818307],\n",
       "       [        nan,         nan],\n",
       "       [        nan,         nan],\n",
       "       [ 7.97459274,         nan],\n",
       "       [ 6.36114827,         nan],\n",
       "       [ 9.46700413,         nan],\n",
       "       [10.34197202,  8.74477495],\n",
       "       [        nan,         nan],\n",
       "       [        nan,         nan],\n",
       "       [ 8.48648752,         nan],\n",
       "       [        nan,         nan],\n",
       "       [        nan,         nan],\n",
       "       [ 7.04573475,  9.98417579],\n",
       "       [ 9.14060212,         nan],\n",
       "       [        nan, 10.97234587],\n",
       "       [ 8.56479148,         nan],\n",
       "       [ 9.60233562,  7.34276111],\n",
       "       [ 6.39044098,         nan],\n",
       "       [        nan,         nan],\n",
       "       [        nan,         nan],\n",
       "       [        nan,         nan],\n",
       "       [        nan,  8.11101531],\n",
       "       [        nan,  8.40718754],\n",
       "       [        nan,  5.97736001],\n",
       "       [        nan,  9.91979688],\n",
       "       [        nan,         nan],\n",
       "       [        nan,  5.1486891 ],\n",
       "       [        nan,  9.07746277],\n",
       "       [ 9.6400906 ,  7.99288021],\n",
       "       [        nan,         nan],\n",
       "       [        nan,  9.80963168],\n",
       "       [        nan,         nan],\n",
       "       [        nan,  9.79993486],\n",
       "       [        nan,         nan],\n",
       "       [        nan,  9.53509507],\n",
       "       [ 7.79288518,         nan],\n",
       "       [        nan,         nan],\n",
       "       [ 9.13125296,         nan],\n",
       "       [        nan,  9.33498003],\n",
       "       [        nan,  7.74214077],\n",
       "       [        nan,         nan],\n",
       "       [ 8.81275298,         nan],\n",
       "       [        nan,         nan],\n",
       "       [        nan,         nan],\n",
       "       [        nan,         nan],\n",
       "       [        nan,         nan],\n",
       "       [        nan,  7.46741475],\n",
       "       [        nan,         nan],\n",
       "       [        nan,         nan],\n",
       "       [ 9.10397157,         nan],\n",
       "       [        nan,         nan],\n",
       "       [10.1820729 ,         nan],\n",
       "       [ 8.96340098,         nan],\n",
       "       [        nan,         nan],\n",
       "       [ 7.97294654,         nan],\n",
       "       [        nan,         nan],\n",
       "       [        nan,         nan],\n",
       "       [        nan,  8.90228292],\n",
       "       [10.13489171,         nan],\n",
       "       [        nan,         nan],\n",
       "       [        nan,  7.40334997],\n",
       "       [ 9.61473138,         nan],\n",
       "       [ 8.71504287,         nan],\n",
       "       [10.00684266,         nan],\n",
       "       [        nan,         nan],\n",
       "       [ 7.29125291,  9.50081857],\n",
       "       [        nan,         nan],\n",
       "       [        nan,         nan],\n",
       "       [ 8.94332232,         nan],\n",
       "       [        nan,         nan],\n",
       "       [        nan,         nan],\n",
       "       [        nan,         nan],\n",
       "       [        nan,         nan],\n",
       "       [        nan,         nan],\n",
       "       [ 9.3954846 ,         nan],\n",
       "       [        nan,         nan],\n",
       "       [        nan,         nan],\n",
       "       [        nan,  8.57877238],\n",
       "       [        nan,         nan],\n",
       "       [        nan,         nan],\n",
       "       [        nan,         nan],\n",
       "       [        nan,         nan],\n",
       "       [ 9.66023847,         nan],\n",
       "       [ 9.50302162,         nan],\n",
       "       [ 9.48757368,         nan],\n",
       "       [ 8.64099167,         nan],\n",
       "       [        nan,         nan],\n",
       "       [ 9.50926062,         nan],\n",
       "       [        nan,  9.55603788],\n",
       "       [        nan,         nan],\n",
       "       [        nan,         nan],\n",
       "       [        nan,         nan],\n",
       "       [        nan,         nan],\n",
       "       [        nan,  8.18658987],\n",
       "       [        nan,         nan],\n",
       "       [        nan,         nan],\n",
       "       [        nan,  7.19628573],\n",
       "       [        nan,  8.87799538],\n",
       "       [        nan,  8.08078406],\n",
       "       [        nan,  9.41138426],\n",
       "       [        nan,         nan],\n",
       "       [        nan,  8.71318269],\n",
       "       [ 8.43372431,  3.7054202 ],\n",
       "       [ 9.46845452,         nan],\n",
       "       [ 8.43776602,         nan],\n",
       "       [ 8.37776135,  7.17742684],\n",
       "       [ 6.07468904,         nan],\n",
       "       [ 7.57519658,  8.90858885],\n",
       "       [ 9.97825561,  6.10493864],\n",
       "       [        nan,         nan],\n",
       "       [        nan,         nan],\n",
       "       [        nan,  8.66803884],\n",
       "       [        nan,         nan],\n",
       "       [ 8.94264081,         nan],\n",
       "       [        nan,         nan],\n",
       "       [ 8.29124526,         nan],\n",
       "       [ 9.9105053 ,  8.74939594],\n",
       "       [10.16247111,         nan],\n",
       "       [ 8.42400606, 10.17358181],\n",
       "       [        nan,         nan],\n",
       "       [        nan,         nan]])"
      ]
     },
     "execution_count": 9,
     "metadata": {},
     "output_type": "execute_result"
    }
   ],
   "source": [
    "from sklearn.decomposition import PCA\n",
    "pca = PCA(n_components = 2)\n",
    "pca = pca.fit(df_work10)\n",
    "work10_pca = pca.transform(df_work10)\n",
    "display(work10_pca)\n",
    "work10log_pca = np.log(work10_pca)\n",
    "work10log_pca"
   ]
  },
  {
   "cell_type": "code",
   "execution_count": 13,
   "metadata": {},
   "outputs": [
    {
     "data": {
      "text/plain": [
       "[<matplotlib.lines.Line2D at 0x2a0b736c748>]"
      ]
     },
     "execution_count": 13,
     "metadata": {},
     "output_type": "execute_result"
    },
    {
     "data": {
      "image/png": "[encoded data removed]",
      "text/plain": [
       "<Figure size 432x288 with 1 Axes>"
      ]
     },
     "metadata": {},
     "output_type": "display_data"
    }
   ],
   "source": [
    "sse_lis=[]\n",
    "for kn in range(1,31):\n",
    "    src_kmeans = ScratchKMeans(kn,5, max_iter=5)\n",
    "    src_kmeans.fit(work10_pca)\n",
    "    sse_lis.append(src_kmeans.sse)\n",
    "X=list(range(1,31))\n",
    "plt.plot(X,sse_lis)"
   ]
  },
  {
   "cell_type": "markdown",
   "metadata": {},
   "source": [
    "余り増やしすぎると判別しずらいので5個にクラスタリングする。"
   ]
  },
  {
   "cell_type": "markdown",
   "metadata": {},
   "source": [
    "### 【問題11】既知のグループとの比較 \n",
    "RegionとChannelはK-meansに使用しなかったが、これらは既知のグループです。クラスタとこれら既知のグループがどう違うかを確認し、説明してください。まずはそれぞれを可視化してください。"
   ]
  },
  {
   "cell_type": "code",
   "execution_count": 50,
   "metadata": {},
   "outputs": [
    {
     "data": {
      "text/plain": [
       "array([-11528.01560076,  -6048.97824912])"
      ]
     },
     "metadata": {},
     "output_type": "display_data"
    },
    {
     "data": {
      "text/plain": [
       "array([-11528.01560076,  -6048.97824912])"
      ]
     },
     "metadata": {},
     "output_type": "display_data"
    },
    {
     "data": {
      "text/plain": [
       "array([-11528.01560076,  -6048.97824912])"
      ]
     },
     "metadata": {},
     "output_type": "display_data"
    },
    {
     "data": {
      "text/plain": [
       "array([-11528.01560076,  -6048.97824912])"
      ]
     },
     "metadata": {},
     "output_type": "display_data"
    },
    {
     "data": {
      "text/plain": [
       "array([-11528.01560076,  -6048.97824912])"
      ]
     },
     "metadata": {},
     "output_type": "display_data"
    },
    {
     "data": {
      "text/plain": [
       "array([  872.16023064, -7603.88819592])"
      ]
     },
     "metadata": {},
     "output_type": "display_data"
    },
    {
     "data": {
      "text/plain": [
       "array([  872.16023064, -7603.88819592])"
      ]
     },
     "metadata": {},
     "output_type": "display_data"
    },
    {
     "data": {
      "text/plain": [
       "array([  872.16023064, -7603.88819592])"
      ]
     },
     "metadata": {},
     "output_type": "display_data"
    },
    {
     "data": {
      "text/plain": [
       "array([  872.16023064, -7603.88819592])"
      ]
     },
     "metadata": {},
     "output_type": "display_data"
    },
    {
     "data": {
      "text/plain": [
       "array([  872.16023064, -7603.88819592])"
      ]
     },
     "metadata": {},
     "output_type": "display_data"
    },
    {
     "data": {
      "text/plain": [
       "array([-2997.72589991, -6093.8792994 ])"
      ]
     },
     "metadata": {},
     "output_type": "display_data"
    },
    {
     "data": {
      "text/plain": [
       "array([-2997.72589991, -6093.8792994 ])"
      ]
     },
     "metadata": {},
     "output_type": "display_data"
    },
    {
     "data": {
      "text/plain": [
       "array([-2997.72589991, -6093.8792994 ])"
      ]
     },
     "metadata": {},
     "output_type": "display_data"
    },
    {
     "data": {
      "text/plain": [
       "array([-2997.72589991, -6093.8792994 ])"
      ]
     },
     "metadata": {},
     "output_type": "display_data"
    },
    {
     "data": {
      "text/plain": [
       "array([-2997.72589991, -6093.8792994 ])"
      ]
     },
     "metadata": {},
     "output_type": "display_data"
    },
    {
     "data": {
      "text/plain": [
       "array([-7974.82898455,  5711.21892518])"
      ]
     },
     "metadata": {},
     "output_type": "display_data"
    },
    {
     "data": {
      "text/plain": [
       "array([-7974.82898455,  5711.21892518])"
      ]
     },
     "metadata": {},
     "output_type": "display_data"
    },
    {
     "data": {
      "text/plain": [
       "array([-7974.82898455,  5711.21892518])"
      ]
     },
     "metadata": {},
     "output_type": "display_data"
    },
    {
     "data": {
      "text/plain": [
       "array([-7974.82898455,  5711.21892518])"
      ]
     },
     "metadata": {},
     "output_type": "display_data"
    },
    {
     "data": {
      "text/plain": [
       "array([-7974.82898455,  5711.21892518])"
      ]
     },
     "metadata": {},
     "output_type": "display_data"
    },
    {
     "data": {
      "text/plain": [
       "array([-9813.27672807, -4162.8315362 ])"
      ]
     },
     "metadata": {},
     "output_type": "display_data"
    },
    {
     "data": {
      "text/plain": [
       "array([-9813.27672807, -4162.8315362 ])"
      ]
     },
     "metadata": {},
     "output_type": "display_data"
    },
    {
     "data": {
      "text/plain": [
       "array([-9813.27672807, -4162.8315362 ])"
      ]
     },
     "metadata": {},
     "output_type": "display_data"
    },
    {
     "data": {
      "text/plain": [
       "array([-9813.27672807, -4162.8315362 ])"
      ]
     },
     "metadata": {},
     "output_type": "display_data"
    },
    {
     "data": {
      "text/plain": [
       "array([-9813.27672807, -4162.8315362 ])"
      ]
     },
     "metadata": {},
     "output_type": "display_data"
    },
    {
     "data": {
      "text/plain": [
       "array([-10720.74518167,  -1955.60871934])"
      ]
     },
     "metadata": {},
     "output_type": "display_data"
    },
    {
     "data": {
      "text/plain": [
       "array([-10720.74518167,  -1955.60871934])"
      ]
     },
     "metadata": {},
     "output_type": "display_data"
    },
    {
     "data": {
      "text/plain": [
       "array([-10720.74518167,  -1955.60871934])"
      ]
     },
     "metadata": {},
     "output_type": "display_data"
    },
    {
     "data": {
      "text/plain": [
       "array([-10720.74518167,  -1955.60871934])"
      ]
     },
     "metadata": {},
     "output_type": "display_data"
    },
    {
     "data": {
      "text/plain": [
       "array([-10720.74518167,  -1955.60871934])"
      ]
     },
     "metadata": {},
     "output_type": "display_data"
    },
    {
     "data": {
      "text/plain": [
       "array([10657.99873116, -2159.72581518])"
      ]
     },
     "metadata": {},
     "output_type": "display_data"
    },
    {
     "data": {
      "text/plain": [
       "array([10657.99873116, -2159.72581518])"
      ]
     },
     "metadata": {},
     "output_type": "display_data"
    },
    {
     "data": {
      "text/plain": [
       "array([10657.99873116, -2159.72581518])"
      ]
     },
     "metadata": {},
     "output_type": "display_data"
    },
    {
     "data": {
      "text/plain": [
       "array([10657.99873116, -2159.72581518])"
      ]
     },
     "metadata": {},
     "output_type": "display_data"
    },
    {
     "data": {
      "text/plain": [
       "array([10657.99873116, -2159.72581518])"
      ]
     },
     "metadata": {},
     "output_type": "display_data"
    },
    {
     "data": {
      "text/plain": [
       "array([-8671.8581703 , -6389.21962086])"
      ]
     },
     "metadata": {},
     "output_type": "display_data"
    },
    {
     "data": {
      "text/plain": [
       "array([-8671.8581703 , -6389.21962086])"
      ]
     },
     "metadata": {},
     "output_type": "display_data"
    },
    {
     "data": {
      "text/plain": [
       "array([-8671.8581703 , -6389.21962086])"
      ]
     },
     "metadata": {},
     "output_type": "display_data"
    },
    {
     "data": {
      "text/plain": [
       "array([-8671.8581703 , -6389.21962086])"
      ]
     },
     "metadata": {},
     "output_type": "display_data"
    },
    {
     "data": {
      "text/plain": [
       "array([-8671.8581703 , -6389.21962086])"
      ]
     },
     "metadata": {},
     "output_type": "display_data"
    },
    {
     "data": {
      "text/plain": [
       "array([19940.20205019,  4591.28647966])"
      ]
     },
     "metadata": {},
     "output_type": "display_data"
    },
    {
     "data": {
      "text/plain": [
       "array([19940.20205019,  4591.28647966])"
      ]
     },
     "metadata": {},
     "output_type": "display_data"
    },
    {
     "data": {
      "text/plain": [
       "array([19940.20205019,  4591.28647966])"
      ]
     },
     "metadata": {},
     "output_type": "display_data"
    },
    {
     "data": {
      "text/plain": [
       "array([19940.20205019,  4591.28647966])"
      ]
     },
     "metadata": {},
     "output_type": "display_data"
    },
    {
     "data": {
      "text/plain": [
       "array([19940.20205019,  4591.28647966])"
      ]
     },
     "metadata": {},
     "output_type": "display_data"
    },
    {
     "data": {
      "text/plain": [
       "array([ 64420.95895419, -10008.46159859])"
      ]
     },
     "metadata": {},
     "output_type": "display_data"
    },
    {
     "data": {
      "text/plain": [
       "array([ 64420.95895419, -10008.46159859])"
      ]
     },
     "metadata": {},
     "output_type": "display_data"
    },
    {
     "data": {
      "text/plain": [
       "array([ 64420.95895419, -10008.46159859])"
      ]
     },
     "metadata": {},
     "output_type": "display_data"
    },
    {
     "data": {
      "text/plain": [
       "array([ 64420.95895419, -10008.46159859])"
      ]
     },
     "metadata": {},
     "output_type": "display_data"
    },
    {
     "data": {
      "text/plain": [
       "array([ 64420.95895419, -10008.46159859])"
      ]
     },
     "metadata": {},
     "output_type": "display_data"
    },
    {
     "data": {
      "text/plain": [
       "array([-4760.83262461, -7071.54644051])"
      ]
     },
     "metadata": {},
     "output_type": "display_data"
    },
    {
     "data": {
      "text/plain": [
       "array([-4760.83262461, -7071.54644051])"
      ]
     },
     "metadata": {},
     "output_type": "display_data"
    },
    {
     "data": {
      "text/plain": [
       "array([-4760.83262461, -7071.54644051])"
      ]
     },
     "metadata": {},
     "output_type": "display_data"
    },
    {
     "data": {
      "text/plain": [
       "array([-4760.83262461, -7071.54644051])"
      ]
     },
     "metadata": {},
     "output_type": "display_data"
    },
    {
     "data": {
      "text/plain": [
       "array([-4760.83262461, -7071.54644051])"
      ]
     },
     "metadata": {},
     "output_type": "display_data"
    },
    {
     "data": {
      "text/plain": [
       "array([ 29261.09304195, -10083.33750249])"
      ]
     },
     "metadata": {},
     "output_type": "display_data"
    },
    {
     "data": {
      "text/plain": [
       "array([ 29261.09304195, -10083.33750249])"
      ]
     },
     "metadata": {},
     "output_type": "display_data"
    },
    {
     "data": {
      "text/plain": [
       "array([ 29261.09304195, -10083.33750249])"
      ]
     },
     "metadata": {},
     "output_type": "display_data"
    },
    {
     "data": {
      "text/plain": [
       "array([ 29261.09304195, -10083.33750249])"
      ]
     },
     "metadata": {},
     "output_type": "display_data"
    },
    {
     "data": {
      "text/plain": [
       "array([ 29261.09304195, -10083.33750249])"
      ]
     },
     "metadata": {},
     "output_type": "display_data"
    },
    {
     "data": {
      "text/plain": [
       "array([-4426.80497937,  4042.45150884])"
      ]
     },
     "metadata": {},
     "output_type": "display_data"
    },
    {
     "data": {
      "text/plain": [
       "array([-4426.80497937,  4042.45150884])"
      ]
     },
     "metadata": {},
     "output_type": "display_data"
    },
    {
     "data": {
      "text/plain": [
       "array([-4426.80497937,  4042.45150884])"
      ]
     },
     "metadata": {},
     "output_type": "display_data"
    },
    {
     "data": {
      "text/plain": [
       "array([-4426.80497937,  4042.45150884])"
      ]
     },
     "metadata": {},
     "output_type": "display_data"
    },
    {
     "data": {
      "text/plain": [
       "array([-4426.80497937,  4042.45150884])"
      ]
     },
     "metadata": {},
     "output_type": "display_data"
    },
    {
     "data": {
      "text/plain": [
       "array([-1047.2638729 ,  7831.46004599])"
      ]
     },
     "metadata": {},
     "output_type": "display_data"
    },
    {
     "data": {
      "text/plain": [
       "array([-1047.2638729 ,  7831.46004599])"
      ]
     },
     "metadata": {},
     "output_type": "display_data"
    },
    {
     "data": {
      "text/plain": [
       "array([-1047.2638729 ,  7831.46004599])"
      ]
     },
     "metadata": {},
     "output_type": "display_data"
    },
    {
     "data": {
      "text/plain": [
       "array([-1047.2638729 ,  7831.46004599])"
      ]
     },
     "metadata": {},
     "output_type": "display_data"
    },
    {
     "data": {
      "text/plain": [
       "array([-1047.2638729 ,  7831.46004599])"
      ]
     },
     "metadata": {},
     "output_type": "display_data"
    },
    {
     "data": {
      "text/plain": [
       "array([19941.08823588, 26312.65460167])"
      ]
     },
     "metadata": {},
     "output_type": "display_data"
    },
    {
     "data": {
      "text/plain": [
       "array([19941.08823588, 26312.65460167])"
      ]
     },
     "metadata": {},
     "output_type": "display_data"
    },
    {
     "data": {
      "text/plain": [
       "array([19941.08823588, 26312.65460167])"
      ]
     },
     "metadata": {},
     "output_type": "display_data"
    },
    {
     "data": {
      "text/plain": [
       "array([19941.08823588, 26312.65460167])"
      ]
     },
     "metadata": {},
     "output_type": "display_data"
    },
    {
     "data": {
      "text/plain": [
       "array([19941.08823588, 26312.65460167])"
      ]
     },
     "metadata": {},
     "output_type": "display_data"
    },
    {
     "data": {
      "text/plain": [
       "array([ 5008.66283947, -7252.02733275])"
      ]
     },
     "metadata": {},
     "output_type": "display_data"
    },
    {
     "data": {
      "text/plain": [
       "array([ 5008.66283947, -7252.02733275])"
      ]
     },
     "metadata": {},
     "output_type": "display_data"
    },
    {
     "data": {
      "text/plain": [
       "array([ 5008.66283947, -7252.02733275])"
      ]
     },
     "metadata": {},
     "output_type": "display_data"
    },
    {
     "data": {
      "text/plain": [
       "array([ 5008.66283947, -7252.02733275])"
      ]
     },
     "metadata": {},
     "output_type": "display_data"
    },
    {
     "data": {
      "text/plain": [
       "array([ 5008.66283947, -7252.02733275])"
      ]
     },
     "metadata": {},
     "output_type": "display_data"
    },
    {
     "data": {
      "text/plain": [
       "array([-2968.63906247, -7158.86853589])"
      ]
     },
     "metadata": {},
     "output_type": "display_data"
    },
    {
     "data": {
      "text/plain": [
       "array([-2968.63906247, -7158.86853589])"
      ]
     },
     "metadata": {},
     "output_type": "display_data"
    },
    {
     "data": {
      "text/plain": [
       "array([-2968.63906247, -7158.86853589])"
      ]
     },
     "metadata": {},
     "output_type": "display_data"
    },
    {
     "data": {
      "text/plain": [
       "array([-2968.63906247, -7158.86853589])"
      ]
     },
     "metadata": {},
     "output_type": "display_data"
    },
    {
     "data": {
      "text/plain": [
       "array([-2968.63906247, -7158.86853589])"
      ]
     },
     "metadata": {},
     "output_type": "display_data"
    },
    {
     "data": {
      "text/plain": [
       "array([19299.26568358, -6936.81067607])"
      ]
     },
     "metadata": {},
     "output_type": "display_data"
    },
    {
     "data": {
      "text/plain": [
       "array([19299.26568358, -6936.81067607])"
      ]
     },
     "metadata": {},
     "output_type": "display_data"
    },
    {
     "data": {
      "text/plain": [
       "array([19299.26568358, -6936.81067607])"
      ]
     },
     "metadata": {},
     "output_type": "display_data"
    },
    {
     "data": {
      "text/plain": [
       "array([19299.26568358, -6936.81067607])"
      ]
     },
     "metadata": {},
     "output_type": "display_data"
    },
    {
     "data": {
      "text/plain": [
       "array([19299.26568358, -6936.81067607])"
      ]
     },
     "metadata": {},
     "output_type": "display_data"
    },
    {
     "data": {
      "text/plain": [
       "array([9396.69557902, 5913.15703681])"
      ]
     },
     "metadata": {},
     "output_type": "display_data"
    },
    {
     "data": {
      "text/plain": [
       "array([9396.69557902, 5913.15703681])"
      ]
     },
     "metadata": {},
     "output_type": "display_data"
    },
    {
     "data": {
      "text/plain": [
       "array([9396.69557902, 5913.15703681])"
      ]
     },
     "metadata": {},
     "output_type": "display_data"
    },
    {
     "data": {
      "text/plain": [
       "array([9396.69557902, 5913.15703681])"
      ]
     },
     "metadata": {},
     "output_type": "display_data"
    },
    {
     "data": {
      "text/plain": [
       "array([9396.69557902, 5913.15703681])"
      ]
     },
     "metadata": {},
     "output_type": "display_data"
    },
    {
     "data": {
      "text/plain": [
       "array([-6712.09539718, -2205.90915598])"
      ]
     },
     "metadata": {},
     "output_type": "display_data"
    },
    {
     "data": {
      "text/plain": [
       "array([-6712.09539718, -2205.90915598])"
      ]
     },
     "metadata": {},
     "output_type": "display_data"
    },
    {
     "data": {
      "text/plain": [
       "array([-6712.09539718, -2205.90915598])"
      ]
     },
     "metadata": {},
     "output_type": "display_data"
    },
    {
     "data": {
      "text/plain": [
       "array([-6712.09539718, -2205.90915598])"
      ]
     },
     "metadata": {},
     "output_type": "display_data"
    },
    {
     "data": {
      "text/plain": [
       "array([-6712.09539718, -2205.90915598])"
      ]
     },
     "metadata": {},
     "output_type": "display_data"
    },
    {
     "data": {
      "text/plain": [
       "array([-12806.88169252,  -1097.5700685 ])"
      ]
     },
     "metadata": {},
     "output_type": "display_data"
    },
    {
     "data": {
      "text/plain": [
       "array([-12806.88169252,  -1097.5700685 ])"
      ]
     },
     "metadata": {},
     "output_type": "display_data"
    },
    {
     "data": {
      "text/plain": [
       "array([-12806.88169252,  -1097.5700685 ])"
      ]
     },
     "metadata": {},
     "output_type": "display_data"
    },
    {
     "data": {
      "text/plain": [
       "array([-12806.88169252,  -1097.5700685 ])"
      ]
     },
     "metadata": {},
     "output_type": "display_data"
    },
    {
     "data": {
      "text/plain": [
       "array([-12806.88169252,  -1097.5700685 ])"
      ]
     },
     "metadata": {},
     "output_type": "display_data"
    },
    {
     "data": {
      "text/plain": [
       "array([ 8061.35614324, -7976.99061785])"
      ]
     },
     "metadata": {},
     "output_type": "display_data"
    },
    {
     "data": {
      "text/plain": [
       "array([ 8061.35614324, -7976.99061785])"
      ]
     },
     "metadata": {},
     "output_type": "display_data"
    },
    {
     "data": {
      "text/plain": [
       "array([ 8061.35614324, -7976.99061785])"
      ]
     },
     "metadata": {},
     "output_type": "display_data"
    },
    {
     "data": {
      "text/plain": [
       "array([ 8061.35614324, -7976.99061785])"
      ]
     },
     "metadata": {},
     "output_type": "display_data"
    },
    {
     "data": {
      "text/plain": [
       "array([ 8061.35614324, -7976.99061785])"
      ]
     },
     "metadata": {},
     "output_type": "display_data"
    },
    {
     "data": {
      "text/plain": [
       "array([-4823.63435407, 13480.55920489])"
      ]
     },
     "metadata": {},
     "output_type": "display_data"
    },
    {
     "data": {
      "text/plain": [
       "array([-4823.63435407, 13480.55920489])"
      ]
     },
     "metadata": {},
     "output_type": "display_data"
    },
    {
     "data": {
      "text/plain": [
       "array([-4823.63435407, 13480.55920489])"
      ]
     },
     "metadata": {},
     "output_type": "display_data"
    },
    {
     "data": {
      "text/plain": [
       "array([-4823.63435407, 13480.55920489])"
      ]
     },
     "metadata": {},
     "output_type": "display_data"
    },
    {
     "data": {
      "text/plain": [
       "array([-4823.63435407, 13480.55920489])"
      ]
     },
     "metadata": {},
     "output_type": "display_data"
    },
    {
     "data": {
      "text/plain": [
       "array([-10589.52355862,   6584.21594303])"
      ]
     },
     "metadata": {},
     "output_type": "display_data"
    },
    {
     "data": {
      "text/plain": [
       "array([-10589.52355862,   6584.21594303])"
      ]
     },
     "metadata": {},
     "output_type": "display_data"
    },
    {
     "data": {
      "text/plain": [
       "array([-10589.52355862,   6584.21594303])"
      ]
     },
     "metadata": {},
     "output_type": "display_data"
    },
    {
     "data": {
      "text/plain": [
       "array([-10589.52355862,   6584.21594303])"
      ]
     },
     "metadata": {},
     "output_type": "display_data"
    },
    {
     "data": {
      "text/plain": [
       "array([-10589.52355862,   6584.21594303])"
      ]
     },
     "metadata": {},
     "output_type": "display_data"
    },
    {
     "data": {
      "text/plain": [
       "array([ 650.02212207, 1585.51909007])"
      ]
     },
     "metadata": {},
     "output_type": "display_data"
    },
    {
     "data": {
      "text/plain": [
       "array([ 650.02212207, 1585.51909007])"
      ]
     },
     "metadata": {},
     "output_type": "display_data"
    },
    {
     "data": {
      "text/plain": [
       "array([ 650.02212207, 1585.51909007])"
      ]
     },
     "metadata": {},
     "output_type": "display_data"
    },
    {
     "data": {
      "text/plain": [
       "array([ 650.02212207, 1585.51909007])"
      ]
     },
     "metadata": {},
     "output_type": "display_data"
    },
    {
     "data": {
      "text/plain": [
       "array([ 650.02212207, 1585.51909007])"
      ]
     },
     "metadata": {},
     "output_type": "display_data"
    },
    {
     "data": {
      "text/plain": [
       "array([  990.34643689, -6279.80599663])"
      ]
     },
     "metadata": {},
     "output_type": "display_data"
    },
    {
     "data": {
      "text/plain": [
       "array([  990.34643689, -6279.80599663])"
      ]
     },
     "metadata": {},
     "output_type": "display_data"
    },
    {
     "data": {
      "text/plain": [
       "array([  990.34643689, -6279.80599663])"
      ]
     },
     "metadata": {},
     "output_type": "display_data"
    },
    {
     "data": {
      "text/plain": [
       "array([  990.34643689, -6279.80599663])"
      ]
     },
     "metadata": {},
     "output_type": "display_data"
    },
    {
     "data": {
      "text/plain": [
       "array([  990.34643689, -6279.80599663])"
      ]
     },
     "metadata": {},
     "output_type": "display_data"
    },
    {
     "data": {
      "text/plain": [
       "array([-6354.52090267, -7165.28451204])"
      ]
     },
     "metadata": {},
     "output_type": "display_data"
    },
    {
     "data": {
      "text/plain": [
       "array([-6354.52090267, -7165.28451204])"
      ]
     },
     "metadata": {},
     "output_type": "display_data"
    },
    {
     "data": {
      "text/plain": [
       "array([-6354.52090267, -7165.28451204])"
      ]
     },
     "metadata": {},
     "output_type": "display_data"
    },
    {
     "data": {
      "text/plain": [
       "array([-6354.52090267, -7165.28451204])"
      ]
     },
     "metadata": {},
     "output_type": "display_data"
    },
    {
     "data": {
      "text/plain": [
       "array([-6354.52090267, -7165.28451204])"
      ]
     },
     "metadata": {},
     "output_type": "display_data"
    },
    {
     "data": {
      "text/plain": [
       "array([-7244.86683863, -7347.72325407])"
      ]
     },
     "metadata": {},
     "output_type": "display_data"
    },
    {
     "data": {
      "text/plain": [
       "array([-7244.86683863, -7347.72325407])"
      ]
     },
     "metadata": {},
     "output_type": "display_data"
    },
    {
     "data": {
      "text/plain": [
       "array([-7244.86683863, -7347.72325407])"
      ]
     },
     "metadata": {},
     "output_type": "display_data"
    },
    {
     "data": {
      "text/plain": [
       "array([-7244.86683863, -7347.72325407])"
      ]
     },
     "metadata": {},
     "output_type": "display_data"
    },
    {
     "data": {
      "text/plain": [
       "array([-7244.86683863, -7347.72325407])"
      ]
     },
     "metadata": {},
     "output_type": "display_data"
    },
    {
     "data": {
      "text/plain": [
       "array([-12878.3461169 ,  -8262.52235413])"
      ]
     },
     "metadata": {},
     "output_type": "display_data"
    },
    {
     "data": {
      "text/plain": [
       "array([-12878.3461169 ,  -8262.52235413])"
      ]
     },
     "metadata": {},
     "output_type": "display_data"
    },
    {
     "data": {
      "text/plain": [
       "array([-12878.3461169 ,  -8262.52235413])"
      ]
     },
     "metadata": {},
     "output_type": "display_data"
    },
    {
     "data": {
      "text/plain": [
       "array([-12878.3461169 ,  -8262.52235413])"
      ]
     },
     "metadata": {},
     "output_type": "display_data"
    },
    {
     "data": {
      "text/plain": [
       "array([-12878.3461169 ,  -8262.52235413])"
      ]
     },
     "metadata": {},
     "output_type": "display_data"
    },
    {
     "data": {
      "text/plain": [
       "array([41411.31630669, 65788.29788588])"
      ]
     },
     "metadata": {},
     "output_type": "display_data"
    },
    {
     "data": {
      "text/plain": [
       "array([41411.31630669, 65788.29788588])"
      ]
     },
     "metadata": {},
     "output_type": "display_data"
    },
    {
     "data": {
      "text/plain": [
       "array([41411.31630669, 65788.29788588])"
      ]
     },
     "metadata": {},
     "output_type": "display_data"
    },
    {
     "data": {
      "text/plain": [
       "array([41411.31630669, 65788.29788588])"
      ]
     },
     "metadata": {},
     "output_type": "display_data"
    },
    {
     "data": {
      "text/plain": [
       "array([41411.31630669, 65788.29788588])"
      ]
     },
     "metadata": {},
     "output_type": "display_data"
    }
   ],
   "source": [
    "#print([i * 2 for i in [0, 1, 2]])\n",
    "#print([i for i in [0, 1, 2] if i != 1])\n",
    "arys = [\"ary1\", \"ary2\", \"ary3\", \"ary4\", \"ary5\"]\n",
    "combinations = [(key, val, ary)\n",
    "                for key, val in src_kmeans.x_class.items()\n",
    "                for ary in arys]\n",
    "\n",
    "for key, val, ary in combinations:\n",
    "    ary=np.array([val[0],val[1]])\n",
    "    display(val[0])"
   ]
  },
  {
   "cell_type": "code",
   "execution_count": null,
   "metadata": {},
   "outputs": [],
   "source": []
  }
 ],
 "metadata": {
  "kernelspec": {
   "display_name": "Python 3",
   "language": "python",
   "name": "python3"
  },
  "language_info": {
   "codemirror_mode": {
    "name": "ipython",
    "version": 3
   },
   "file_extension": ".py",
   "mimetype": "text/x-python",
   "name": "python",
   "nbconvert_exporter": "python",
   "pygments_lexer": "ipython3",
   "version": "3.6.5"
  }
 },
 "nbformat": 4,
 "nbformat_minor": 2
}
