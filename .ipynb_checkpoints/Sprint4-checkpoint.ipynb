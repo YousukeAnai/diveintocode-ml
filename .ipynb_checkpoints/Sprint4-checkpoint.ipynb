{
 "cells": [
  {
   "cell_type": "markdown",
   "metadata": {},
   "source": [
    "### 【問題1】仮定関数 \n",
    "ロジスティック回帰の仮定関数のメソッドをScratchLogisticRegressionクラスに実装してください。\n",
    "ロジスティック回帰の仮定関数は、線形回帰の仮定関数を シグモイド関数 に通したものです。シグモイド関数は以下の式で表されます。"
   ]
  },
  {
   "cell_type": "code",
   "execution_count": 1,
   "metadata": {},
   "outputs": [],
   "source": [
    "import numpy as np\n",
    "import pandas as pd\n",
    "import matplotlib.pyplot as plt\n",
    "import math\n",
    "from sklearn.model_selection import train_test_split\n",
    "from sklearn.preprocessing import StandardScaler"
   ]
  },
  {
   "cell_type": "code",
   "execution_count": 2,
   "metadata": {},
   "outputs": [],
   "source": [
    "class ScratchLogisticRegression():\n",
    "    \"\"\"\n",
    "    ロジスティック回帰のスクラッチ実装\n",
    "    Parameters\n",
    "    ----------\n",
    "    num_iter : int\n",
    "      イテレーション数\n",
    "    lr : float\n",
    "      学習率\n",
    "    no_bias : bool\n",
    "      バイアス項を入れない場合はTrue\n",
    "    verbose : bool\n",
    "      学習過程を出力する場合はTrue\n",
    "\n",
    "    Attributes\n",
    "    ----------\n",
    "    self.coef_ : 次の形のndarray, shape (n_features,)\n",
    "      パラメータ\n",
    "    self.loss : 次の形のndarray, shape (self.iter,)\n",
    "      学習用データに対する損失の記録\n",
    "    self.val_loss : 次の形のndarray, shape (self.iter,)\n",
    "      検証用データに対する損失の記録\n",
    "    \"\"\"\n",
    "    def __init__(self, num_iter, lr, λ, bias, verbose):\n",
    "        # ハイパーパラメータを属性として記録\n",
    "        self.iter = num_iter\n",
    "        self.lr = lr\n",
    "        self.λ = λ\n",
    "        self.bias = bias\n",
    "        self.verbose = verbose\n",
    "        # 損失を記録する配列を用意\n",
    "        self.loss = np.zeros(self.iter)\n",
    "        self.val_loss = np.zeros(self.iter)\n",
    "        self.loss_list = np.array([])\n",
    "        self.loss_val_list = np.array([])\n",
    "\n",
    "    def fit(self, X, y, X_val=None, y_val=None):\n",
    "        \"\"\"\n",
    "        ロジスティック回帰を学習する。検証用データが入力された場合はそれに対する損失と精度もイテレーションごとに計算する。\n",
    "        Parameters\n",
    "        ----------\n",
    "        X : 次の形のndarray, shape (n_samples, n_features)\n",
    "            学習用データの特徴量\n",
    "        y : 次の形のndarray, shape (n_samples, )\n",
    "            学習用データの正解値\n",
    "        X_val : 次の形のndarray, shape (n_samples, n_features)\n",
    "            検証用データの特徴量\n",
    "        y_val : 次の形のndarray, shape (n_samples, )\n",
    "            検証用データの正解値\n",
    "        \"\"\"\n",
    "        self.X_ = np.concatenate([np.ones((X.shape[0],1)), X], axis=1)\n",
    "        self.y_ = y\n",
    "        self.val = 0\n",
    "        self.Θj = np.random.rand(1, self.X_.shape[1])\n",
    "        for iter_n in range(self.iter):\n",
    "            self._hypothesis_function()\n",
    "            self._gradient_descent()\n",
    "            self._cost_function()\n",
    "            \n",
    "#            if self.verbose:\n",
    "                #verboseをTrueにした際は学習過程を出力\n",
    "#                print(\"ーー{}回目y~ーーーー\\n{}\".format(iter_n+1, self.h))\n",
    "#                print(\"ーー{}回目Θーーーー\\n{}\".format(iter_n+2, self.Θj))\n",
    "        \n",
    "        if (X_val is not None and y_val is not None):\n",
    "            self.val = 1\n",
    "            self.X_val_ = np.concatenate([np.ones((X_val.shape[0],1)), X_val], axis=1)\n",
    "            self.y_val_ = y_val\n",
    "            self.Θj_val = np.random.rand(1, self.X_val_.shape[1])\n",
    "\n",
    "            for iter_n in range(self.iter):\n",
    "                self._hypothesis_function_val()\n",
    "                self._gradient_descent_val()\n",
    "                self._cost_function_val()\n",
    "\n",
    "#                if self.verbose:\n",
    "#                    print(\"ーー{}回目y~ーーーー\\n{}\".format(iter_n+1, self.h_val))\n",
    "#                    print(\"ーー{}回目Θーーーー\\n{}\".format(iter_n+2, self.Θj_val))\n",
    "        \n",
    "    def _hypothesis_function(self):\n",
    "        \"\"\"\n",
    "        線形の仮定関数を計算する\n",
    "        Parameters\n",
    "        ----------\n",
    "        h : 次の形のndarray, shape (n_samples, )\n",
    "          学習用データの線形回帰仮定関数の計算結果\n",
    "        Attributes\n",
    "        ----------\n",
    "        self.δ : 次の形のndarray, shape (n_samples, )\n",
    "          学習用データのロジスティック回帰仮定関数の計算結果\n",
    "        \"\"\"\n",
    "        h = np.dot(self.X_, self.Θj.T)\n",
    "        self.δ = 1 / (1 + math.e**(-h))\n",
    "    def _hypothesis_function_val(self):\n",
    "        \"\"\"\n",
    "        検証データ用の_linear_hypothesis()     \n",
    "        Attributes\n",
    "        ----------\n",
    "        self.h_val : 次の形のndarray, shape (n_samples, )\n",
    "          検証用データのロジスティック回帰仮定関数の計算結果\n",
    "        \"\"\"\n",
    "        h_val = np.dot(self.X_val_, self.Θj_val.T)\n",
    "        self.δ_val = 1 / (1 + math.e**(-h_val))\n",
    "\n",
    "    def _cost_function(self):\n",
    "        \"\"\"\n",
    "        線形の目的関数により、損失を算出する。(学習データ専用)\n",
    "        \"\"\"\n",
    "        self.loss = (np.dot(-self.y_.T, np.log(self.δ)) - (1- np.dot(self.y_.T, np.log(1-self.δ)))) / self.X_.shape[0] \\\n",
    "                     + (self.λ/(2*self.X_.shape[0])) * np.dot(self.Θj, self.Θj.T)\n",
    "        self.loss_list = np.append(self.loss_list, self.loss)\n",
    "\n",
    "    def _cost_function_val(self):\n",
    "        \"\"\"\n",
    "        線形の目的関数により、損失を算出する。(検証データ専用)\n",
    "        \"\"\"\n",
    "        self.loss_val = (np.dot(-self.y_val_.T, np.log(self.δ_val)) - (1- np.dot(self.y_val_.T, np.log(1-self.δ_val)))) / self.X_.shape[0] \\\n",
    "                     +(self.λ/(2*self.X_val_.shape[0])) * np.dot(self.Θj_val, self.Θj_val.T)       \n",
    "#        self.loss_val_list.append(self.loss_val)\n",
    "        self.loss_val_list = np.append(self.loss_val_list, self.loss_val)\n",
    "    def _gradient_descent(self):\n",
    "        \"\"\"\n",
    "        再急降下法により、次回イテレーションのΘを算出する。(学習データ専用)\n",
    "        Parameters\n",
    "        ----------\n",
    "        Δj : 次の形のndarray, shape (n_samples, )\n",
    "            現状のΘにおける勾配\n",
    "        Attributes\n",
    "        ----------\n",
    "        self.Θj : 次の形のndarray, shape (n_samples, )\n",
    "          次回イテレーションのΘ\n",
    "        \"\"\"\n",
    "        Δj =  np.dot((self.δ - self.y_).T, self.X_) + (self.λ/self.X_.shape[0])*self.Θj\n",
    "        Δj[0] = Δj[0] - (self.λ/self.X_.shape[0])*self.Θj[0]\n",
    "        self.Θj -= self.lr*Δj\n",
    "    def _gradient_descent_val(self):\n",
    "        \"\"\"\n",
    "        再急降下法により、次回イテレーションのΘを算出する。(検証データ専用)\n",
    "        Parameters\n",
    "        ----------\n",
    "        Δj_val : 次の形のndarray, shape (n_samples, )\n",
    "            現状のΘにおける勾配\n",
    "        Attributes\n",
    "        ----------\n",
    "        self.Θj_val : 次の形のndarray, shape (n_samples, )\n",
    "          次回イテレーションのΘ\n",
    "        \"\"\"\n",
    "        Δj_val =  np.dot((self.δ_val - self.y_val_).T , self.X_val_) + (self.λ/self.X_val_.shape[0])*self.Θj_val\n",
    "        Δj_val[0] -= (self.λ/self.X_val_.shape[0])*self.Θj_val[0]\n",
    "        self.Θj_val -= self.lr*Δj_val\n",
    "\n",
    "    def graph_cost_func(self):\n",
    "        \"\"\"\n",
    "        損失の推移をグラフ化する。    \n",
    "        検証用データが入力されていれば、学習用と検証用の損失推移を重ねてグラフ化\n",
    "        \"\"\"\n",
    "        plt.title(\"Num_of_Iteration vs Loss\")\n",
    "        plt.xlabel(\"Num_of_Iteration\")\n",
    "        plt.ylabel(\"Loss\")\n",
    "        plt.plot(range(1,self.iter+1), self.loss_list, color=\"b\", marker=\"o\", label=\"train_loss\")\n",
    "        if self.val is 1:\n",
    "            plt.plot(range(1,self.iter+1), self.loss_val_list, color=\"g\", marker=\"+\", label=\"val_loss\")\n",
    "        plt.grid()\n",
    "        plt.legend()\n",
    "        plt.show()\n",
    "        \n",
    "    def predict(self, X):\n",
    "        \"\"\"\n",
    "        ロジスティック回帰を使いラベルを推定する。\n",
    "        Parameters\n",
    "        ----------\n",
    "        X : 次の形のndarray, shape (n_samples, n_features)\n",
    "            サンプル\n",
    "            \n",
    "        Returns\n",
    "        -------\n",
    "            次の形のndarray, shape (n_samples, 1)\n",
    "            ロジスティック回帰による推定結果\n",
    "        \"\"\"\n",
    "        self.X_ = np.concatenate([np.ones((X.shape[0],1)), X], axis=1)\n",
    "        h = np.dot(self.X_, self.Θj.T)\n",
    "        self.δ = 1 / (1 + math.e**(-h))\n",
    "        self.δ += 1\n",
    "        self.result = np.round(self.δ, decimals=0)-1 \n",
    "\n",
    "        return self.result\n",
    "\n",
    "    def predict_proba(self, X):\n",
    "        \"\"\"\n",
    "        ロジスティック回帰を使い確率を推定する。\n",
    "        Parameters\n",
    "        ----------\n",
    "        X : 次の形のndarray, shape (n_samples, n_features)\n",
    "            サンプル\n",
    "\n",
    "        Returns\n",
    "        -------\n",
    "            次の形のndarray, shape (n_samples, 1)\n",
    "            ロジスティック回帰による推定結果\n",
    "        \"\"\"\n",
    "        self.X_ = np.concatenate([np.ones((X.shape[0],1)), X], axis=1)\n",
    "        h = np.dot(self.X_, self.Θj.T)\n",
    "        self.δ = 1 / (1 + math.e**(-h))\n",
    "        return self.δ"
   ]
  },
  {
   "cell_type": "code",
   "execution_count": 3,
   "metadata": {},
   "outputs": [
    {
     "name": "stderr",
     "output_type": "stream",
     "text": [
      "C:\\Users\\anai\\Anaconda3\\lib\\site-packages\\sklearn\\utils\\validation.py:475: DataConversionWarning: Data with input dtype int32 was converted to float64 by StandardScaler.\n",
      "  warnings.warn(msg, DataConversionWarning)\n"
     ]
    }
   ],
   "source": [
    "scr_logistic_reg = ScratchLogisticRegression(1, 0.1, 1, False, True)\n",
    "X = np.arange(10).reshape(5,2)\n",
    "y = np.array([[9], [18], [27], [36], [45]])\n",
    "\n",
    "std = StandardScaler()\n",
    "X_std = std.fit_transform(X)\n",
    "\n",
    "scr_logistic_reg.fit(X_std, y)"
   ]
  },
  {
   "cell_type": "code",
   "execution_count": 4,
   "metadata": {},
   "outputs": [
    {
     "name": "stderr",
     "output_type": "stream",
     "text": [
      "C:\\Users\\anai\\Anaconda3\\lib\\site-packages\\sklearn\\utils\\validation.py:475: DataConversionWarning: Data with input dtype int32 was converted to float64 by StandardScaler.\n",
      "  warnings.warn(msg, DataConversionWarning)\n"
     ]
    },
    {
     "data": {
      "text/plain": [
       "array([[0.1244076 ],\n",
       "       [0.27977189],\n",
       "       [0.51503313],\n",
       "       [0.74381541],\n",
       "       [0.88811589]])"
      ]
     },
     "metadata": {},
     "output_type": "display_data"
    },
    {
     "data": {
      "text/plain": [
       "array([[ 9],\n",
       "       [18],\n",
       "       [27],\n",
       "       [36],\n",
       "       [45]])"
      ]
     },
     "metadata": {},
     "output_type": "display_data"
    },
    {
     "data": {
      "text/plain": [
       "array([[ 1.        , -1.41421356, -1.41421356],\n",
       "       [ 1.        , -0.70710678, -0.70710678],\n",
       "       [ 1.        ,  0.        ,  0.        ],\n",
       "       [ 1.        ,  0.70710678,  0.70710678],\n",
       "       [ 1.        ,  1.41421356,  1.41421356]])"
      ]
     },
     "metadata": {},
     "output_type": "display_data"
    },
    {
     "data": {
      "text/plain": [
       "array([[13.30503625,  6.95479345,  6.91383045]])"
      ]
     },
     "metadata": {},
     "output_type": "display_data"
    }
   ],
   "source": [
    "scr_logistic_reg = ScratchLogisticRegression(1, 0.1, 1, False, True)\n",
    "X = np.arange(10).reshape(5,2)\n",
    "y = np.array([[9], [18], [27], [36], [45]])\n",
    "\n",
    "std = StandardScaler()\n",
    "X_std = std.fit_transform(X)\n",
    "\n",
    "scr_logistic_reg.fit(X_std, y)\n",
    "display(scr_logistic_reg.δ)\n",
    "display(scr_logistic_reg.y_)\n",
    "display(scr_logistic_reg.X_)\n",
    "display(scr_logistic_reg.Θj)"
   ]
  },
  {
   "cell_type": "markdown",
   "metadata": {},
   "source": [
    "### 【問題2】最急降下法 \n",
    "最急降下法により学習させる実装を行なってください。以下の式で表されるパラメータの更新式のメソッド_gradient_descentを追加し、fit\n",
    "メソッドから呼び出すようにしてください。"
   ]
  },
  {
   "cell_type": "code",
   "execution_count": 5,
   "metadata": {},
   "outputs": [
    {
     "data": {
      "text/plain": [
       "array([[13.30503625,  6.95479345,  6.91383045]])"
      ]
     },
     "execution_count": 5,
     "metadata": {},
     "output_type": "execute_result"
    }
   ],
   "source": [
    "scr_logistic_reg.Θj"
   ]
  },
  {
   "cell_type": "markdown",
   "metadata": {},
   "source": [
    "### 【問題3】推定 \n",
    "推定する仕組みを実装してください。ScratchLogisticRegressionクラスの雛形に含まれるpredictメソッドとpredict_probaメソッドに書き加えてください。\n",
    "仮定関数 $h_\\theta(x)$ の出力がpredict_probaの返り値、さらにその値に閾値を設けて1と0のラベルとしたものがpredictの返り値となります。"
   ]
  },
  {
   "cell_type": "code",
   "execution_count": 6,
   "metadata": {},
   "outputs": [
    {
     "name": "stdout",
     "output_type": "stream",
     "text": [
      "ーーpredictーーーー\n",
      " [[0.]\n",
      " [1.]\n",
      " [1.]\n",
      " [1.]\n",
      " [1.]]\n",
      "ーーpredict_probaーー\n",
      " [[0.00181807]\n",
      " [0.9706433 ]\n",
      " [0.99999833]\n",
      " [1.        ]\n",
      " [1.        ]]\n"
     ]
    }
   ],
   "source": [
    "\n",
    "predict_y = scr_logistic_reg.predict(X_std)\n",
    "pred_proba_y = scr_logistic_reg.predict_proba(X_std)\n",
    "print(\"ーーpredictーーーー\\n\",format(predict_y))\n",
    "print(\"ーーpredict_probaーー\\n\",format(pred_proba_y))\n",
    "#print(\"ーーyーーーー\\n\",format(y))"
   ]
  },
  {
   "cell_type": "code",
   "execution_count": 7,
   "metadata": {},
   "outputs": [
    {
     "data": {
      "text/plain": [
       "array([[0.],\n",
       "       [1.],\n",
       "       [1.],\n",
       "       [1.],\n",
       "       [0.]])"
      ]
     },
     "execution_count": 7,
     "metadata": {},
     "output_type": "execute_result"
    }
   ],
   "source": [
    "δ = np.array([[0.4], [0.5], [0.6], [0.51], [0.49]])\n",
    "δ += 1\n",
    "result = np.round(δ, decimals=0)-1 \n",
    "result"
   ]
  },
  {
   "cell_type": "markdown",
   "metadata": {},
   "source": [
    "### 【問題4】目的関数 \n",
    "以下の数式で表されるロジスティック回帰の 目的関数（損失関数） を実装してください。\n",
    "そして、これをself.loss, self.val_lossに記録するようにしてください。\n",
    "なお、この数式には正則化項が含まれています。\n",
    "＊数式が見切れる場合、DIVERを全画面にして御覧ください。"
   ]
  },
  {
   "cell_type": "code",
   "execution_count": 8,
   "metadata": {},
   "outputs": [
    {
     "name": "stderr",
     "output_type": "stream",
     "text": [
      "C:\\Users\\anai\\Anaconda3\\lib\\site-packages\\sklearn\\utils\\validation.py:475: DataConversionWarning: Data with input dtype int32 was converted to float64 by StandardScaler.\n",
      "  warnings.warn(msg, DataConversionWarning)\n"
     ]
    },
    {
     "data": {
      "text/plain": [
       "array([[10.70428996]])"
      ]
     },
     "metadata": {},
     "output_type": "display_data"
    },
    {
     "data": {
      "text/plain": [
       "array([[7.0317071]])"
      ]
     },
     "metadata": {},
     "output_type": "display_data"
    }
   ],
   "source": [
    "X = np.arange(10).reshape(5,2)\n",
    "y = np.array([[9], [18], [27], [36], [45]])\n",
    "X_val = np.arange(10).reshape(5,2)\n",
    "y_val = np.array([[9], [18], [27], [36], [45]])\n",
    "\n",
    "std = StandardScaler()\n",
    "X_std = std.fit_transform(X)\n",
    "X_val_std = std.fit_transform(X_val)\n",
    "\n",
    "scr_logistic_reg.fit(X_std, y, X_val_std, y_val)\n",
    "display(scr_logistic_reg.loss)\n",
    "display(scr_logistic_reg.loss_val)"
   ]
  },
  {
   "cell_type": "markdown",
   "metadata": {},
   "source": [
    "### 【問題6】学習と推定 \n",
    "機械学習スクラッチ入門のSprintで用意したirisデータセットのvirgicolorとvirginicaの2値分類に対してスクラッチ実装の学習と推定を行なってください。\n",
    "scikit-learnによる実装と比べ、正しく動いているかを確認してください。\n",
    "AccuracyやPrecision、Recallなどの指標値はscikit-learnを使用してください。"
   ]
  },
  {
   "cell_type": "code",
   "execution_count": 9,
   "metadata": {},
   "outputs": [
    {
     "data": {
      "text/plain": [
       "(100, 4)"
      ]
     },
     "metadata": {},
     "output_type": "display_data"
    },
    {
     "data": {
      "text/html": [
       "<div>\n",
       "<style scoped>\n",
       "    .dataframe tbody tr th:only-of-type {\n",
       "        vertical-align: middle;\n",
       "    }\n",
       "\n",
       "    .dataframe tbody tr th {\n",
       "        vertical-align: top;\n",
       "    }\n",
       "\n",
       "    .dataframe thead th {\n",
       "        text-align: right;\n",
       "    }\n",
       "</style>\n",
       "<table border=\"1\" class=\"dataframe\">\n",
       "  <thead>\n",
       "    <tr style=\"text-align: right;\">\n",
       "      <th></th>\n",
       "      <th>target</th>\n",
       "    </tr>\n",
       "  </thead>\n",
       "  <tbody>\n",
       "    <tr>\n",
       "      <th>count</th>\n",
       "      <td>100.000000</td>\n",
       "    </tr>\n",
       "    <tr>\n",
       "      <th>mean</th>\n",
       "      <td>1.500000</td>\n",
       "    </tr>\n",
       "    <tr>\n",
       "      <th>std</th>\n",
       "      <td>0.502519</td>\n",
       "    </tr>\n",
       "    <tr>\n",
       "      <th>min</th>\n",
       "      <td>1.000000</td>\n",
       "    </tr>\n",
       "    <tr>\n",
       "      <th>25%</th>\n",
       "      <td>1.000000</td>\n",
       "    </tr>\n",
       "    <tr>\n",
       "      <th>50%</th>\n",
       "      <td>1.500000</td>\n",
       "    </tr>\n",
       "    <tr>\n",
       "      <th>75%</th>\n",
       "      <td>2.000000</td>\n",
       "    </tr>\n",
       "    <tr>\n",
       "      <th>max</th>\n",
       "      <td>2.000000</td>\n",
       "    </tr>\n",
       "  </tbody>\n",
       "</table>\n",
       "</div>"
      ],
      "text/plain": [
       "           target\n",
       "count  100.000000\n",
       "mean     1.500000\n",
       "std      0.502519\n",
       "min      1.000000\n",
       "25%      1.000000\n",
       "50%      1.500000\n",
       "75%      2.000000\n",
       "max      2.000000"
      ]
     },
     "metadata": {},
     "output_type": "display_data"
    },
    {
     "data": {
      "text/plain": [
       "1    50\n",
       "0    50\n",
       "Name: target, dtype: int64"
      ]
     },
     "execution_count": 9,
     "metadata": {},
     "output_type": "execute_result"
    }
   ],
   "source": [
    "from sklearn.datasets import load_iris\n",
    "iris = load_iris()\n",
    "X = pd.DataFrame(iris.data, columns=[\"sepal_length\",\"sepal_width\",\"petal_length\",\"petal_width\"])\n",
    "y = pd.DataFrame(iris.target, columns=[\"target\"])\n",
    "X = X.iloc[50:150,:]\n",
    "y = y.iloc[50:150,:]\n",
    "display(X.shape)\n",
    "display(y.describe())\n",
    "y=y-1\n",
    "y[\"target\"].value_counts(dropna=False)"
   ]
  },
  {
   "cell_type": "code",
   "execution_count": 10,
   "metadata": {},
   "outputs": [],
   "source": [
    "X_train, X_test, y_train, y_test = train_test_split(X, y, \n",
    "                                                    test_size=0.25, \n",
    "                                                    random_state=0)\n",
    "std = StandardScaler()\n",
    "X_train_std = std.fit_transform(X_train)\n",
    "X_test_std = std.fit_transform(X_test)"
   ]
  },
  {
   "cell_type": "code",
   "execution_count": 11,
   "metadata": {},
   "outputs": [
    {
     "name": "stdout",
     "output_type": "stream",
     "text": [
      "-----Scratch-----\n",
      "scr_accuracy_score：0.92\n",
      "scr_precision_score：0.857\n",
      "scr_recall_score：1\n",
      "scr_f1_score：0.923\n",
      "scr_auc_score：0.5\n",
      "-----scikit-learn-----\n",
      "SKL_accuracy_score：0.92\n",
      "SKL_precision_score：0.857\n",
      "SKL_recall_score：1\n",
      "SKL_f1_score：0.923\n",
      "SKL_auc_score：0.5\n"
     ]
    },
    {
     "name": "stderr",
     "output_type": "stream",
     "text": [
      "C:\\Users\\anai\\Anaconda3\\lib\\site-packages\\sklearn\\utils\\validation.py:578: DataConversionWarning: A column-vector y was passed when a 1d array was expected. Please change the shape of y to (n_samples, ), for example using ravel().\n",
      "  y = column_or_1d(y, warn=True)\n"
     ]
    }
   ],
   "source": [
    "from sklearn.linear_model import LogisticRegression\n",
    "from sklearn import metrics\n",
    "from sklearn.metrics import accuracy_score\n",
    "from sklearn.metrics import precision_score\n",
    "from sklearn.metrics import recall_score\n",
    "from sklearn.metrics import f1_score\n",
    "\n",
    "scr_logistic_reg = ScratchLogisticRegression(100, 0.01, 1, False, True)\n",
    "scr_logistic_reg.fit(X_train_std, y_train, X_test_std, y_test)\n",
    "\n",
    "scr_predict_y = scr_logistic_reg.predict(X_test_std)\n",
    "\n",
    "fpr, tpr, thresh = metrics.roc_curve(y_test, scr_logistic_reg.predict(X_test))\n",
    "print(\"-----Scratch-----\")\n",
    "print(\"scr_accuracy_score：{:.3g}\".format(accuracy_score(y_test, scr_logistic_reg.predict(X_test_std))))\n",
    "print(\"scr_precision_score：{:.3g}\".format(precision_score(y_test, scr_logistic_reg.predict(X_test_std))))\n",
    "print(\"scr_recall_score：{:.3g}\".format(recall_score(y_test, scr_logistic_reg.predict(X_test_std))))\n",
    "print(\"scr_f1_score：{:.3g}\".format(f1_score(y_test, scr_logistic_reg.predict(X_test_std))))\n",
    "print(\"scr_auc_score：{:.3g}\".format(metrics.auc(fpr, tpr)))\n",
    "\n",
    "SKL_logistic_reg = LogisticRegression(random_state=0).fit(X_train_std, y_train) \n",
    "\n",
    "fpr, tpr, thresh = metrics.roc_curve(y_test, SKL_logistic_reg.predict(X_test))\n",
    "print(\"-----scikit-learn-----\")\n",
    "print(\"SKL_accuracy_score：{:.3g}\".format(accuracy_score(y_test, SKL_logistic_reg.predict(X_test_std))))\n",
    "print(\"SKL_precision_score：{:.3g}\".format(precision_score(y_test, SKL_logistic_reg.predict(X_test_std))))\n",
    "print(\"SKL_recall_score：{:.3g}\".format(recall_score(y_test, SKL_logistic_reg.predict(X_test_std))))\n",
    "print(\"SKL_f1_score：{:.3g}\".format(f1_score(y_test, SKL_logistic_reg.predict(X_test_std))))\n",
    "print(\"SKL_auc_score：{:.3g}\".format(metrics.auc(fpr, tpr)))\n"
   ]
  },
  {
   "cell_type": "markdown",
   "metadata": {},
   "source": [
    "【問題7】学習曲線のプロット \n",
    "学習曲線を見て損失が適切に下がっているかどうか確認してください。"
   ]
  },
  {
   "cell_type": "code",
   "execution_count": 12,
   "metadata": {
    "scrolled": true
   },
   "outputs": [
    {
     "data": {
      "image/png": "[encoded data removed]",
      "text/plain": [
       "<Figure size 432x288 with 1 Axes>"
      ]
     },
     "metadata": {},
     "output_type": "display_data"
    }
   ],
   "source": [
    "scr_logistic_reg.graph_cost_func()"
   ]
  },
  {
   "cell_type": "markdown",
   "metadata": {},
   "source": [
    "### 【問題8】決定領域の可視化 \n",
    "決定領域を可視化してください。"
   ]
  },
  {
   "cell_type": "code",
   "execution_count": 13,
   "metadata": {},
   "outputs": [],
   "source": [
    "import matplotlib.pyplot as plt\n",
    "from matplotlib.colors import ListedColormap\n",
    "import matplotlib.patches as mpatches\n",
    "\n",
    "def decision_region(X, y, model, step=0.01, title='decision region', xlabel='xlabel', ylabel='ylabel', target_names=['versicolor', 'virginica']):\n",
    "    \"\"\"\n",
    "    2値分類を2次元の特徴量で学習したモデルの決定領域を描く。\n",
    "    背景の色が学習したモデルによる推定値から描画される。\n",
    "    散布図の点は訓練データまたは検証データである。\n",
    "\n",
    "    Parameters\n",
    "    ----------------\n",
    "    X : ndarray, shape(n_samples, 2)\n",
    "        特徴量\n",
    "    y : ndarray, shape(n_samples,)\n",
    "        ラベル\n",
    "    model : object\n",
    "        学習したモデルのインスタンスを入れる\n",
    "    step : float, (default : 0.1)\n",
    "        推定値を計算する間隔を設定する\n",
    "    title : str\n",
    "        グラフのタイトルの文章を与える\n",
    "    xlabel, ylabel : str\n",
    "        軸ラベルの文章を与える\n",
    "    target_names= : list of str\n",
    "        凡例の一覧を与える\n",
    "    \"\"\"\n",
    "    # setting\n",
    "    scatter_color = ['red', 'blue']\n",
    "    contourf_color = ['pink', 'skyblue']\n",
    "    n_class = 2\n",
    "\n",
    "    # pred\n",
    "    mesh_f0, mesh_f1  = np.meshgrid(np.arange(np.min(X[:,0])-0.5, np.max(X[:,0])+0.5, step), \n",
    "                                    np.arange(np.min(X[:,1])-0.5, np.max(X[:,1])+0.5, step))\n",
    "    mesh = np.c_[np.ravel(mesh_f0), np.ravel(mesh_f1)]\n",
    "    y_pred = model.predict(mesh).reshape(mesh_f0.shape)\n",
    "\n",
    "    # plot\n",
    "    plt.title(title)\n",
    "    plt.xlabel(xlabel)\n",
    "    plt.ylabel(ylabel)\n",
    "    plt.contourf(mesh_f0, mesh_f1, y_pred, n_class-1, cmap=ListedColormap(contourf_color))\n",
    "    plt.contour(mesh_f0, mesh_f1, y_pred, n_class-1, colors='y', linewidths=3, alpha=0.5)\n",
    "    for i, target in enumerate(set(y)):\n",
    "        plt.scatter(X[y==target][:, 0], X[y==target][:, 1], s=80, color=scatter_color[i], label=target_names[i], marker='o')\n",
    "    patches = [mpatches.Patch(color=scatter_color[i], label=target_names[i]) for i in range(n_class)]\n",
    "    plt.legend(handles=patches)\n",
    "    plt.legend()\n",
    "    plt.show()"
   ]
  },
  {
   "cell_type": "code",
   "execution_count": 14,
   "metadata": {},
   "outputs": [
    {
     "data": {
      "text/plain": [
       "(100, 2)"
      ]
     },
     "metadata": {},
     "output_type": "display_data"
    },
    {
     "data": {
      "text/plain": [
       "1    50\n",
       "0    50\n",
       "Name: target, dtype: int64"
      ]
     },
     "execution_count": 14,
     "metadata": {},
     "output_type": "execute_result"
    }
   ],
   "source": [
    "from sklearn.datasets import load_iris\n",
    "iris = load_iris()\n",
    "X = pd.DataFrame(iris.data, columns=[\"sepal_length\",\"sepal_width\",\"petal_length\",\"petal_width\"])\n",
    "y = pd.DataFrame(iris.target, columns=[\"target\"])\n",
    "\n",
    "X = X.iloc[50:150, [0,2]]\n",
    "y = y.iloc[50:150, :]\n",
    "display(X.shape)\n",
    "y=y-1\n",
    "y[\"target\"].value_counts(dropna=False)"
   ]
  },
  {
   "cell_type": "code",
   "execution_count": 15,
   "metadata": {},
   "outputs": [],
   "source": [
    "X_train, X_test, y_train, y_test = train_test_split(X, y, \n",
    "                                                    test_size=0.25, \n",
    "                                                    random_state=0)\n",
    "std = StandardScaler()\n",
    "X_train_std = std.fit_transform(X_train)\n",
    "X_test_std = std.fit_transform(X_test)"
   ]
  },
  {
   "cell_type": "code",
   "execution_count": 16,
   "metadata": {},
   "outputs": [
    {
     "name": "stdout",
     "output_type": "stream",
     "text": [
      "trainデータの分析結果可視化\n"
     ]
    },
    {
     "data": {
      "image/png": "[encoded data removed]",
      "text/plain": [
       "<Figure size 432x288 with 1 Axes>"
      ]
     },
     "metadata": {},
     "output_type": "display_data"
    }
   ],
   "source": [
    "scr_logistic_reg = ScratchLogisticRegression(100, 0.001, 1, False, True)\n",
    "scr_logistic_reg.fit(X_train_std, y_train)\n",
    "\n",
    "y_train =y_train.values\n",
    "y_train = y_train[:,0]\n",
    "print(\"trainデータの分析結果可視化\")\n",
    "decision_region(X_train_std, y_train,  scr_logistic_reg)\n",
    "#print(\"testデータの分析結果可視化\")\n",
    "#decision_region(X_test_std, y_test.values, scr_logistic_reg)"
   ]
  }
 ],
 "metadata": {
  "kernelspec": {
   "display_name": "Python 3",
   "language": "python",
   "name": "python3"
  },
  "language_info": {
   "codemirror_mode": {
    "name": "ipython",
    "version": 3
   },
   "file_extension": ".py",
   "mimetype": "text/x-python",
   "name": "python",
   "nbconvert_exporter": "python",
   "pygments_lexer": "ipython3",
   "version": "3.6.5"
  }
 },
 "nbformat": 4,
 "nbformat_minor": 2
}
