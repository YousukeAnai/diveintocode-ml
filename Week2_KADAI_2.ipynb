{
 "cells": [
  {
   "cell_type": "markdown",
   "metadata": {},
   "source": [
    "## Week2 授業課題2 富士下山問題"
   ]
  },
  {
   "cell_type": "markdown",
   "metadata": {},
   "source": [
    "### 【問題1】データの可視化\n",
    "Matplotlibを使い標高データを可視化してください。横軸に「その地点の番号」、縦軸に「標高」を設定すれば、富士山の断面図が描けます。"
   ]
  },
  {
   "cell_type": "code",
   "execution_count": 47,
   "metadata": {},
   "outputs": [],
   "source": [
    "import numpy as np\n",
    "import matplotlib.pyplot as plt"
   ]
  },
  {
   "cell_type": "code",
   "execution_count": 48,
   "metadata": {},
   "outputs": [],
   "source": [
    "csv_path = \"mtfuji_data.csv\" # ファイル名（パス）を指定する\n",
    "\n",
    "np.set_printoptions(suppress=True) # 指数表示の禁止を設定する\n",
    "fuji = np.loadtxt(csv_path, delimiter=\",\", skiprows=1)"
   ]
  },
  {
   "cell_type": "code",
   "execution_count": 49,
   "metadata": {},
   "outputs": [
    {
     "name": "stdout",
     "output_type": "stream",
     "text": [
      "[[   0.         35.134141  139.132082    0.          0.      ]\n",
      " [   1.         35.135826  139.129202    0.        322.      ]\n",
      " [   2.         35.13751   139.126322    0.        644.      ]\n",
      " [   3.         35.139194  139.123441    0.        966.      ]\n",
      " [   4.         35.140878  139.12056     0.       1288.      ]\n",
      " [   5.         35.142562  139.117679    0.       1611.      ]\n",
      " [   6.         35.144246  139.114799    6.62     1933.      ]\n",
      " [   7.         35.145929  139.111917    7.21     2255.      ]\n",
      " [   8.         35.147613  139.109036   12.2      2577.      ]\n",
      " [   9.         35.149297  139.106155   54.41     2899.      ]]\n"
     ]
    }
   ],
   "source": [
    "print(fuji[0:10])\n",
    "# 左から順番に「その地点の番号」「緯度」「経度」「標高」「地点0からの距離」となっています。\n",
    "# 標高と距離の単位はメートルです。300地点のデータです。"
   ]
  },
  {
   "cell_type": "code",
   "execution_count": 50,
   "metadata": {},
   "outputs": [
    {
     "data": {
      "image/png": "[encoded data removed]",
      "text/plain": [
       "<Figure size 432x288 with 1 Axes>"
      ]
     },
     "metadata": {},
     "output_type": "display_data"
    }
   ],
   "source": [
    "x = fuji[:, 0]\n",
    "y = fuji[:, -2]\n",
    "\n",
    "plt.title(\"Cross section of Mt.Fuji\")\n",
    "plt.xlabel(\"number of the point\")\n",
    "plt.ylabel(\"height\")\n",
    "plt.plot(x, y,)\n",
    "plt.show()\n"
   ]
  },
  {
   "cell_type": "markdown",
   "metadata": {},
   "source": [
    "### 【問題2】ある地点の勾配を計算する関数を作成\n",
    "「二次元配列と勾配問題」では各地点での勾配を最初に求めました。しかし、暗闇の富士山を想像すると、知ることができるのは今いる地点の勾配だけです。\n",
    "「今いる地点の番号」と「今いる隣の地点の番号（今いる地点の番号-1）」の関係による勾配を求める関数を作成してください。\n",
    "勾配は以下の式で求まりましたが、このデータでは「標高」がy、「その地点の番号」がxに相当します。"
   ]
  },
  {
   "cell_type": "code",
   "execution_count": 51,
   "metadata": {},
   "outputs": [
    {
     "name": "stdout",
     "output_type": "stream",
     "text": [
      "117.15\n"
     ]
    }
   ],
   "source": [
    "def func_gradient_calculation(_pos_now):\n",
    "    if _pos_now == 0:\n",
    "        return 0\n",
    "    _gradient_now = fuji[_pos_now, 3] - fuji[_pos_now-1, 3]\n",
    "    return _gradient_now\n",
    "\n",
    "pos_now = 10\n",
    "gradient_now = func_gradient_calculation(pos_now)\n",
    "print(gradient_now)"
   ]
  },
  {
   "cell_type": "markdown",
   "metadata": {},
   "source": [
    "### 【問題3】移動先の地点を計算する関数を作成\n",
    "今いる地点の勾配の情報を元に、次に移動先の地点を計算する関数を作成してください。\n",
    "\n",
    "数式で表すと 「移動先の地点 = 今いる地点 - α ×今いる地点の勾配」 となります。\n",
    "\n",
    "「今いる地点の勾配」は問題2で作成した関数の返り値を使用してください。\n",
    "α は0より大きい任意の値をとるハイパーパラメータです。\n",
    "機械学習の分野では学習率という名前で呼ばれます。\n",
    "この値によって下り方が変わります。ここでは例えば0.2に設定してください。\n",
    "\n",
    "実装上の注意\n",
    "\n",
    "上記式を計算すると移動先の地点には浮動小数点数が現れますが、\n",
    "今回勾配の情報を得るためには地点は整数で表す必要があります。\n",
    "そのため、四捨五入による変換を行ってください。また、取り柄ない値となった場合の処理が必要です。\n",
    "例えば移動先の地点が負になると、そのようなデータが存在しないため、次に勾配が得られなくなります。\n",
    "\n",
    "ハイパーパラメータとは\n",
    "\n",
    "機械学習手法において、その手法自身では最適化が行えない値のことです。\n",
    "値によって手法の挙動は変化し、学習がうまくいくかどうかに影響を与えるため、設定は慎重に行う必要があります。\n",
    "最も単純には人間が考えて設定することになりますが、ハイパーパラメータを機械的に決めるための手法も存在します。"
   ]
  },
  {
   "cell_type": "code",
   "execution_count": 85,
   "metadata": {},
   "outputs": [
    {
     "name": "stdout",
     "output_type": "stream",
     "text": [
      "102\n"
     ]
    }
   ],
   "source": [
    "def func_get_next_point(_pos_now, alpha=0.2):\n",
    "    \n",
    "    _pos_next = np.round(_pos_now - alpha * func_gradient_calculation(_pos_now)).astype(np.int)\n",
    "    if _pos_next > max(fuji[:, 0]) or _pos_next < min(fuji[:, 0]):\n",
    "        return \"移動先の地点は、リストの範囲外です\"\n",
    "    return _pos_next\n",
    "pos_now = 136\n",
    "pos = func_get_next_point(pos_now)\n",
    "print(pos)"
   ]
  },
  {
   "cell_type": "markdown",
   "metadata": {},
   "source": [
    "### 【問題4】山を下る関数を作成 \n",
    "山を下る関数を作成してください。\n",
    "最初の地点を受け取り、問題3の関数によって地点を更新していきます。\n",
    "移動毎の地点はリストなどに記録して、これを関数の返り値としてください。\n",
    "最初の「今いる地点」は富士山の頂上付近、136番の地点（標高3434.59[m]）とします。ここから山を下っていきましょう。\n",
    "\n",
    "実装上の注意\n",
    "問題3で四捨五入を行っているため、移動先の地点が今いる地点と同じ場合になることがあります。\n",
    "移動量が減ってきたということなので、その時点で山を下りきったと判断してください。実際の勾配降下法ではこのようなことは起きません。"
   ]
  },
  {
   "cell_type": "code",
   "execution_count": 99,
   "metadata": {},
   "outputs": [
    {
     "name": "stdout",
     "output_type": "stream",
     "text": [
      "[136 102  98  95  93  89  85  82  79  73  70  78  77  75]\n"
     ]
    }
   ],
   "source": [
    "def func_downhill(_pos_now, alpha=0.2):\n",
    "    _next_pos_ary = np.array([_pos_now])\n",
    "    _height_ary = np.array([fuji[_pos_now,3]])\n",
    "    \n",
    "    if type(func_get_next_point(pos_now))==str:\n",
    "        return \"移動先の地点は、リストの範囲外です\",\"移動先の地点は、リストの範囲外です\"\n",
    "    n=0\n",
    "    while func_get_next_point(_next_pos_ary[-1]) != _next_pos_ary[-1]  or n<10:\n",
    "        _next_pos_ary = np.append(_next_pos_ary, func_get_next_point(_next_pos_ary[-1]))\n",
    "        _height_ary = np.append(_height_ary, fuji[func_get_next_point(_next_pos_ary[-1]), 3])\n",
    "        n+=1\n",
    "    return _next_pos_ary, _height_ary\n",
    "\n",
    "pos_now = 136\n",
    "pos_ary, height_ary = func_downhill(pos_now)\n",
    "print(pos_ary)\n",
    "#print(height_ary)\n",
    "#func_downhill(pos_now)"
   ]
  },
  {
   "cell_type": "markdown",
   "metadata": {},
   "source": [
    "### 【問題5】下山過程の可視化 \n",
    "問題4における下山過程をMatplotlibを使いグラフで可視化してください。\n",
    "可視化例\n",
    "断面図の中に移動した地点を点で表示する\n",
    "繰り返し毎の標高や勾配を折れ線グラフにする"
   ]
  },
  {
   "cell_type": "code",
   "execution_count": 100,
   "metadata": {},
   "outputs": [
    {
     "data": {
      "image/png": "[encoded data removed]",
      "text/plain": [
       "<Figure size 432x288 with 1 Axes>"
      ]
     },
     "metadata": {},
     "output_type": "display_data"
    }
   ],
   "source": [
    "def func_graph(_x, _y, _label,\n",
    "               _x2, _y2, _label2,\n",
    "               _title, _xlabel, _ylabel):\n",
    "    plt.title(_title)\n",
    "    plt.xlabel(_xlabel)\n",
    "    plt.ylabel(_ylabel)\n",
    "    plt.plot(_x,_y,color=\"b\",label=_label)\n",
    "    plt.plot(_x2,_y2, marker=\"x\",color=\"r\",label=_label2)\n",
    "    plt.grid()\n",
    "    plt.legend()\n",
    "    plt.show()\n",
    "func_graph(x, y, \"MT.FUJI\",\n",
    "           pos_ary, height_ary, \"downhill\",\n",
    "           \"MT.FUJI DOWNHILL_POS vs HEIGHT\", \"POS\", \"HEIGHT [m]\")"
   ]
  },
  {
   "cell_type": "markdown",
   "metadata": {},
   "source": [
    "### 【問題6】初期値の変更 \n",
    "問題4では最初の「今いる地点」を136としましたが、これを他の全ての点で計算してください。\n",
    "そして、\n",
    "いくつかの初期値に対してどのような下山過程となるか、問題5のように可視化してください。\n",
    "\n",
    "機械学習においては 初期値 をどう設定するかが結果に影響を与えることが確認できます。\n",
    "初期値とは\n",
    "今回の例での最初の地点のような値を初期値と呼びます。これを変更すると結果が変化します。例えば136と142では富士山の異なるの斜面を下ることになります。"
   ]
  },
  {
   "cell_type": "code",
   "execution_count": 104,
   "metadata": {},
   "outputs": [
    {
     "name": "stdout",
     "output_type": "stream",
     "text": [
      "[0]\n",
      "[1]\n",
      "[2]\n",
      "[3]\n",
      "[4]\n",
      "[5]\n",
      "[6 5]\n",
      "[7]\n",
      "[8 7]\n",
      "[9 1]\n"
     ]
    },
    {
     "ename": "IndexError",
     "evalue": "only integers, slices (`:`), ellipsis (`...`), numpy.newaxis (`None`) and integer or boolean arrays are valid indices",
     "output_type": "error",
     "traceback": [
      "\u001b[1;31m---------------------------------------------------------------------------\u001b[0m",
      "\u001b[1;31mIndexError\u001b[0m                                Traceback (most recent call last)",
      "\u001b[1;32m<ipython-input-104-f30f9eec08d4>\u001b[0m in \u001b[0;36m<module>\u001b[1;34m()\u001b[0m\n\u001b[0;32m     13\u001b[0m \u001b[1;33m\u001b[0m\u001b[0m\n\u001b[0;32m     14\u001b[0m \u001b[1;32mfor\u001b[0m \u001b[0mpos\u001b[0m \u001b[1;32min\u001b[0m \u001b[0mrange\u001b[0m\u001b[1;33m(\u001b[0m\u001b[0mlen\u001b[0m\u001b[1;33m(\u001b[0m\u001b[0mfuji\u001b[0m\u001b[1;33m[\u001b[0m\u001b[1;33m:\u001b[0m\u001b[1;33m,\u001b[0m\u001b[1;36m0\u001b[0m\u001b[1;33m]\u001b[0m\u001b[1;33m)\u001b[0m\u001b[1;33m)\u001b[0m\u001b[1;33m:\u001b[0m\u001b[1;33m\u001b[0m\u001b[0m\n\u001b[1;32m---> 15\u001b[1;33m     \u001b[0mpos_ary\u001b[0m\u001b[1;33m,\u001b[0m \u001b[0mheight_ary\u001b[0m \u001b[1;33m=\u001b[0m \u001b[0mfunc_downhill\u001b[0m\u001b[1;33m(\u001b[0m\u001b[0mpos\u001b[0m\u001b[1;33m)\u001b[0m\u001b[1;33m\u001b[0m\u001b[0m\n\u001b[0m\u001b[0;32m     16\u001b[0m \u001b[1;31m#    if func_downhill(pos) == ('移動先の地点は、リストの範囲外です', '移動先の地点は、リストの範囲外です'):\u001b[0m\u001b[1;33m\u001b[0m\u001b[1;33m\u001b[0m\u001b[0m\n\u001b[0;32m     17\u001b[0m \u001b[1;31m#        print(\"移動先の地点は、リストの範囲外です\")\u001b[0m\u001b[1;33m\u001b[0m\u001b[1;33m\u001b[0m\u001b[0m\n",
      "\u001b[1;32m<ipython-input-104-f30f9eec08d4>\u001b[0m in \u001b[0;36mfunc_downhill\u001b[1;34m(_pos_now, alpha)\u001b[0m\n\u001b[0;32m      8\u001b[0m     \u001b[1;32mwhile\u001b[0m \u001b[0mfunc_get_next_point\u001b[0m\u001b[1;33m(\u001b[0m\u001b[0m_next_pos_ary\u001b[0m\u001b[1;33m[\u001b[0m\u001b[1;33m-\u001b[0m\u001b[1;36m1\u001b[0m\u001b[1;33m]\u001b[0m\u001b[1;33m)\u001b[0m \u001b[1;33m!=\u001b[0m \u001b[0m_next_pos_ary\u001b[0m\u001b[1;33m[\u001b[0m\u001b[1;33m-\u001b[0m\u001b[1;36m1\u001b[0m\u001b[1;33m]\u001b[0m\u001b[1;33m:\u001b[0m\u001b[1;31m#  or n<10:\u001b[0m\u001b[1;33m\u001b[0m\u001b[0m\n\u001b[0;32m      9\u001b[0m         \u001b[0m_next_pos_ary\u001b[0m \u001b[1;33m=\u001b[0m \u001b[0mnp\u001b[0m\u001b[1;33m.\u001b[0m\u001b[0mappend\u001b[0m\u001b[1;33m(\u001b[0m\u001b[0m_next_pos_ary\u001b[0m\u001b[1;33m,\u001b[0m \u001b[0mfunc_get_next_point\u001b[0m\u001b[1;33m(\u001b[0m\u001b[0m_next_pos_ary\u001b[0m\u001b[1;33m[\u001b[0m\u001b[1;33m-\u001b[0m\u001b[1;36m1\u001b[0m\u001b[1;33m]\u001b[0m\u001b[1;33m)\u001b[0m\u001b[1;33m)\u001b[0m\u001b[1;33m\u001b[0m\u001b[0m\n\u001b[1;32m---> 10\u001b[1;33m         \u001b[0m_height_ary\u001b[0m \u001b[1;33m=\u001b[0m \u001b[0mnp\u001b[0m\u001b[1;33m.\u001b[0m\u001b[0mappend\u001b[0m\u001b[1;33m(\u001b[0m\u001b[0m_height_ary\u001b[0m\u001b[1;33m,\u001b[0m \u001b[0mfuji\u001b[0m\u001b[1;33m[\u001b[0m\u001b[0mfunc_get_next_point\u001b[0m\u001b[1;33m(\u001b[0m\u001b[0m_next_pos_ary\u001b[0m\u001b[1;33m[\u001b[0m\u001b[1;33m-\u001b[0m\u001b[1;36m1\u001b[0m\u001b[1;33m]\u001b[0m\u001b[1;33m)\u001b[0m\u001b[1;33m,\u001b[0m \u001b[1;36m3\u001b[0m\u001b[1;33m]\u001b[0m\u001b[1;33m)\u001b[0m\u001b[1;33m\u001b[0m\u001b[0m\n\u001b[0m\u001b[0;32m     11\u001b[0m         \u001b[0mn\u001b[0m\u001b[1;33m+=\u001b[0m\u001b[1;36m1\u001b[0m\u001b[1;33m\u001b[0m\u001b[0m\n\u001b[0;32m     12\u001b[0m     \u001b[1;32mreturn\u001b[0m \u001b[0m_next_pos_ary\u001b[0m\u001b[1;33m,\u001b[0m \u001b[0m_height_ary\u001b[0m\u001b[1;33m\u001b[0m\u001b[0m\n",
      "\u001b[1;32m<ipython-input-85-fa6d1021e064>\u001b[0m in \u001b[0;36mfunc_get_next_point\u001b[1;34m(_pos_now, alpha)\u001b[0m\n\u001b[0;32m      1\u001b[0m \u001b[1;32mdef\u001b[0m \u001b[0mfunc_get_next_point\u001b[0m\u001b[1;33m(\u001b[0m\u001b[0m_pos_now\u001b[0m\u001b[1;33m,\u001b[0m \u001b[0malpha\u001b[0m\u001b[1;33m=\u001b[0m\u001b[1;36m0.2\u001b[0m\u001b[1;33m)\u001b[0m\u001b[1;33m:\u001b[0m\u001b[1;33m\u001b[0m\u001b[0m\n\u001b[0;32m      2\u001b[0m \u001b[1;33m\u001b[0m\u001b[0m\n\u001b[1;32m----> 3\u001b[1;33m     \u001b[0m_pos_next\u001b[0m \u001b[1;33m=\u001b[0m \u001b[0mnp\u001b[0m\u001b[1;33m.\u001b[0m\u001b[0mround\u001b[0m\u001b[1;33m(\u001b[0m\u001b[0m_pos_now\u001b[0m \u001b[1;33m-\u001b[0m \u001b[0malpha\u001b[0m \u001b[1;33m*\u001b[0m \u001b[0mfunc_gradient_calculation\u001b[0m\u001b[1;33m(\u001b[0m\u001b[0m_pos_now\u001b[0m\u001b[1;33m)\u001b[0m\u001b[1;33m)\u001b[0m\u001b[1;33m.\u001b[0m\u001b[0mastype\u001b[0m\u001b[1;33m(\u001b[0m\u001b[0mnp\u001b[0m\u001b[1;33m.\u001b[0m\u001b[0mint\u001b[0m\u001b[1;33m)\u001b[0m\u001b[1;33m\u001b[0m\u001b[0m\n\u001b[0m\u001b[0;32m      4\u001b[0m     \u001b[1;32mif\u001b[0m \u001b[0m_pos_next\u001b[0m \u001b[1;33m>\u001b[0m \u001b[0mmax\u001b[0m\u001b[1;33m(\u001b[0m\u001b[0mfuji\u001b[0m\u001b[1;33m[\u001b[0m\u001b[1;33m:\u001b[0m\u001b[1;33m,\u001b[0m \u001b[1;36m0\u001b[0m\u001b[1;33m]\u001b[0m\u001b[1;33m)\u001b[0m \u001b[1;32mor\u001b[0m \u001b[0m_pos_next\u001b[0m \u001b[1;33m<\u001b[0m \u001b[0mmin\u001b[0m\u001b[1;33m(\u001b[0m\u001b[0mfuji\u001b[0m\u001b[1;33m[\u001b[0m\u001b[1;33m:\u001b[0m\u001b[1;33m,\u001b[0m \u001b[1;36m0\u001b[0m\u001b[1;33m]\u001b[0m\u001b[1;33m)\u001b[0m\u001b[1;33m:\u001b[0m\u001b[1;33m\u001b[0m\u001b[0m\n\u001b[0;32m      5\u001b[0m         \u001b[1;32mreturn\u001b[0m \u001b[1;34m\"移動先の地点は、リストの範囲外です\"\u001b[0m\u001b[1;33m\u001b[0m\u001b[0m\n",
      "\u001b[1;32m<ipython-input-51-439a311de9ac>\u001b[0m in \u001b[0;36mfunc_gradient_calculation\u001b[1;34m(_pos_now)\u001b[0m\n\u001b[0;32m      2\u001b[0m     \u001b[1;32mif\u001b[0m \u001b[0m_pos_now\u001b[0m \u001b[1;33m==\u001b[0m \u001b[1;36m0\u001b[0m\u001b[1;33m:\u001b[0m\u001b[1;33m\u001b[0m\u001b[0m\n\u001b[0;32m      3\u001b[0m         \u001b[1;32mreturn\u001b[0m \u001b[1;36m0\u001b[0m\u001b[1;33m\u001b[0m\u001b[0m\n\u001b[1;32m----> 4\u001b[1;33m     \u001b[0m_gradient_now\u001b[0m \u001b[1;33m=\u001b[0m \u001b[0mfuji\u001b[0m\u001b[1;33m[\u001b[0m\u001b[0m_pos_now\u001b[0m\u001b[1;33m,\u001b[0m \u001b[1;36m3\u001b[0m\u001b[1;33m]\u001b[0m \u001b[1;33m-\u001b[0m \u001b[0mfuji\u001b[0m\u001b[1;33m[\u001b[0m\u001b[0m_pos_now\u001b[0m\u001b[1;33m-\u001b[0m\u001b[1;36m1\u001b[0m\u001b[1;33m,\u001b[0m \u001b[1;36m3\u001b[0m\u001b[1;33m]\u001b[0m\u001b[1;33m\u001b[0m\u001b[0m\n\u001b[0m\u001b[0;32m      5\u001b[0m     \u001b[1;32mreturn\u001b[0m \u001b[0m_gradient_now\u001b[0m\u001b[1;33m\u001b[0m\u001b[0m\n\u001b[0;32m      6\u001b[0m \u001b[1;33m\u001b[0m\u001b[0m\n",
      "\u001b[1;31mIndexError\u001b[0m: only integers, slices (`:`), ellipsis (`...`), numpy.newaxis (`None`) and integer or boolean arrays are valid indices"
     ]
    }
   ],
   "source": [
    "def func_downhill(_pos_now, alpha=0.2):\n",
    "    _next_pos_ary = np.array([_pos_now])\n",
    "    _height_ary = np.array([fuji[_pos_now,3]])\n",
    "    \n",
    "    if type(func_get_next_point(pos_now))==str:\n",
    "        return \"移動先の地点は、リストの範囲外です\",\"移動先の地点は、リストの範囲外です\"\n",
    "    n=0\n",
    "    while func_get_next_point(_next_pos_ary[-1]) != _next_pos_ary[-1]:#  or n<10:\n",
    "        _next_pos_ary = np.append(_next_pos_ary, func_get_next_point(_next_pos_ary[-1]))\n",
    "        _height_ary = np.append(_height_ary, fuji[func_get_next_point(_next_pos_ary[-1]), 3])\n",
    "        n+=1\n",
    "    return _next_pos_ary, _height_ary\n",
    "\n",
    "for pos in range(len(fuji[:,0])):\n",
    "    pos_ary, height_ary = func_downhill(pos)\n",
    "#    if func_downhill(pos) == ('移動先の地点は、リストの範囲外です', '移動先の地点は、リストの範囲外です'):\n",
    "#        print(\"移動先の地点は、リストの範囲外です\")\n",
    "    print(pos_ary)"
   ]
  },
  {
   "cell_type": "code",
   "execution_count": 102,
   "metadata": {},
   "outputs": [
    {
     "ename": "IndexError",
     "evalue": "only integers, slices (`:`), ellipsis (`...`), numpy.newaxis (`None`) and integer or boolean arrays are valid indices",
     "output_type": "error",
     "traceback": [
      "\u001b[1;31m---------------------------------------------------------------------------\u001b[0m",
      "\u001b[1;31mIndexError\u001b[0m                                Traceback (most recent call last)",
      "\u001b[1;32m<ipython-input-102-03c553527db1>\u001b[0m in \u001b[0;36m<module>\u001b[1;34m()\u001b[0m\n\u001b[0;32m      1\u001b[0m \u001b[0mpos\u001b[0m\u001b[1;33m=\u001b[0m\u001b[1;36m10\u001b[0m\u001b[1;33m\u001b[0m\u001b[0m\n\u001b[1;32m----> 2\u001b[1;33m \u001b[0mfunc_downhill\u001b[0m\u001b[1;33m(\u001b[0m\u001b[0mpos\u001b[0m\u001b[1;33m)\u001b[0m\u001b[1;33m\u001b[0m\u001b[0m\n\u001b[0m",
      "\u001b[1;32m<ipython-input-99-d696ac2edc6a>\u001b[0m in \u001b[0;36mfunc_downhill\u001b[1;34m(_pos_now, alpha)\u001b[0m\n\u001b[0;32m      8\u001b[0m     \u001b[1;32mwhile\u001b[0m \u001b[0mfunc_get_next_point\u001b[0m\u001b[1;33m(\u001b[0m\u001b[0m_next_pos_ary\u001b[0m\u001b[1;33m[\u001b[0m\u001b[1;33m-\u001b[0m\u001b[1;36m1\u001b[0m\u001b[1;33m]\u001b[0m\u001b[1;33m)\u001b[0m \u001b[1;33m!=\u001b[0m \u001b[0m_next_pos_ary\u001b[0m\u001b[1;33m[\u001b[0m\u001b[1;33m-\u001b[0m\u001b[1;36m1\u001b[0m\u001b[1;33m]\u001b[0m  \u001b[1;32mor\u001b[0m \u001b[0mn\u001b[0m\u001b[1;33m<\u001b[0m\u001b[1;36m10\u001b[0m\u001b[1;33m:\u001b[0m\u001b[1;33m\u001b[0m\u001b[0m\n\u001b[0;32m      9\u001b[0m         \u001b[0m_next_pos_ary\u001b[0m \u001b[1;33m=\u001b[0m \u001b[0mnp\u001b[0m\u001b[1;33m.\u001b[0m\u001b[0mappend\u001b[0m\u001b[1;33m(\u001b[0m\u001b[0m_next_pos_ary\u001b[0m\u001b[1;33m,\u001b[0m \u001b[0mfunc_get_next_point\u001b[0m\u001b[1;33m(\u001b[0m\u001b[0m_next_pos_ary\u001b[0m\u001b[1;33m[\u001b[0m\u001b[1;33m-\u001b[0m\u001b[1;36m1\u001b[0m\u001b[1;33m]\u001b[0m\u001b[1;33m)\u001b[0m\u001b[1;33m)\u001b[0m\u001b[1;33m\u001b[0m\u001b[0m\n\u001b[1;32m---> 10\u001b[1;33m         \u001b[0m_height_ary\u001b[0m \u001b[1;33m=\u001b[0m \u001b[0mnp\u001b[0m\u001b[1;33m.\u001b[0m\u001b[0mappend\u001b[0m\u001b[1;33m(\u001b[0m\u001b[0m_height_ary\u001b[0m\u001b[1;33m,\u001b[0m \u001b[0mfuji\u001b[0m\u001b[1;33m[\u001b[0m\u001b[0mfunc_get_next_point\u001b[0m\u001b[1;33m(\u001b[0m\u001b[0m_next_pos_ary\u001b[0m\u001b[1;33m[\u001b[0m\u001b[1;33m-\u001b[0m\u001b[1;36m1\u001b[0m\u001b[1;33m]\u001b[0m\u001b[1;33m)\u001b[0m\u001b[1;33m,\u001b[0m \u001b[1;36m3\u001b[0m\u001b[1;33m]\u001b[0m\u001b[1;33m)\u001b[0m\u001b[1;33m\u001b[0m\u001b[0m\n\u001b[0m\u001b[0;32m     11\u001b[0m         \u001b[0mn\u001b[0m\u001b[1;33m+=\u001b[0m\u001b[1;36m1\u001b[0m\u001b[1;33m\u001b[0m\u001b[0m\n\u001b[0;32m     12\u001b[0m     \u001b[1;32mreturn\u001b[0m \u001b[0m_next_pos_ary\u001b[0m\u001b[1;33m,\u001b[0m \u001b[0m_height_ary\u001b[0m\u001b[1;33m\u001b[0m\u001b[0m\n",
      "\u001b[1;32m<ipython-input-85-fa6d1021e064>\u001b[0m in \u001b[0;36mfunc_get_next_point\u001b[1;34m(_pos_now, alpha)\u001b[0m\n\u001b[0;32m      1\u001b[0m \u001b[1;32mdef\u001b[0m \u001b[0mfunc_get_next_point\u001b[0m\u001b[1;33m(\u001b[0m\u001b[0m_pos_now\u001b[0m\u001b[1;33m,\u001b[0m \u001b[0malpha\u001b[0m\u001b[1;33m=\u001b[0m\u001b[1;36m0.2\u001b[0m\u001b[1;33m)\u001b[0m\u001b[1;33m:\u001b[0m\u001b[1;33m\u001b[0m\u001b[0m\n\u001b[0;32m      2\u001b[0m \u001b[1;33m\u001b[0m\u001b[0m\n\u001b[1;32m----> 3\u001b[1;33m     \u001b[0m_pos_next\u001b[0m \u001b[1;33m=\u001b[0m \u001b[0mnp\u001b[0m\u001b[1;33m.\u001b[0m\u001b[0mround\u001b[0m\u001b[1;33m(\u001b[0m\u001b[0m_pos_now\u001b[0m \u001b[1;33m-\u001b[0m \u001b[0malpha\u001b[0m \u001b[1;33m*\u001b[0m \u001b[0mfunc_gradient_calculation\u001b[0m\u001b[1;33m(\u001b[0m\u001b[0m_pos_now\u001b[0m\u001b[1;33m)\u001b[0m\u001b[1;33m)\u001b[0m\u001b[1;33m.\u001b[0m\u001b[0mastype\u001b[0m\u001b[1;33m(\u001b[0m\u001b[0mnp\u001b[0m\u001b[1;33m.\u001b[0m\u001b[0mint\u001b[0m\u001b[1;33m)\u001b[0m\u001b[1;33m\u001b[0m\u001b[0m\n\u001b[0m\u001b[0;32m      4\u001b[0m     \u001b[1;32mif\u001b[0m \u001b[0m_pos_next\u001b[0m \u001b[1;33m>\u001b[0m \u001b[0mmax\u001b[0m\u001b[1;33m(\u001b[0m\u001b[0mfuji\u001b[0m\u001b[1;33m[\u001b[0m\u001b[1;33m:\u001b[0m\u001b[1;33m,\u001b[0m \u001b[1;36m0\u001b[0m\u001b[1;33m]\u001b[0m\u001b[1;33m)\u001b[0m \u001b[1;32mor\u001b[0m \u001b[0m_pos_next\u001b[0m \u001b[1;33m<\u001b[0m \u001b[0mmin\u001b[0m\u001b[1;33m(\u001b[0m\u001b[0mfuji\u001b[0m\u001b[1;33m[\u001b[0m\u001b[1;33m:\u001b[0m\u001b[1;33m,\u001b[0m \u001b[1;36m0\u001b[0m\u001b[1;33m]\u001b[0m\u001b[1;33m)\u001b[0m\u001b[1;33m:\u001b[0m\u001b[1;33m\u001b[0m\u001b[0m\n\u001b[0;32m      5\u001b[0m         \u001b[1;32mreturn\u001b[0m \u001b[1;34m\"移動先の地点は、リストの範囲外です\"\u001b[0m\u001b[1;33m\u001b[0m\u001b[0m\n",
      "\u001b[1;32m<ipython-input-51-439a311de9ac>\u001b[0m in \u001b[0;36mfunc_gradient_calculation\u001b[1;34m(_pos_now)\u001b[0m\n\u001b[0;32m      2\u001b[0m     \u001b[1;32mif\u001b[0m \u001b[0m_pos_now\u001b[0m \u001b[1;33m==\u001b[0m \u001b[1;36m0\u001b[0m\u001b[1;33m:\u001b[0m\u001b[1;33m\u001b[0m\u001b[0m\n\u001b[0;32m      3\u001b[0m         \u001b[1;32mreturn\u001b[0m \u001b[1;36m0\u001b[0m\u001b[1;33m\u001b[0m\u001b[0m\n\u001b[1;32m----> 4\u001b[1;33m     \u001b[0m_gradient_now\u001b[0m \u001b[1;33m=\u001b[0m \u001b[0mfuji\u001b[0m\u001b[1;33m[\u001b[0m\u001b[0m_pos_now\u001b[0m\u001b[1;33m,\u001b[0m \u001b[1;36m3\u001b[0m\u001b[1;33m]\u001b[0m \u001b[1;33m-\u001b[0m \u001b[0mfuji\u001b[0m\u001b[1;33m[\u001b[0m\u001b[0m_pos_now\u001b[0m\u001b[1;33m-\u001b[0m\u001b[1;36m1\u001b[0m\u001b[1;33m,\u001b[0m \u001b[1;36m3\u001b[0m\u001b[1;33m]\u001b[0m\u001b[1;33m\u001b[0m\u001b[0m\n\u001b[0m\u001b[0;32m      5\u001b[0m     \u001b[1;32mreturn\u001b[0m \u001b[0m_gradient_now\u001b[0m\u001b[1;33m\u001b[0m\u001b[0m\n\u001b[0;32m      6\u001b[0m \u001b[1;33m\u001b[0m\u001b[0m\n",
      "\u001b[1;31mIndexError\u001b[0m: only integers, slices (`:`), ellipsis (`...`), numpy.newaxis (`None`) and integer or boolean arrays are valid indices"
     ]
    }
   ],
   "source": [
    "pos=10\n",
    "func_downhill(pos)"
   ]
  },
  {
   "cell_type": "markdown",
   "metadata": {},
   "source": [
    "### 【問題7】（アドバンス問題）ハイパーパラメータの変更 \n",
    "ハイパーパラメータ αを変化させるとどのような下山過程となるか、問題5のように可視化してください。\n",
    "そして、ハイパーパラメータにより結果が大きく異なることを確認してください。"
   ]
  }
 ],
 "metadata": {
  "kernelspec": {
   "display_name": "Python 3",
   "language": "python",
   "name": "python3"
  },
  "language_info": {
   "codemirror_mode": {
    "name": "ipython",
    "version": 3
   },
   "file_extension": ".py",
   "mimetype": "text/x-python",
   "name": "python",
   "nbconvert_exporter": "python",
   "pygments_lexer": "ipython3",
   "version": "3.6.5"
  }
 },
 "nbformat": 4,
 "nbformat_minor": 2
}
