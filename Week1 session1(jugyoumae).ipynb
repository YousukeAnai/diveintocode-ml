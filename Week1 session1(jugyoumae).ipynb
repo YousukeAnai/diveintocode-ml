{
 "cells": [
  {
   "cell_type": "code",
   "execution_count": 29,
   "metadata": {},
   "outputs": [
    {
     "name": "stdout",
     "output_type": "stream",
     "text": [
      "厚さ： 703687441.77664メートル\n"
     ]
    }
   ],
   "source": [
    "####　問題１　####\n",
    "THICKNESS = 0.00008\n",
    "\n",
    "folded_thickness = THICKNESS*2**43\n",
    "\n",
    "print(\"厚さ： {}メートル\".format(folded_thickness))"
   ]
  },
  {
   "cell_type": "code",
   "execution_count": 14,
   "metadata": {},
   "outputs": [
    {
     "name": "stdout",
     "output_type": "stream",
     "text": [
      "厚さ： 703687441.77664メートル\n",
      "厚さ： 703687.44キロメートル\n",
      "厚さ： 70.37万キロメートル\n"
     ]
    }
   ],
   "source": [
    "####　問題２　####\n",
    "THICKNESS = 0.00008\n",
    "folded_thickness = THICKNESS\n",
    "for n in list(range(1,44)):\n",
    "    folded_thickness *= 2\n",
    "    \n",
    "print(\"厚さ： {}メートル\".format(folded_thickness))\n",
    "# メートルをキロメートルに変換して小数点以下2桁で表示する\n",
    "print(\"厚さ： {:.2f}キロメートル\".format(folded_thickness/1000))\n",
    "print(\"厚さ： {:.2f}万キロメートル\".format(folded_thickness/10000000))"
   ]
  },
  {
   "cell_type": "code",
   "execution_count": 15,
   "metadata": {},
   "outputs": [
    {
     "name": "stdout",
     "output_type": "stream",
     "text": [
      "厚さ： 703687441.77664メートル\n"
     ]
    }
   ],
   "source": [
    "####　問題３　####\n",
    "THICKNESS = 0.00008\n",
    "folded_thickness = THICKNESS\n",
    "for n in list(range(1,44)):\n",
    "    folded_thickness *= 2\n",
    "    \n",
    "print(\"厚さ： {}メートル\".format(folded_thickness))"
   ]
  },
  {
   "cell_type": "code",
   "execution_count": 64,
   "metadata": {},
   "outputs": [
    {
     "name": "stdout",
     "output_type": "stream",
     "text": [
      "厚さ： 703687441.77664メートル\n",
      "time : 0.0[s]\n"
     ]
    }
   ],
   "source": [
    "####　問題４－１　####\n",
    "import time\n",
    "start = time.time()\n",
    "#####\n",
    "THICKNESS = 0.00008\n",
    "folded_thickness = THICKNESS*2**43\n",
    "print(\"厚さ： {}メートル\".format(folded_thickness))\n",
    "#####\n",
    "elapsed_time = time.time() - start\n",
    "print(\"time : {}[s]\".format(elapsed_time))\n"
   ]
  },
  {
   "cell_type": "code",
   "execution_count": 17,
   "metadata": {},
   "outputs": [
    {
     "name": "stdout",
     "output_type": "stream",
     "text": [
      "厚さ： 703687441.77664メートル\n",
      "time : 0.0009946823120117188[s]\n"
     ]
    }
   ],
   "source": [
    "####　問題４－２　####\n",
    "import time\n",
    "start = time.time()\n",
    "#####\n",
    "THICKNESS = 0.00008\n",
    "folded_thickness = THICKNESS\n",
    "for n in list(range(1,44)):\n",
    "    folded_thickness *= 2\n",
    "    \n",
    "print(\"厚さ： {}メートル\".format(folded_thickness))\n",
    "\n",
    "#####\n",
    "elapsed_time = time.time() - start\n",
    "print(\"time : {}[s]\".format(elapsed_time))\n"
   ]
  },
  {
   "cell_type": "code",
   "execution_count": 45,
   "metadata": {},
   "outputs": [
    {
     "name": "stdout",
     "output_type": "stream",
     "text": [
      "0 , 8e-05\n",
      "1 , 0.00016\n",
      "2 , 0.00032\n",
      "3 , 0.00064\n",
      "4 , 0.00128\n",
      "5 , 0.00256\n",
      "6 , 0.00512\n",
      "7 , 0.01024\n",
      "8 , 0.02048\n",
      "9 , 0.04096\n",
      "10 , 0.08192\n",
      "11 , 0.16384\n",
      "12 , 0.32768\n",
      "13 , 0.65536\n",
      "14 , 1.31072\n",
      "15 , 2.62144\n",
      "16 , 5.24288\n",
      "17 , 10.48576\n",
      "18 , 20.97152\n",
      "19 , 41.94304\n",
      "20 , 83.88608\n",
      "21 , 167.77216\n",
      "22 , 335.54432\n",
      "23 , 671.08864\n",
      "24 , 1342.17728\n",
      "25 , 2684.35456\n",
      "26 , 5368.70912\n",
      "27 , 10737.41824\n",
      "28 , 21474.83648\n",
      "29 , 42949.67296\n",
      "30 , 85899.34592\n",
      "31 , 171798.69184\n",
      "32 , 343597.38368\n",
      "33 , 687194.76736\n",
      "34 , 1374389.53472\n",
      "35 , 2748779.06944\n",
      "36 , 5497558.13888\n",
      "37 , 10995116.27776\n",
      "38 , 21990232.55552\n",
      "39 , 43980465.11104\n",
      "40 , 87960930.22208\n",
      "41 , 175921860.44416\n",
      "42 , 351843720.88832\n",
      "43 , 703687441.77664\n",
      "個数　:　44個\n"
     ]
    }
   ],
   "source": [
    "####　問題５　####\n",
    "THICKNESS = 0.00008\n",
    "folded_thickness = THICKNESS\n",
    "result = []\n",
    "for x,n in enumerate(range(44)):\n",
    "    folded_thickness = THICKNESS*2**n\n",
    "    result.append(folded_thickness)\n",
    "    print(\"{} , {}\".format(x,result[-1]))\n",
    "print(\"個数　:　{}個\".format(len(result)))"
   ]
  },
  {
   "cell_type": "code",
   "execution_count": 50,
   "metadata": {
    "scrolled": true
   },
   "outputs": [
    {
     "data": {
      "image/png": "[encoded data removed]",
      "text/plain": [
       "<Figure size 432x288 with 1 Axes>"
      ]
     },
     "metadata": {},
     "output_type": "display_data"
    },
    {
     "name": "stdout",
     "output_type": "stream",
     "text": [
      "約35から急上昇している\n"
     ]
    }
   ],
   "source": [
    "####　問題６　####\n",
    "\"\"\"\n",
    "グラフを表示する。タイトルと軸ラベル名付き。\n",
    "\"\"\"\n",
    "import matplotlib.pyplot as plt\n",
    "import numpy as np\n",
    "\n",
    "%matplotlib inline\n",
    "Y = np.array(result)\n",
    "plt.title(\"thickness of folded paper\")\n",
    "plt.xlabel(\"number of folds\")\n",
    "plt.ylabel(\"thickness[m]\")\n",
    "plt.text(40,-0.5, \"rise from about 35\") # 指定した座標の上にテキストを追加\n",
    "\n",
    "plt.plot(result) # 「リスト名」のところにリストの変数名を入れる\n",
    "plt.show()\n",
    "print(\"約35から急上昇している\")"
   ]
  },
  {
   "cell_type": "code",
   "execution_count": 53,
   "metadata": {},
   "outputs": [
    {
     "data": {
      "image/png": "[encoded data removed]",
      "text/plain": [
       "<Figure size 432x288 with 1 Axes>"
      ]
     },
     "metadata": {},
     "output_type": "display_data"
    },
    {
     "name": "stdout",
     "output_type": "stream",
     "text": [
      "約35から急上昇している\n"
     ]
    }
   ],
   "source": [
    "####　問題７－１　枠線追加　####\n",
    "%matplotlib inline\n",
    "Y = np.array(result)\n",
    "plt.title(\"thickness of folded paper\")\n",
    "plt.xlabel(\"number of folds\")\n",
    "plt.ylabel(\"thickness[m]\")\n",
    "plt.text(40,-0.5, \"rise from about 35\") # 指定した座標の上にテキストを追加\n",
    "plt.grid()\n",
    "plt.plot(result) # 「リスト名」のところにリストの変数名を入れる\n",
    "plt.show()\n",
    "print(\"約35から急上昇している\")"
   ]
  },
  {
   "cell_type": "code",
   "execution_count": 61,
   "metadata": {},
   "outputs": [
    {
     "data": {
      "image/png": "[encoded data removed]",
      "text/plain": [
       "<Figure size 432x288 with 1 Axes>"
      ]
     },
     "metadata": {},
     "output_type": "display_data"
    },
    {
     "name": "stdout",
     "output_type": "stream",
     "text": [
      "約35から急上昇している\n"
     ]
    }
   ],
   "source": [
    "####　問題７－２　凡例追加　####\n",
    "%matplotlib inline\n",
    "X = list(range(44))\n",
    "Y = np.array(result)\n",
    "plt.title(\"thickness of folded paper\")\n",
    "plt.xlabel(\"number of folds\")\n",
    "plt.ylabel(\"thickness[m]\")\n",
    "plt.text(40,-0.5, \"rise from about 35\") # 指定した座標の上にテキストを追加\n",
    "#plt.scatter(x, result, label=\"result\")\n",
    "plt.grid()\n",
    "plt.plot(X,Y,\"r\",label=\"result\")\n",
    "plt.legend()\n",
    "plt.show()\n",
    "print(\"約35から急上昇している\")"
   ]
  },
  {
   "cell_type": "code",
   "execution_count": 63,
   "metadata": {},
   "outputs": [
    {
     "data": {
      "image/png": "[encoded data removed]",
      "text/plain": [
       "<Figure size 432x288 with 1 Axes>"
      ]
     },
     "metadata": {},
     "output_type": "display_data"
    },
    {
     "name": "stdout",
     "output_type": "stream",
     "text": [
      "約35から急上昇している\n"
     ]
    }
   ],
   "source": [
    "####　問題７－３　プロット追加　####\n",
    "%matplotlib inline\n",
    "X = list(range(44))\n",
    "Y = np.array(result)\n",
    "plt.title(\"thickness of folded paper\")\n",
    "plt.xlabel(\"number of folds\")\n",
    "plt.ylabel(\"thickness[m]\")\n",
    "plt.text(40,-0.5, \"rise from about 35\") # 指定した座標の上にテキストを追加\n",
    "#plt.scatter(x, result, label=\"result\")\n",
    "plt.grid()\n",
    "plt.plot(X,Y,\"r\",marker='o',label=\"result\")\n",
    "plt.legend()\n",
    "plt.show()\n",
    "print(\"約35から急上昇している\")"
   ]
  },
  {
   "cell_type": "code",
   "execution_count": null,
   "metadata": {},
   "outputs": [],
   "source": []
  }
 ],
 "metadata": {
  "kernelspec": {
   "display_name": "Python 3",
   "language": "python",
   "name": "python3"
  },
  "language_info": {
   "codemirror_mode": {
    "name": "ipython",
    "version": 3
   },
   "file_extension": ".py",
   "mimetype": "text/x-python",
   "name": "python",
   "nbconvert_exporter": "python",
   "pygments_lexer": "ipython3",
   "version": "3.6.5"
  }
 },
 "nbformat": 4,
 "nbformat_minor": 2
}
