{
 "cells": [
  {
   "cell_type": "markdown",
   "metadata": {},
   "source": [
    "### Week2 授業前課題3 行列積のスクラッチ"
   ]
  },
  {
   "cell_type": "code",
   "execution_count": null,
   "metadata": {},
   "outputs": [],
   "source": [
    "a_ndarray = np.array([[-1, 2, 3], \n",
    "                      [4, -5, 6], \n",
    "                      [7, 8, -9]])\n",
    "\n",
    "b_ndarray = np.array([[0, 2, 1],\n",
    "                      [0, 2, -8],\n",
    "                      [2, 9, -1]])"
   ]
  },
  {
   "cell_type": "markdown",
   "metadata": {},
   "source": [
    "### 【問題1】行列積を手計算する¶\n",
    "AとBの行列積を手計算で解いてください。 計算過程もマークダウンテキストを用いて説明してください。"
   ]
  },
  {
   "cell_type": "markdown",
   "metadata": {},
   "source": [
    "A×B = [[-1×0 + 2×0 + 3×2 , -1×2 + 2×2 + 3×9 , -1×1 + 2×(-8) + 3×(-1)], [4×0 + (-5)×0 + 6×2 , 4×2 + (-5)×2 + 6×9 , 4×1 + (-5)× (-8) + 6×(-1)], [7×0 + 8×0 + (-9)×2 , 7×2 + 8×2 + (-9)×9 , 7×1 + 8×(-8) + (-9)×(-1)]]\n",
    "\n",
    "= [[6, 29, -20], [12, 52, 38], [-18, -51, -48]]"
   ]
  },
  {
   "cell_type": "markdown",
   "metadata": {},
   "source": [
    "### 【問題2】NumPyの関数による計算\n",
    "この行列積はNumPyのnp.matmul()やnp.dot()、または@演算子を使うことで簡単に計算できます。\n",
    "\n",
    "これらを使い行列積を計算してください。\n",
    "\n",
    "■3種類の違い\n",
    "\n",
    "np.matmul()とnp.dot()は3次元以上の配列で挙動が変わります。@演算子はnp.matmul()と同じ働きをします。\n",
    "\n",
    "今回のような2次元配列の行列積ではnp.matmul()や@演算子が公式に推奨されています。"
   ]
  },
  {
   "cell_type": "code",
   "execution_count": 72,
   "metadata": {},
   "outputs": [
    {
     "name": "stdout",
     "output_type": "stream",
     "text": [
      "[[  6  29 -20]\n",
      " [ 12  52  38]\n",
      " [-18 -51 -48]]\n",
      "[[  6  29 -20]\n",
      " [ 12  52  38]\n",
      " [-18 -51 -48]]\n",
      "[[  6  29 -20]\n",
      " [ 12  52  38]\n",
      " [-18 -51 -48]]\n"
     ]
    }
   ],
   "source": [
    "#問題２\n",
    "import numpy as np\n",
    "def func_naiseki_a(def_array1, def_array2):\n",
    "    return def_array1 @ def_array2\n",
    "def func_naiseki_matmul(def_array1, def_array2):\n",
    "    return np.matmul(def_array1,def_array2)\n",
    "def func_naiseki_dot(def_array1, def_array2):\n",
    "    return np.dot(def_array1,def_array2)\n",
    "\n",
    "a_ndarray = np.array([[-1, 2, 3], [4, -5, 6], [7, 8, -9]])\n",
    "b_ndarray = np.array([[0, 2, 1], [0, 2, -8], [2, 9, -1]])\n",
    "\n",
    "result_naiseki_a = func_naiseki_a(a_ndarray, b_ndarray) \n",
    "result_naiseki_matmul = func_naiseki_matmul(a_ndarray, b_ndarray) \n",
    "result_naiseki_dot = func_naiseki_dot(a_ndarray, b_ndarray) \n",
    "\n",
    "print(result_naiseki_a)\n",
    "print(result_naiseki_matmul)\n",
    "print(result_naiseki_dot)\n"
   ]
  },
  {
   "cell_type": "markdown",
   "metadata": {},
   "source": [
    "### 【問題3】ある要素の計算を実装¶\n",
    "手計算をする際はまず行列Aの0行目と行列Bの0列目に注目し、以下の計算を行ったかと思います。\n",
    "\n",
    "・行列Aの(0,0)の要素a0,0と行列Bの(0,0)の要素b0,0を掛け合わせる\n",
    "・行列Aの(0,1)の要素a0,1と行列Bの(1,0)の要素a1,0を掛け合わせる\n",
    "・行列Aの(0,2)の要素a0,2と行列Bの(2,0)の要素a2,0を掛け合わせる\n",
    "・それらの値を全て足し合わせる\n",
    "この計算をnp.matmul()やnp.dot()、または@演算子を使わずに行うコードを書いてください。"
   ]
  },
  {
   "cell_type": "code",
   "execution_count": 73,
   "metadata": {},
   "outputs": [
    {
     "data": {
      "text/plain": [
       "array([[  6,  29, -20],\n",
       "       [ 12,  52,  38],\n",
       "       [-18, -51, -48]])"
      ]
     },
     "execution_count": 73,
     "metadata": {},
     "output_type": "execute_result"
    }
   ],
   "source": [
    "#問題３\n",
    "def func_naiseki_manual(def_array1, def_array2):\n",
    "        def_ary_0_0 = def_array1[0,0]*def_array2[0,0] + def_array1[0,1]*def_array2[1,0] + def_array1[0,2]*def_array2[2,0]\n",
    "        def_ary_1_0 = def_array1[1,0]*def_array2[0,0] + def_array1[1,1]*def_array2[1,0] + def_array1[1,2]*def_array2[2,0]\n",
    "        def_ary_2_0 = def_array1[2,0]*def_array2[0,0] + def_array1[2,1]*def_array2[1,0] + def_array1[2,2]*def_array2[2,0]\n",
    "        \n",
    "        def_ary_0_1 = def_array1[0,0]*def_array2[0,1] + def_array1[0,1]*def_array2[1,1] + def_array1[0,2]*def_array2[2,1]\n",
    "        def_ary_1_1 = def_array1[1,0]*def_array2[0,1] + def_array1[1,1]*def_array2[1,1] + def_array1[1,2]*def_array2[2,1]\n",
    "        def_ary_2_1 = def_array1[2,0]*def_array2[0,1] + def_array1[2,1]*def_array2[1,1] + def_array1[2,2]*def_array2[2,1]\n",
    "        \n",
    "        def_ary_0_2 = def_array1[0,0]*def_array2[0,2] + def_array1[0,1]*def_array2[1,2] + def_array1[0,2]*def_array2[2,2]\n",
    "        def_ary_1_2 = def_array1[1,0]*def_array2[0,2] + def_array1[1,1]*def_array2[1,2] + def_array1[1,2]*def_array2[2,2]\n",
    "        def_ary_2_2 = def_array1[2,0]*def_array2[0,2] + def_array1[2,1]*def_array2[1,2] + def_array1[2,2]*def_array2[2,2]\n",
    "\n",
    "        def_result_array = np.array([[def_ary_0_0,def_ary_0_1,def_ary_0_2],\n",
    "                                    [def_ary_1_0,def_ary_1_1,def_ary_1_2],\n",
    "                                    [def_ary_2_0,def_ary_2_1,def_ary_2_2]])        \n",
    "        return def_result_array\n",
    "result_array = func_naiseki_manual(a_ndarray, b_ndarray)\n",
    "result_array"
   ]
  },
  {
   "cell_type": "markdown",
   "metadata": {},
   "source": [
    "### 【問題4】行列積を行う関数の作成¶\n",
    "問題3のコードを拡張し、行列積のスクラッチ実装を完成させてください。行列AとBを引数に受け取り、行列積を返す関数としてください。 行列積を計算する場合は、問題3の計算を異なる行や列に対して繰り返していくことになります。 計算結果である 3×3 の行列Cの各要素 cij は数式で表すと次のようになります。 for文を使い、ndarrayのインデックスを動かしていくことで、合計9つの要素が計算できます。インデックス iやjを1増やすと、次の行や列に移ることができます。"
   ]
  },
  {
   "cell_type": "code",
   "execution_count": 74,
   "metadata": {},
   "outputs": [
    {
     "data": {
      "text/plain": [
       "array([[  6.,  29., -20.],\n",
       "       [ 12.,  52.,  38.],\n",
       "       [-18., -51., -48.]])"
      ]
     },
     "execution_count": 74,
     "metadata": {},
     "output_type": "execute_result"
    }
   ],
   "source": [
    "#問題４\n",
    "def func_naiseki_manual2(def_array1, def_array2):\n",
    "        def_result_array = np.zeros(def_array1.shape[0]*def_array2.shape[1]).reshape(def_array1.shape[0],def_array2.shape[1])\n",
    "        \n",
    "        row=0\n",
    "        col=0\n",
    "        for row in range(def_array1.shape[0]):\n",
    "            for col in range(def_array2.shape[1]):\n",
    "                for kou in range(def_array1.shape[1]):\n",
    "                    def_result_array[row,col] += def_array1[row,kou]*def_array2[kou,col]\n",
    "                col += 1\n",
    "            row +=1\n",
    "        return def_result_array\n",
    "result_array = func_naiseki_manual2(a_ndarray, b_ndarray)\n",
    "result_array"
   ]
  },
  {
   "cell_type": "markdown",
   "metadata": {},
   "source": [
    "### 【問題5】計算が定義されない入力を判定する\n",
    "問題4で作成した関数は、実装方法によってはこのDとEの配列を入力しても動いてしまう可能性があります。この場合、不適切な計算が行われることになります。また、途中でエラーになる場合でも、なぜエラーになったかが直接的には分かりづらいメッセージが表示されます。 if文などによってこれを防ぎ、入力される形に問題があることをprint()を使い表示するコードを書き加えてください。"
   ]
  },
  {
   "cell_type": "code",
   "execution_count": 75,
   "metadata": {},
   "outputs": [
    {
     "name": "stdout",
     "output_type": "stream",
     "text": [
      "Can't calcurate. Because array1's columns don't equal to array2's raws\n"
     ]
    }
   ],
   "source": [
    "#問題５\n",
    "def func_naiseki_manual3(def_array1, def_array2):\n",
    "        def_result_array = np.zeros(def_array1.shape[0]*def_array2.shape[1]).reshape(def_array1.shape[0],def_array2.shape[1])\n",
    "        if def_array1.shape[1] != def_array2.shape[0]:\n",
    "            return print(\"Can't calcurate. Because array1's columns don't equal to array2's raws\") \n",
    "        else:\n",
    "            row=0\n",
    "            col=0\n",
    "            for row in range(def_array1.shape[0]):\n",
    "                for col in range(def_array2.shape[1]):\n",
    "                    for kou in range(def_array1.shape[1]):\n",
    "                        def_result_array[row,col] += def_array1[row,kou]*def_array2[kou,col]\n",
    "                    col += 1\n",
    "                row +=1\n",
    "            return def_result_array\n",
    "\n",
    "d_ndarray_ = np.array([[-1, 2, 3], \n",
    "                       [4, -5, 6]])\n",
    "e_ndarray = np.array([[-9, 8, 7], \n",
    "                      [6, -5, 4]])\n",
    "result_array = func_naiseki_manual3(d_ndarray_, e_ndarray)\n",
    "result_array"
   ]
  },
  {
   "cell_type": "markdown",
   "metadata": {},
   "source": [
    "### 【問題6】転置¶\n",
    "片方の行列を転置することで、行列積が計算できるようになります。 np.transpose()や.Tアトリビュートを用いて転置し、行列積を計算してください。"
   ]
  },
  {
   "cell_type": "code",
   "execution_count": 76,
   "metadata": {},
   "outputs": [
    {
     "data": {
      "text/plain": [
       "array([[ 33., -28.,   9.],\n",
       "       [-48.,  41.,  -6.],\n",
       "       [  9.,  -6.,  45.]])"
      ]
     },
     "execution_count": 76,
     "metadata": {},
     "output_type": "execute_result"
    }
   ],
   "source": [
    "#問題６\n",
    "result_array = func_naiseki_manual3(d_ndarray_.T, e_ndarray)\n",
    "result_array"
   ]
  }
 ],
 "metadata": {
  "kernelspec": {
   "display_name": "Python 3",
   "language": "python",
   "name": "python3"
  },
  "language_info": {
   "codemirror_mode": {
    "name": "ipython",
    "version": 3
   },
   "file_extension": ".py",
   "mimetype": "text/x-python",
   "name": "python",
   "nbconvert_exporter": "python",
   "pygments_lexer": "ipython3",
   "version": "3.6.5"
  }
 },
 "nbformat": 4,
 "nbformat_minor": 2
}
